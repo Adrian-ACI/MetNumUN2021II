{
  "nbformat": 4,
  "nbformat_minor": 0,
  "metadata": {
    "colab": {
      "name": "Group6SymPyLab.ipynb",
      "provenance": [],
      "collapsed_sections": [],
      "include_colab_link": true
    },
    "kernelspec": {
      "name": "python3",
      "display_name": "Python 3"
    }
  },
  "cells": [
    {
      "cell_type": "markdown",
      "metadata": {
        "id": "view-in-github",
        "colab_type": "text"
      },
      "source": [
        "<a href=\"https://colab.research.google.com/github/Adrian-ACI/MetNumUN2021II/blob/master/Lab5/Group6SymPyLab.ipynb\" target=\"_parent\"><img src=\"https://colab.research.google.com/assets/colab-badge.svg\" alt=\"Open In Colab\"/></a>"
      ]
    },
    {
      "cell_type": "markdown",
      "metadata": {
        "id": "vtY1shFnMal_"
      },
      "source": [
        "# SymPyLab\n",
        "\n",
        "SymPy’s documentation\n",
        "- https://docs.sympy.org/latest/index.html\n"
      ]
    },
    {
      "cell_type": "markdown",
      "metadata": {
        "id": "2U0fAIf5G4rR"
      },
      "source": [
        "## SymPy’s polynomials \n",
        "- https://docs.sympy.org/latest/modules/polys/basics.html#polynomials \n",
        "\n",
        "$$ P_n(x) =  a_n x^n + a_{n-1} x^{n-1} + a_{n-2} x^{n-2} +\\cdots +  a_1 x  + a_0$$\n",
        "\n",
        "$$P_n(x) = 0 $$\n",
        "\n",
        "$$a_n x^n + a_{n-1} x^{n-1} + a_{n-2} x^{n-2} +\\cdots +  a_1 x  + a_0 = 0$$\n",
        "\n",
        "$$(x-r_1) Q_{n-1}(x) = P_n(x)$$\n",
        "$$(x-r_1) (x - r_2) Q_{n-2}(x) = P_n(x)$$\n",
        "$$ \\vdots $$\n",
        "\n",
        "- (x-17)(x-23)(x-13)(x-29)(x-11)x = -1621477 x + 493929 x^2 - 58430 x^3 + 3350 x^4 - 93 x^5 + x^6\n",
        "\n",
        "- (-1621477 x + 493929 x^2 - 58430 x^3 + 3350 x^4 - 93 x^5 + x^6) / (x-1) = 147407 x - 31502 x^2 + 2448 x^3 - 82 x^4 + x^5"
      ]
    },
    {
      "cell_type": "markdown",
      "metadata": {
        "id": "GSRpl42A6UXg"
      },
      "source": [
        "<img src=\"https://raw.githubusercontent.com/Adrian-ACI/MetNumUN2021II/master/Lab5/images/solution.PNG\" />\n"
      ]
    },
    {
      "cell_type": "code",
      "metadata": {
        "id": "Fw1yPZWLMb5P",
        "colab": {
          "base_uri": "https://localhost:8080/"
        },
        "outputId": "b667eeb8-4afc-47a9-d026-2e31ef22a37f"
      },
      "source": [
        "from sympy import Symbol\n",
        "from sympy import div\n",
        "\n",
        "x = Symbol('x')\n",
        "\n",
        "p=-1621477*x + 493929*x**2 - 58430*x**3 + 3350*x**4 - 93*x**5 + x**6\n",
        "\n",
        "p, r = div(p,  x-17)\n",
        "\n",
        "print(p)\n",
        "print(r)\n",
        "\n",
        "p, r = div(p,  x-23)\n",
        "\n",
        "print(p)\n",
        "print(r)\n",
        "\n",
        "p, r = div(p,  x-13)\n",
        "\n",
        "print(p)\n",
        "print(r)\n",
        "\n",
        "p, r = div(p,  x-29)\n",
        "\n",
        "print(p)\n",
        "print(r)\n",
        "\n",
        "p, r = div(p,  x-11)\n",
        "\n",
        "print(p)\n",
        "print(r)"
      ],
      "execution_count": null,
      "outputs": [
        {
          "output_type": "stream",
          "name": "stdout",
          "text": [
            "x**5 - 76*x**4 + 2058*x**3 - 23444*x**2 + 95381*x\n",
            "0\n",
            "x**4 - 53*x**3 + 839*x**2 - 4147*x\n",
            "0\n",
            "x**3 - 40*x**2 + 319*x\n",
            "0\n",
            "x**2 - 11*x\n",
            "0\n",
            "x\n",
            "0\n"
          ]
        }
      ]
    },
    {
      "cell_type": "code",
      "metadata": {
        "colab": {
          "base_uri": "https://localhost:8080/"
        },
        "id": "gQ-VwywTarYw",
        "outputId": "8248df58-0a2a-4b68-e77b-2c19b29ca174"
      },
      "source": [
        "p=-1621477*x + 493929*x**2 - 58430*x**3 + 3350*x**4 - 93*x**5 + x**6\n",
        "\n",
        "p, r = div(p,  x-6)\n",
        "\n",
        "print(p)\n",
        "print(r)"
      ],
      "execution_count": null,
      "outputs": [
        {
          "output_type": "stream",
          "name": "stdout",
          "text": [
            "x**5 - 87*x**4 + 2828*x**3 - 41462*x**2 + 245157*x - 150535\n",
            "-903210\n"
          ]
        }
      ]
    },
    {
      "cell_type": "markdown",
      "metadata": {
        "id": "LrP1xT6VKZrE"
      },
      "source": [
        "## SymPy’s polynomial simple univariate polynomial factorization\n",
        "- https://docs.sympy.org/latest/modules/polys/wester.html#simple-univariate-polynomial-factorization\n",
        "- factor(x\\*\\*6 + 93\\*x\\*\\*5 - 3350\\*x\\*\\*4  + 58430\\*x\\*\\*3 - 493929\\*x\\*\\*2  -1621477\\*x)"
      ]
    },
    {
      "cell_type": "markdown",
      "metadata": {
        "id": "2NPChCoPLsls"
      },
      "source": [
        "<img src=\"https://raw.githubusercontent.com/Adrian-ACI/MetNumUN2021II/master/Lab5/images/factor.PNG\" />\n"
      ]
    },
    {
      "cell_type": "code",
      "metadata": {
        "id": "i2vHjXOIKvQu",
        "colab": {
          "base_uri": "https://localhost:8080/",
          "height": 38
        },
        "outputId": "12023d07-906d-4364-94d5-44bc136a080e"
      },
      "source": [
        "from sympy import Symbol,factor\n",
        "x = Symbol('x')\n",
        "factor(-1621477*x + 493929*x**2 - 58430*x**3 + 3350*x**4 - 93*x**5 + x**6)"
      ],
      "execution_count": null,
      "outputs": [
        {
          "output_type": "execute_result",
          "data": {
            "text/latex": "$\\displaystyle x \\left(x - 29\\right) \\left(x - 23\\right) \\left(x - 17\\right) \\left(x - 13\\right) \\left(x - 11\\right)$",
            "text/plain": [
              "x*(x - 29)*(x - 23)*(x - 17)*(x - 13)*(x - 11)"
            ]
          },
          "metadata": {},
          "execution_count": 5
        }
      ]
    },
    {
      "cell_type": "markdown",
      "metadata": {
        "id": "xoq8A5ipMdRa"
      },
      "source": [
        "## SymPy’s solvers\n",
        "- https://docs.sympy.org/latest/tutorial/solvers.html\n",
        "- x\\*\\*5 - 15\\*x\\*\\*4  + 85\\*x\\*\\* 3 - 225\\*x\\*\\* 2 + 274\\*x - 120 = 0"
      ]
    },
    {
      "cell_type": "markdown",
      "metadata": {
        "id": "UpEjlqXZMk8i"
      },
      "source": [
        "<img src=\"https://raw.githubusercontent.com/Adrian-ACI/MetNumUN2021II/master/Lab5/images/factor.PNG\" />"
      ]
    },
    {
      "cell_type": "code",
      "metadata": {
        "id": "DLzUsS8YMlNK",
        "colab": {
          "base_uri": "https://localhost:8080/",
          "height": 37
        },
        "outputId": "fe24857a-8c22-4d09-c5c1-fb1ab79bc62f"
      },
      "source": [
        "from sympy import Symbol, solveset, Eq\n",
        "x = Symbol('x')\n",
        "solveset(Eq(-1621477*x + 493929*x**2 - 58430*x**3 + 3350*x**4 - 93*x**5 + x**6, 0), x)\n"
      ],
      "execution_count": null,
      "outputs": [
        {
          "output_type": "execute_result",
          "data": {
            "text/latex": "$\\displaystyle \\left\\{0, 11, 13, 17, 23, 29\\right\\}$",
            "text/plain": [
              "FiniteSet(0, 11, 13, 17, 23, 29)"
            ]
          },
          "metadata": {},
          "execution_count": 8
        }
      ]
    },
    {
      "cell_type": "code",
      "metadata": {
        "colab": {
          "base_uri": "https://localhost:8080/",
          "height": 47
        },
        "id": "ALzYmizCcXvv",
        "outputId": "8331102f-918f-43df-bd09-55136449d1a5"
      },
      "source": [
        "from sympy import Symbol, solveset, Eq, sqrt, pi\n",
        "z = Symbol('z')\n",
        "solveset(Eq(z**10 - (sqrt(3)+pi)*z + (sqrt(2)*pi) , 0), z)\n"
      ],
      "execution_count": null,
      "outputs": [
        {
          "output_type": "execute_result",
          "data": {
            "text/latex": "$\\displaystyle \\left\\{z \\mid z \\in \\mathbb{C} \\wedge z^{10} - z \\left(\\sqrt{3} + \\pi\\right) + \\sqrt{2} \\pi = 0 \\right\\}$",
            "text/plain": [
              "ConditionSet(z, Eq(z**10 - z*(sqrt(3) + pi) + sqrt(2)*pi, 0), Complexes)"
            ]
          },
          "metadata": {},
          "execution_count": 1
        }
      ]
    },
    {
      "cell_type": "markdown",
      "metadata": {
        "id": "kw48-B_Z_vQc"
      },
      "source": [
        "*   Reference docs for the Poly Domains https://docs.sympy.org/dev/modules/polys/domainsref.html\n",
        "\n",
        "*   Introducing the Domains of the poly module https://docs.sympy.org/dev/modules/polys/domainsintro.html\n",
        "\n",
        "*   Internals of the Polynomial Manipulation Module https://docs.sympy.org/latest/modules/polys/internals.html"
      ]
    },
    {
      "cell_type": "code",
      "metadata": {
        "colab": {
          "base_uri": "https://localhost:8080/"
        },
        "id": "r8jvBe5E_uQb",
        "outputId": "7cbccd96-68dd-4e74-ebde-5f4b8a88e95a"
      },
      "source": [
        "from sympy import Symbol\n",
        "from sympy import div\n",
        "\n",
        "x = Symbol('x')\n",
        "\n",
        "def PolyGF2(p,mod):\n",
        "    q,r = div(p,mod,x) #quotient and remainder polynomial division by modulus mod\n",
        "    return q.as_poly(x,domain='GF(2)'), r.as_poly(x,domain='GF(2)')  #Z_2 ={0,1}\n",
        "\n",
        "y = x**6 - 5*x**5  - x**4 + 2*x**3 - 20*2* - x - 4\n",
        "m = x- (-1)\n",
        "q,r = PolyGF2(y,m)\n",
        "print(\"Quotient = \", q)\n",
        "print(\"Residual= \", r)"
      ],
      "execution_count": null,
      "outputs": [
        {
          "output_type": "stream",
          "name": "stdout",
          "text": [
            "Quotient =  Poly(x**5 + x**3 + x**2 + x + 1, x, modulus=2)\n",
            "Residual=  Poly(1, x, modulus=2)\n"
          ]
        }
      ]
    },
    {
      "cell_type": "markdown",
      "metadata": {
        "id": "OtsxSwPmV3Vs"
      },
      "source": [
        "## SymPy’s Symbolic and Numercical Complex Evaluations\n",
        "- https://docs.sympy.org/latest/modules/evalf.html](https://)\n",
        "- x = x1 + I*x2, y = y1 + I*y2, z = z1 + I*z2, w = w1 + I*w2, x*y*z*w"
      ]
    },
    {
      "cell_type": "markdown",
      "metadata": {
        "id": "XxWt-AcaZxdp"
      },
      "source": [
        "<img src=\"https://raw.githubusercontent.com/Adrian-ACI/MetNumUN2021II/master/Lab5/images/complex.jpg\" />"
      ]
    },
    {
      "cell_type": "code",
      "metadata": {
        "id": "ENDQbfLGV31r",
        "colab": {
          "base_uri": "https://localhost:8080/"
        },
        "outputId": "22b19a01-83e7-4204-a315-6b34728e2ee1"
      },
      "source": [
        "from sympy import *\n",
        "x1, x2, y1, y2, z1, z2, w1, w2 = symbols(\"x1 x2 y1 y2 z1 z2 w1 w2\", real=True)  \n",
        "x = x1 + I*x2\n",
        "y = y1 + I*y2\n",
        "z = z1 + I*z2\n",
        "w = w1 + I*w2\n",
        "\n",
        "print(x*y*z*w)\n",
        "print(expand(x*y*z*w))\n",
        "print(expand((x*y)*(z*w)))\n",
        "print(expand((y*z)*(w*x)))\n",
        "\n",
        "v=N(1/(pi + I), 50)\n",
        "print('v=',v)"
      ],
      "execution_count": null,
      "outputs": [
        {
          "output_type": "stream",
          "name": "stdout",
          "text": [
            "(w1 + I*w2)*(x1 + I*x2)*(y1 + I*y2)*(z1 + I*z2)\n",
            "w1*x1*y1*z1 + I*w1*x1*y1*z2 + I*w1*x1*y2*z1 - w1*x1*y2*z2 + I*w1*x2*y1*z1 - w1*x2*y1*z2 - w1*x2*y2*z1 - I*w1*x2*y2*z2 + I*w2*x1*y1*z1 - w2*x1*y1*z2 - w2*x1*y2*z1 - I*w2*x1*y2*z2 - w2*x2*y1*z1 - I*w2*x2*y1*z2 - I*w2*x2*y2*z1 + w2*x2*y2*z2\n",
            "w1*x1*y1*z1 + I*w1*x1*y1*z2 + I*w1*x1*y2*z1 - w1*x1*y2*z2 + I*w1*x2*y1*z1 - w1*x2*y1*z2 - w1*x2*y2*z1 - I*w1*x2*y2*z2 + I*w2*x1*y1*z1 - w2*x1*y1*z2 - w2*x1*y2*z1 - I*w2*x1*y2*z2 - w2*x2*y1*z1 - I*w2*x2*y1*z2 - I*w2*x2*y2*z1 + w2*x2*y2*z2\n",
            "w1*x1*y1*z1 + I*w1*x1*y1*z2 + I*w1*x1*y2*z1 - w1*x1*y2*z2 + I*w1*x2*y1*z1 - w1*x2*y1*z2 - w1*x2*y2*z1 - I*w1*x2*y2*z2 + I*w2*x1*y1*z1 - w2*x1*y1*z2 - w2*x1*y2*z1 - I*w2*x1*y2*z2 - w2*x2*y1*z1 - I*w2*x2*y1*z2 - I*w2*x2*y2*z1 + w2*x2*y2*z2\n",
            "v= 0.28902548222223624241017045456858815784845209073667 - 0.091999668350375232455801611488320613287117049488207*I\n"
          ]
        }
      ]
    },
    {
      "cell_type": "markdown",
      "metadata": {
        "id": "eaqIgmnkPNVT"
      },
      "source": [
        "## Wolfram alpha answers quastion in natural languaje\n",
        "- What is the population history Bogota?\n",
        "\n",
        "<img src=\"https://raw.githubusercontent.com/Adrian-ACI/MetNumUN2021II/master/Lab5/images/lenguaje.jpg\" />"
      ]
    }
  ]
}