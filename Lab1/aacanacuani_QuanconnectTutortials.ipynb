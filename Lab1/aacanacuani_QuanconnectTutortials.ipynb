{
  "nbformat": 4,
  "nbformat_minor": 0,
  "metadata": {
    "colab": {
      "name": "aacanacuani_QuanconnectTutortials.ipynb",
      "provenance": [],
      "collapsed_sections": [],
      "include_colab_link": true
    },
    "kernelspec": {
      "display_name": "Python 3",
      "language": "python",
      "name": "python3"
    },
    "language_info": {
      "codemirror_mode": {
        "name": "ipython",
        "version": 3
      },
      "file_extension": ".py",
      "mimetype": "text/x-python",
      "name": "python",
      "nbconvert_exporter": "python",
      "pygments_lexer": "ipython3",
      "version": "3.6.4"
    }
  },
  "cells": [
    {
      "cell_type": "markdown",
      "metadata": {
        "id": "view-in-github",
        "colab_type": "text"
      },
      "source": [
        "<a href=\"https://colab.research.google.com/github/Adrian-ACI/MetNumUN2021II/blob/master/Lab1/aacanacuani_QuanconnectTutortials.ipynb\" target=\"_parent\"><img src=\"https://colab.research.google.com/assets/colab-badge.svg\" alt=\"Open In Colab\"/></a>"
      ]
    },
    {
      "cell_type": "markdown",
      "metadata": {
        "id": "eQzBbvyKQymx"
      },
      "source": [
        "<div align=\"center\">\n",
        "<img style=\"display: block; margin: auto;\" alt=\"photo\" src=\"https://cdn.quantconnect.com/web/i/icon.png\">\n",
        "\n",
        "Quantconnect\n",
        "\n",
        "Introduction to Financial Python\n",
        "</div>\n",
        "\n",
        "# 01 Data Types and Data Structures\n",
        "\n",
        "# Introduction\n",
        "\n",
        "This tutorial provides a basic introduction to the Python programming language. If you are new to Python, you should run the code snippets while reading this tutorial. If you are an advanced Python user, please feel free to skip this chapter.\n",
        "\n",
        "# Basic Variable Types\n",
        "The basic types of variables in Python are: strings, integers, floating point numbers and booleans.\n",
        "\n",
        "Strings in python are identified as a contiguous set of characters represented in either single quotes (' ') or double quotes (\" \").\n"
      ]
    },
    {
      "cell_type": "code",
      "metadata": {
        "colab": {
          "base_uri": "https://localhost:8080/"
        },
        "id": "N5t-UrcfOqid",
        "outputId": "9433af80-8611-4f30-cda2-1cf85f421c5b"
      },
      "source": [
        "my_string1 = 'Welcome to'\n",
        "my_string2 = \"QuantConnect\"\n",
        "print(my_string1 + ' ' + my_string2)"
      ],
      "execution_count": 175,
      "outputs": [
        {
          "output_type": "stream",
          "name": "stdout",
          "text": [
            "Welcome to QuantConnect\n"
          ]
        }
      ]
    },
    {
      "cell_type": "code",
      "metadata": {
        "colab": {
          "base_uri": "https://localhost:8080/"
        },
        "id": "lIb0gy-3C894",
        "outputId": "cf0a3dd2-7a7b-4785-eda6-48ba9e933991"
      },
      "source": [
        "my_string1 = 'Bienvendo'\n",
        "my_string2 = \"Adrian\"\n",
        "print(my_string1 + ' ' + my_string2)"
      ],
      "execution_count": 176,
      "outputs": [
        {
          "output_type": "stream",
          "name": "stdout",
          "text": [
            "Bienvendo Adrian\n"
          ]
        }
      ]
    },
    {
      "cell_type": "markdown",
      "metadata": {
        "id": "bXHnxZyHSd1M"
      },
      "source": [
        "An integer is a round number with no values after the decimal point."
      ]
    },
    {
      "cell_type": "code",
      "metadata": {
        "colab": {
          "base_uri": "https://localhost:8080/"
        },
        "id": "pNjuz3toOqif",
        "outputId": "643c99fa-9390-42c3-d96e-8995bed229b2"
      },
      "source": [
        "my_int = 10\n",
        "print(my_int)\n",
        "print(type(my_int))"
      ],
      "execution_count": 177,
      "outputs": [
        {
          "output_type": "stream",
          "name": "stdout",
          "text": [
            "10\n",
            "<class 'int'>\n"
          ]
        }
      ]
    },
    {
      "cell_type": "code",
      "metadata": {
        "colab": {
          "base_uri": "https://localhost:8080/"
        },
        "id": "oRMNHnFzDHe3",
        "outputId": "861e30f1-f461-4a68-b4a0-c73acdb51729"
      },
      "source": [
        "my_int = 27\n",
        "print(my_int)\n",
        "print(type(my_int))"
      ],
      "execution_count": 178,
      "outputs": [
        {
          "output_type": "stream",
          "name": "stdout",
          "text": [
            "27\n",
            "<class 'int'>\n"
          ]
        }
      ]
    },
    {
      "cell_type": "markdown",
      "metadata": {
        "id": "_1ZanWrYSnzF"
      },
      "source": [
        "The built-in function int() can convert a string into an integer."
      ]
    },
    {
      "cell_type": "code",
      "metadata": {
        "colab": {
          "base_uri": "https://localhost:8080/"
        },
        "id": "zPwGb20FOqif",
        "outputId": "6809dc7d-bf20-4c67-dd77-4b83beb9eb5f"
      },
      "source": [
        "my_string = \"100\"\n",
        "print(type(my_string))\n",
        "my_int = int(my_string)\n",
        "print(type(my_int))"
      ],
      "execution_count": 179,
      "outputs": [
        {
          "output_type": "stream",
          "name": "stdout",
          "text": [
            "<class 'str'>\n",
            "<class 'int'>\n"
          ]
        }
      ]
    },
    {
      "cell_type": "code",
      "metadata": {
        "colab": {
          "base_uri": "https://localhost:8080/"
        },
        "id": "t2mwYCtizS3V",
        "outputId": "87b5a999-6efc-414a-939b-dc5cb520f3ca"
      },
      "source": [
        "my_string = \"11\"\n",
        "print(type(my_string))\n",
        "my_int = int(my_string)\n",
        "print(type(my_int))"
      ],
      "execution_count": 180,
      "outputs": [
        {
          "output_type": "stream",
          "name": "stdout",
          "text": [
            "<class 'str'>\n",
            "<class 'int'>\n"
          ]
        }
      ]
    },
    {
      "cell_type": "markdown",
      "metadata": {
        "id": "WqMDPDTHSrE9"
      },
      "source": [
        "A floating point number, or a float, is a real number in mathematics. In Python we need to include a value after a decimal point to define it as a float"
      ]
    },
    {
      "cell_type": "code",
      "metadata": {
        "colab": {
          "base_uri": "https://localhost:8080/"
        },
        "id": "otCzKKW9Oqig",
        "outputId": "52b56e7a-9d21-4622-85a1-31b69f8aa7e9"
      },
      "source": [
        "my_string = \"100\"\n",
        "my_float = float(my_string)\n",
        "print(type(my_float))"
      ],
      "execution_count": 181,
      "outputs": [
        {
          "output_type": "stream",
          "name": "stdout",
          "text": [
            "<class 'float'>\n"
          ]
        }
      ]
    },
    {
      "cell_type": "code",
      "metadata": {
        "colab": {
          "base_uri": "https://localhost:8080/"
        },
        "id": "KWCulb4_ziL_",
        "outputId": "92431128-de39-45c9-97bb-534ffe0c0104"
      },
      "source": [
        "my_string = \"2711\"\n",
        "my_float = float(my_string)\n",
        "print(type(my_float))"
      ],
      "execution_count": 182,
      "outputs": [
        {
          "output_type": "stream",
          "name": "stdout",
          "text": [
            "<class 'float'>\n"
          ]
        }
      ]
    },
    {
      "cell_type": "markdown",
      "metadata": {
        "id": "2iuyv8Q7StTJ"
      },
      "source": [
        "As you can see above, if we don't include a decimal value, the variable would be defined as an integer. The built-in function float() can convert a string or an integer into a float."
      ]
    },
    {
      "cell_type": "code",
      "metadata": {
        "colab": {
          "base_uri": "https://localhost:8080/"
        },
        "id": "wwLw5VthOqig",
        "outputId": "d207f2bb-25ae-4068-cf0f-968215631156"
      },
      "source": [
        "my_bool = False\n",
        "print(my_bool)\n",
        "print(type(my_bool))"
      ],
      "execution_count": 183,
      "outputs": [
        {
          "output_type": "stream",
          "name": "stdout",
          "text": [
            "False\n",
            "<class 'bool'>\n"
          ]
        }
      ]
    },
    {
      "cell_type": "code",
      "metadata": {
        "colab": {
          "base_uri": "https://localhost:8080/"
        },
        "id": "nHcFrXXb1Q68",
        "outputId": "903d077d-935c-4d81-cd6e-065d276e63d7"
      },
      "source": [
        "my_bool = True\n",
        "print(my_bool)\n",
        "print(type(my_bool))"
      ],
      "execution_count": 184,
      "outputs": [
        {
          "output_type": "stream",
          "name": "stdout",
          "text": [
            "True\n",
            "<class 'bool'>\n"
          ]
        }
      ]
    },
    {
      "cell_type": "markdown",
      "metadata": {
        "id": "bnGMwH21Szr_"
      },
      "source": [
        "A boolean, or bool, is a binary variable. Its value can only be True or False. It is useful when we do some logic operations, which would be covered in our next chapter."
      ]
    },
    {
      "cell_type": "code",
      "metadata": {
        "colab": {
          "base_uri": "https://localhost:8080/"
        },
        "id": "DMa6pDl5Oqig",
        "outputId": "9ecaf3de-89e4-42f6-c345-f702a7ecf138"
      },
      "source": [
        "print(\"Addition \", 1+1)\n",
        "print(\"Subtraction \", 5-2)\n",
        "print(\"Multiplication \", 2*3)\n",
        "print(\"Division \", 10/2)\n",
        "print('exponent', 2**3)"
      ],
      "execution_count": 185,
      "outputs": [
        {
          "output_type": "stream",
          "name": "stdout",
          "text": [
            "Addition  2\n",
            "Subtraction  3\n",
            "Multiplication  6\n",
            "Division  5.0\n",
            "exponent 8\n"
          ]
        }
      ]
    },
    {
      "cell_type": "code",
      "metadata": {
        "colab": {
          "base_uri": "https://localhost:8080/"
        },
        "id": "oj2zpcsC1eEn",
        "outputId": "7a69c131-5cd8-49cc-e741-7798ff19e712"
      },
      "source": [
        "print(\"Addition \", 33+1)\n",
        "print(\"Subtraction \", 52-2)\n",
        "print(\"Multiplication \", 2*8)\n",
        "print(\"Division \", 20/2)\n",
        "print('exponent', 2**5)"
      ],
      "execution_count": 186,
      "outputs": [
        {
          "output_type": "stream",
          "name": "stdout",
          "text": [
            "Addition  34\n",
            "Subtraction  50\n",
            "Multiplication  16\n",
            "Division  10.0\n",
            "exponent 32\n"
          ]
        }
      ]
    },
    {
      "cell_type": "markdown",
      "metadata": {
        "id": "1Xc9G9_sS2ju"
      },
      "source": [
        "# Basic Math Operations\n",
        "\n",
        "The basic math operators in python are demonstrated below:"
      ]
    },
    {
      "cell_type": "code",
      "metadata": {
        "colab": {
          "base_uri": "https://localhost:8080/"
        },
        "id": "KE9gUryAOqig",
        "outputId": "dcae7bcb-a974-4707-f13d-d2356cc6d76c"
      },
      "source": [
        "print(1/3)\n",
        "print(1.0/3)"
      ],
      "execution_count": 187,
      "outputs": [
        {
          "output_type": "stream",
          "name": "stdout",
          "text": [
            "0.3333333333333333\n",
            "0.3333333333333333\n"
          ]
        }
      ]
    },
    {
      "cell_type": "code",
      "metadata": {
        "colab": {
          "base_uri": "https://localhost:8080/"
        },
        "id": "mE3oXtkN6AuR",
        "outputId": "a05f04d1-878e-453d-9d9a-96933a86f1fa"
      },
      "source": [
        "print(2/5)\n",
        "print(2.0/5)"
      ],
      "execution_count": 188,
      "outputs": [
        {
          "output_type": "stream",
          "name": "stdout",
          "text": [
            "0.4\n",
            "0.4\n"
          ]
        }
      ]
    },
    {
      "cell_type": "markdown",
      "metadata": {
        "id": "AN5Oa3DoS_Nf"
      },
      "source": [
        "# Data Collections\n",
        "\n",
        "## List\n",
        "A list is an ordered collection of values. A list is mutable, which means you can change a list's value without changing the list itself. Creating a list is simply putting different comma-separated values between square brackets."
      ]
    },
    {
      "cell_type": "code",
      "metadata": {
        "colab": {
          "base_uri": "https://localhost:8080/"
        },
        "id": "-tQdNqCvOqig",
        "outputId": "2e185559-7240-48aa-b344-34a13b5e0e40"
      },
      "source": [
        "my_list = ['Quant', 'Connect', 1,2,3]\n",
        "print(my_list)"
      ],
      "execution_count": 189,
      "outputs": [
        {
          "output_type": "stream",
          "name": "stdout",
          "text": [
            "['Quant', 'Connect', 1, 2, 3]\n"
          ]
        }
      ]
    },
    {
      "cell_type": "code",
      "metadata": {
        "colab": {
          "base_uri": "https://localhost:8080/"
        },
        "id": "-oJJOjGP6VFA",
        "outputId": "ffa83176-eeeb-48dc-a28f-6d5bd13ef119"
      },
      "source": [
        "my_list = ['Metodos', 'Numericos', 2,0,2,1]\n",
        "print(my_list)"
      ],
      "execution_count": 190,
      "outputs": [
        {
          "output_type": "stream",
          "name": "stdout",
          "text": [
            "['Metodos', 'Numericos', 2, 0, 2, 1]\n"
          ]
        }
      ]
    },
    {
      "cell_type": "markdown",
      "metadata": {
        "id": "1O0TsgZCTHrM"
      },
      "source": [
        "The values in a list are called \"elements\". We can access list elements by indexing. Python index starts from 0. So if you have a list of length n, the index of the first element will be 0, and that of the last element will be n − 1. By the way, the length of a list can be obtained by the built-in function len()."
      ]
    },
    {
      "cell_type": "code",
      "metadata": {
        "colab": {
          "base_uri": "https://localhost:8080/"
        },
        "id": "QhuVhRR5Oqih",
        "outputId": "f6efb76e-e923-48a1-e801-a14ab4a0dd37"
      },
      "source": [
        "my_list = ['Quant', 'Connect', 1,2,3]\n",
        "print(len(my_list))\n",
        "print(my_list[0])\n",
        "print(my_list[len(my_list) -1])"
      ],
      "execution_count": 191,
      "outputs": [
        {
          "output_type": "stream",
          "name": "stdout",
          "text": [
            "5\n",
            "Quant\n",
            "3\n"
          ]
        }
      ]
    },
    {
      "cell_type": "code",
      "metadata": {
        "colab": {
          "base_uri": "https://localhost:8080/"
        },
        "id": "G2dPvf_j67wL",
        "outputId": "1026b6fe-b730-4288-8de6-c085e58f14b5"
      },
      "source": [
        "my_list = ['Metodos', 'Numericos', 2,0,2,1]\n",
        "print(len(my_list))\n",
        "print(my_list[1])\n",
        "print(my_list[len(my_list) -1])"
      ],
      "execution_count": 192,
      "outputs": [
        {
          "output_type": "stream",
          "name": "stdout",
          "text": [
            "6\n",
            "Numericos\n",
            "1\n"
          ]
        }
      ]
    },
    {
      "cell_type": "markdown",
      "metadata": {
        "id": "jgSZy1VGTKSc"
      },
      "source": [
        "You can also change the elements in the list by accessing an index and assigning a new value."
      ]
    },
    {
      "cell_type": "code",
      "metadata": {
        "colab": {
          "base_uri": "https://localhost:8080/"
        },
        "id": "NQBNLjAvOqih",
        "outputId": "883f4cb6-ddd0-4cd5-8a4c-2188ecbfa22f"
      },
      "source": [
        "my_list = ['Quant','Connect',1,2,3]\n",
        "my_list[2] = 'go'\n",
        "print(my_list)"
      ],
      "execution_count": 193,
      "outputs": [
        {
          "output_type": "stream",
          "name": "stdout",
          "text": [
            "['Quant', 'Connect', 'go', 2, 3]\n"
          ]
        }
      ]
    },
    {
      "cell_type": "code",
      "metadata": {
        "colab": {
          "base_uri": "https://localhost:8080/"
        },
        "id": "DsuSF_d09XF4",
        "outputId": "e900021e-5e72-4e41-8e00-8949744cfaab"
      },
      "source": [
        "my_list =['Metodos', 'Numericos', 2,0,2,1]\n",
        "my_list[2] = 'Python'\n",
        "print(my_list)"
      ],
      "execution_count": 194,
      "outputs": [
        {
          "output_type": "stream",
          "name": "stdout",
          "text": [
            "['Metodos', 'Numericos', 'Python', 0, 2, 1]\n"
          ]
        }
      ]
    },
    {
      "cell_type": "markdown",
      "metadata": {
        "id": "EQPs5ojoTVrk"
      },
      "source": [
        "A list can also be sliced with a colon:"
      ]
    },
    {
      "cell_type": "code",
      "metadata": {
        "colab": {
          "base_uri": "https://localhost:8080/"
        },
        "id": "keNX2RbtOqii",
        "outputId": "96888d83-81c4-479b-a83d-1f1b488fa372"
      },
      "source": [
        "my_list = ['Quant','Connect',1,2,3]\n",
        "print(my_list[1:3])"
      ],
      "execution_count": 195,
      "outputs": [
        {
          "output_type": "stream",
          "name": "stdout",
          "text": [
            "['Connect', 1]\n"
          ]
        }
      ]
    },
    {
      "cell_type": "code",
      "metadata": {
        "colab": {
          "base_uri": "https://localhost:8080/"
        },
        "id": "8G8RqXJ9-A3D",
        "outputId": "5fc68b56-4bb1-48ae-9c56-90cc9d1cb295"
      },
      "source": [
        "my_list = ['Metodos', 'Numericos', 2,0,2,1]\n",
        "print(my_list[0:5])"
      ],
      "execution_count": 196,
      "outputs": [
        {
          "output_type": "stream",
          "name": "stdout",
          "text": [
            "['Metodos', 'Numericos', 2, 0, 2]\n"
          ]
        }
      ]
    },
    {
      "cell_type": "markdown",
      "metadata": {
        "id": "AZqQd0K8TYul"
      },
      "source": [
        "The slice starts from the first element indicated, but excludes the last element indicated. Here we select all elements starting from index 1, which refers to the second element:"
      ]
    },
    {
      "cell_type": "code",
      "metadata": {
        "colab": {
          "base_uri": "https://localhost:8080/"
        },
        "id": "0-76sLfkOqii",
        "outputId": "d6d3bf82-b3ff-4d9c-9bd1-d88a9c53aef0"
      },
      "source": [
        "print(my_list[1:])"
      ],
      "execution_count": 197,
      "outputs": [
        {
          "output_type": "stream",
          "name": "stdout",
          "text": [
            "['Numericos', 2, 0, 2, 1]\n"
          ]
        }
      ]
    },
    {
      "cell_type": "code",
      "metadata": {
        "colab": {
          "base_uri": "https://localhost:8080/"
        },
        "id": "aP0CaI4u-6IU",
        "outputId": "30b8c17c-4f42-484e-b0bb-1c6361f35704"
      },
      "source": [
        "print(my_list[1:])"
      ],
      "execution_count": 198,
      "outputs": [
        {
          "output_type": "stream",
          "name": "stdout",
          "text": [
            "['Numericos', 2, 0, 2, 1]\n"
          ]
        }
      ]
    },
    {
      "cell_type": "markdown",
      "metadata": {
        "id": "XBqvhUdZVKWs"
      },
      "source": [
        "And all elements up to but excluding index 3:"
      ]
    },
    {
      "cell_type": "code",
      "metadata": {
        "colab": {
          "base_uri": "https://localhost:8080/"
        },
        "id": "5NWr75L9Oqii",
        "outputId": "c0f81a8f-8492-40d9-ada5-77c4e895dda6"
      },
      "source": [
        "print(my_list[:3])"
      ],
      "execution_count": 199,
      "outputs": [
        {
          "output_type": "stream",
          "name": "stdout",
          "text": [
            "['Metodos', 'Numericos', 2]\n"
          ]
        }
      ]
    },
    {
      "cell_type": "code",
      "metadata": {
        "colab": {
          "base_uri": "https://localhost:8080/"
        },
        "id": "Da5DMFcn_B5E",
        "outputId": "a2fa7061-ea89-4d7c-9a89-552e1a05c974"
      },
      "source": [
        "print(my_list[:4])"
      ],
      "execution_count": 200,
      "outputs": [
        {
          "output_type": "stream",
          "name": "stdout",
          "text": [
            "['Metodos', 'Numericos', 2, 0]\n"
          ]
        }
      ]
    },
    {
      "cell_type": "markdown",
      "metadata": {
        "id": "eAFmM6bkTZz9"
      },
      "source": [
        "If you wish to add or remove an element from a list, you can use the append() and remove() methods for lists as follows:"
      ]
    },
    {
      "cell_type": "code",
      "metadata": {
        "colab": {
          "base_uri": "https://localhost:8080/"
        },
        "id": "pHmgTPElTo19",
        "outputId": "60a4ac75-63a6-4a6b-b6b2-d6677dd75781"
      },
      "source": [
        "my_list = ['Hello', 'Quant']\n",
        "my_list.append('Hello')\n",
        "print(my_list)\n",
        "\n"
      ],
      "execution_count": 201,
      "outputs": [
        {
          "output_type": "stream",
          "name": "stdout",
          "text": [
            "['Hello', 'Quant', 'Hello']\n"
          ]
        }
      ]
    },
    {
      "cell_type": "code",
      "metadata": {
        "colab": {
          "base_uri": "https://localhost:8080/"
        },
        "id": "ZLdewQkfBkH3",
        "outputId": "b0f67164-d872-4a6f-c6bd-0371b4aa7110"
      },
      "source": [
        "my_list2 = ['Hola', 'Adrian']\n",
        "my_list2.append('Canacuan')\n",
        "print(my_list2)"
      ],
      "execution_count": 202,
      "outputs": [
        {
          "output_type": "stream",
          "name": "stdout",
          "text": [
            "['Hola', 'Adrian', 'Canacuan']\n"
          ]
        }
      ]
    },
    {
      "cell_type": "code",
      "metadata": {
        "colab": {
          "base_uri": "https://localhost:8080/"
        },
        "id": "4C4U1Yf0Tr8l",
        "outputId": "1ab3a310-29f5-4c52-bd61-ae51d22f4bbc"
      },
      "source": [
        "my_list.remove('Hello')\n",
        "print(my_list)"
      ],
      "execution_count": 203,
      "outputs": [
        {
          "output_type": "stream",
          "name": "stdout",
          "text": [
            "['Quant', 'Hello']\n"
          ]
        }
      ]
    },
    {
      "cell_type": "code",
      "metadata": {
        "colab": {
          "base_uri": "https://localhost:8080/"
        },
        "id": "ZvLXEhufDTR3",
        "outputId": "c55603b4-007d-42b5-81ad-bd85d88a8c66"
      },
      "source": [
        "my_list2.remove('Canacuan')\n",
        "print(my_list)"
      ],
      "execution_count": 204,
      "outputs": [
        {
          "output_type": "stream",
          "name": "stdout",
          "text": [
            "['Quant', 'Hello']\n"
          ]
        }
      ]
    },
    {
      "cell_type": "markdown",
      "metadata": {
        "id": "11W1gG-cVmOU"
      },
      "source": [
        "When there are repeated instances of \"Hello\", the first one is removed.\n",
        "\n",
        "## Tuple\n",
        "A tuple is a data structure type similar to a list. The difference is that a tuple is immutable, which means you can't change the elements in it once it's defined. We create a tuple by putting comma-separated values between parentheses."
      ]
    },
    {
      "cell_type": "code",
      "metadata": {
        "collapsed": true,
        "id": "vPmn6BAaOqii"
      },
      "source": [
        "my_tuple = ('Welcome','to','QuantConnect')"
      ],
      "execution_count": 205,
      "outputs": []
    },
    {
      "cell_type": "markdown",
      "metadata": {
        "id": "zMIme4dDV0Wz"
      },
      "source": [
        "Just like a list, a tuple can be sliced by using index."
      ]
    },
    {
      "cell_type": "code",
      "metadata": {
        "colab": {
          "base_uri": "https://localhost:8080/"
        },
        "id": "8P-ddO0sOqii",
        "outputId": "08e44197-2f40-4fc1-d8ec-95d5d25bc702"
      },
      "source": [
        "my_tuple = ('Welcome','to','QuantConnect')\n",
        "print(my_tuple[1:])"
      ],
      "execution_count": 206,
      "outputs": [
        {
          "output_type": "stream",
          "name": "stdout",
          "text": [
            "('to', 'QuantConnect')\n"
          ]
        }
      ]
    },
    {
      "cell_type": "code",
      "metadata": {
        "colab": {
          "base_uri": "https://localhost:8080/"
        },
        "id": "GCv1cO--QfNL",
        "outputId": "a76114ad-8d79-408b-e4ea-c49e3073d49f"
      },
      "source": [
        "my_tuple = ('Bienvenido','al','curso')\n",
        "print(my_tuple[1:])"
      ],
      "execution_count": 207,
      "outputs": [
        {
          "output_type": "stream",
          "name": "stdout",
          "text": [
            "('al', 'curso')\n"
          ]
        }
      ]
    },
    {
      "cell_type": "markdown",
      "metadata": {
        "id": "l2JqbusAV1Y2"
      },
      "source": [
        "## Set\n",
        "A set is an **unordered**  collection with **no duplicate** elements. The built-in function **set()** can be used to create sets."
      ]
    },
    {
      "cell_type": "code",
      "metadata": {
        "colab": {
          "base_uri": "https://localhost:8080/"
        },
        "id": "Plau8r-UOqij",
        "outputId": "92dcd21f-eb70-454a-ede6-ccf15464627a"
      },
      "source": [
        "stock_list = ['AAPL','GOOG','IBM','AAPL','IBM','FB','F','GOOG']\n",
        "stock_set = set(stock_list)\n",
        "print(stock_set)"
      ],
      "execution_count": 208,
      "outputs": [
        {
          "output_type": "stream",
          "name": "stdout",
          "text": [
            "{'F', 'GOOG', 'AAPL', 'IBM', 'FB'}\n"
          ]
        }
      ]
    },
    {
      "cell_type": "code",
      "metadata": {
        "colab": {
          "base_uri": "https://localhost:8080/"
        },
        "id": "WjnX3WkYTNmx",
        "outputId": "2e8c7754-40ee-4e01-8f3e-62d0b01c7c2e"
      },
      "source": [
        "stock_list = ['ACI','UNAL','ING','ACI','UNAL','FB','F','ING']\n",
        "stock_set = set(stock_list)\n",
        "print(stock_set)"
      ],
      "execution_count": 209,
      "outputs": [
        {
          "output_type": "stream",
          "name": "stdout",
          "text": [
            "{'F', 'ING', 'UNAL', 'FB', 'ACI'}\n"
          ]
        }
      ]
    },
    {
      "cell_type": "markdown",
      "metadata": {
        "id": "Jyb4GGIoWIHk"
      },
      "source": [
        "Set is an easy way to remove duplicate elements from a list.\n",
        "\n",
        "##Dictionary\n",
        "A dictionary is one of the most important data structures in Python. Unlike sequences which are indexed by integers, dictionaries are indexed by keys which can be either strings or floats.\n",
        "\n",
        "A dictionary is an **unordered** collection of key : value pairs, with the requirement that the keys are unique. We create a dictionary by placing a comma-separated list of key : value pairs within the braces."
      ]
    },
    {
      "cell_type": "code",
      "metadata": {
        "collapsed": true,
        "id": "36mTe5BaOqij"
      },
      "source": [
        "my_dic = {'AAPL':'AAPLE', 'FB':'FaceBook', 'GOOG':'Alphabet'}"
      ],
      "execution_count": 210,
      "outputs": []
    },
    {
      "cell_type": "code",
      "metadata": {
        "colab": {
          "base_uri": "https://localhost:8080/"
        },
        "id": "KUfdVf43Oqij",
        "outputId": "e0bfc1a0-37b4-4a02-8914-154a4240a970"
      },
      "source": [
        "print(my_dic['GOOG'])"
      ],
      "execution_count": 211,
      "outputs": [
        {
          "output_type": "stream",
          "name": "stdout",
          "text": [
            "Alphabet\n"
          ]
        }
      ]
    },
    {
      "cell_type": "code",
      "metadata": {
        "id": "BveYEbKuvent"
      },
      "source": [
        "my_dic = {'ACI':'Adrian', 'FB':'FaceBook', 'UNAL':'Universidad'}"
      ],
      "execution_count": 212,
      "outputs": []
    },
    {
      "cell_type": "code",
      "metadata": {
        "colab": {
          "base_uri": "https://localhost:8080/"
        },
        "id": "w8MbRpkFvi5a",
        "outputId": "0bf106d5-5c93-4ca7-ddde-1e21fc28079c"
      },
      "source": [
        "print(my_dic['UNAL'])"
      ],
      "execution_count": 213,
      "outputs": [
        {
          "output_type": "stream",
          "name": "stdout",
          "text": [
            "Universidad\n"
          ]
        }
      ]
    },
    {
      "cell_type": "markdown",
      "metadata": {
        "id": "gSicoNqDWP4c"
      },
      "source": [
        "After defining a dictionary, we can access any value by indicating its key in brackets."
      ]
    },
    {
      "cell_type": "code",
      "metadata": {
        "colab": {
          "base_uri": "https://localhost:8080/"
        },
        "id": "IrTZdq9FOqij",
        "outputId": "1282c144-1631-4573-d9a6-d1cfa8f3a06e"
      },
      "source": [
        "my_dic['GOOG'] = 'Alphabet Company'\n",
        "print(my_dic['GOOG'])"
      ],
      "execution_count": 214,
      "outputs": [
        {
          "output_type": "stream",
          "name": "stdout",
          "text": [
            "Alphabet Company\n"
          ]
        }
      ]
    },
    {
      "cell_type": "code",
      "metadata": {
        "colab": {
          "base_uri": "https://localhost:8080/"
        },
        "id": "RqdC8_wev4kF",
        "outputId": "444dde1e-49a8-44c8-8033-94263d9c45a9"
      },
      "source": [
        "my_dic['UNAL'] = 'Universidad Nacional'\n",
        "print(my_dic['UNAL'])"
      ],
      "execution_count": 215,
      "outputs": [
        {
          "output_type": "stream",
          "name": "stdout",
          "text": [
            "Universidad Nacional\n"
          ]
        }
      ]
    },
    {
      "cell_type": "markdown",
      "metadata": {
        "id": "M9sDsTEMWQvc"
      },
      "source": [
        "We can also change the value associated with a specified key:"
      ]
    },
    {
      "cell_type": "code",
      "metadata": {
        "colab": {
          "base_uri": "https://localhost:8080/"
        },
        "id": "lupRHf1_Oqij",
        "outputId": "9a4cbcf1-d4fd-4709-e5ff-d77982c106f5"
      },
      "source": [
        "print(my_dic.keys())"
      ],
      "execution_count": 216,
      "outputs": [
        {
          "output_type": "stream",
          "name": "stdout",
          "text": [
            "dict_keys(['ACI', 'FB', 'UNAL', 'GOOG'])\n"
          ]
        }
      ]
    },
    {
      "cell_type": "code",
      "metadata": {
        "colab": {
          "base_uri": "https://localhost:8080/"
        },
        "id": "Ko1sdzA0wSFn",
        "outputId": "a119c20f-b031-4d26-986c-c870997c4e8d"
      },
      "source": [
        "print(my_dic.keys())"
      ],
      "execution_count": 217,
      "outputs": [
        {
          "output_type": "stream",
          "name": "stdout",
          "text": [
            "dict_keys(['ACI', 'FB', 'UNAL', 'GOOG'])\n"
          ]
        }
      ]
    },
    {
      "cell_type": "markdown",
      "metadata": {
        "id": "VPuDinlwWS9D"
      },
      "source": [
        "The built-in method of the dictionary object dict.keys() returns a list of all the keys used in the dictionary."
      ]
    },
    {
      "cell_type": "markdown",
      "metadata": {
        "id": "kSGzgNb2Womz"
      },
      "source": [
        "# Common String Operations\n",
        "A string is an immutable sequence of characters. It can be sliced by index just like a tuple:"
      ]
    },
    {
      "cell_type": "code",
      "metadata": {
        "colab": {
          "base_uri": "https://localhost:8080/"
        },
        "id": "xPojDnm9Oqik",
        "outputId": "3f55e694-2ced-4a58-a556-95479e855b5b"
      },
      "source": [
        "my_str = 'Welcome to QuantConnect'\n",
        "print(my_str[8:])"
      ],
      "execution_count": 218,
      "outputs": [
        {
          "output_type": "stream",
          "name": "stdout",
          "text": [
            "to QuantConnect\n"
          ]
        }
      ]
    },
    {
      "cell_type": "code",
      "metadata": {
        "colab": {
          "base_uri": "https://localhost:8080/"
        },
        "id": "ZcDrc3H2yHCz",
        "outputId": "354b080e-8d3c-422f-a6eb-6fe83395af7a"
      },
      "source": [
        "my_str = 'Bienvenidos al tutorial'\n",
        "print(my_str[11:])"
      ],
      "execution_count": 219,
      "outputs": [
        {
          "output_type": "stream",
          "name": "stdout",
          "text": [
            " al tutorial\n"
          ]
        }
      ]
    },
    {
      "cell_type": "markdown",
      "metadata": {
        "id": "wuJYy7tvWtM7"
      },
      "source": [
        "There are many methods associated with strings. We can use string.count() to count the occurrences of a character in a string, use string.find() to return the index of a specific character, and use string.replace() to replace characters"
      ]
    },
    {
      "cell_type": "code",
      "metadata": {
        "colab": {
          "base_uri": "https://localhost:8080/"
        },
        "id": "u9deZq1SOqik",
        "outputId": "430d4acc-df96-48d4-e622-44fb6a523cf3"
      },
      "source": [
        "print('Counting the number of e appears in this sentence'.count('e'))\n",
        "print('The first time e appears in this sentence'.find('e'))\n",
        "print('all the a in this sentence now becomes e'.replace('a','e'))"
      ],
      "execution_count": 220,
      "outputs": [
        {
          "output_type": "stream",
          "name": "stdout",
          "text": [
            "7\n",
            "2\n",
            "ell the e in this sentence now becomes e\n"
          ]
        }
      ]
    },
    {
      "cell_type": "code",
      "metadata": {
        "colab": {
          "base_uri": "https://localhost:8080/"
        },
        "id": "WV2aLtcTyY_6",
        "outputId": "f9c7411c-8dce-4f9b-9d6d-1fcc1567a865"
      },
      "source": [
        "print('Contando el número de e aparece en esta oración'.count('e'))\n",
        "print('La primera vez que e aparece en esta oración'.find('e'))\n",
        "print('toda las a en esta oración ahora se convierte en e'.replace('a','e'))"
      ],
      "execution_count": 221,
      "outputs": [
        {
          "output_type": "stream",
          "name": "stdout",
          "text": [
            "8\n",
            "7\n",
            "tode les e en este oreción ehore se convierte en e\n"
          ]
        }
      ]
    },
    {
      "cell_type": "markdown",
      "metadata": {
        "id": "sJPn3rkvWwHN"
      },
      "source": [
        "The most commonly used method for strings is string.split(). This method will split the string by the indicated character and return a list:"
      ]
    },
    {
      "cell_type": "code",
      "metadata": {
        "colab": {
          "base_uri": "https://localhost:8080/"
        },
        "id": "hbIaFLFHOqik",
        "outputId": "7a5203a7-7a51-4ada-96b3-518e6e075d8e"
      },
      "source": [
        "Time = '2016-04-01 09:43:00'\n",
        "splited_list = Time.split(' ')\n",
        "date = splited_list[0]\n",
        "time = splited_list[1]\n",
        "print(date, time)\n",
        "hour = time.split(':')[0]\n",
        "print(hour)"
      ],
      "execution_count": 222,
      "outputs": [
        {
          "output_type": "stream",
          "name": "stdout",
          "text": [
            "2016-04-01 09:43:00\n",
            "09\n"
          ]
        }
      ]
    },
    {
      "cell_type": "code",
      "metadata": {
        "colab": {
          "base_uri": "https://localhost:8080/"
        },
        "id": "QKcZ9JDD0b9_",
        "outputId": "856394ce-58a1-4313-ba49-9aff26f0a542"
      },
      "source": [
        "Time = '2021-18-10 08:51:00'\n",
        "splited_list = Time.split(' ')\n",
        "date = splited_list[0]\n",
        "time = splited_list[1]\n",
        "print(date, time)\n",
        "hour = time.split(':')[1]\n",
        "print(hour)"
      ],
      "execution_count": 223,
      "outputs": [
        {
          "output_type": "stream",
          "name": "stdout",
          "text": [
            "2021-18-10 08:51:00\n",
            "51\n"
          ]
        }
      ]
    },
    {
      "cell_type": "markdown",
      "metadata": {
        "id": "9cJQGk96WyVc"
      },
      "source": [
        "We can replace parts of a string by our variable. This is called string formatting."
      ]
    },
    {
      "cell_type": "code",
      "metadata": {
        "colab": {
          "base_uri": "https://localhost:8080/"
        },
        "id": "-E_rIvv6Oqik",
        "outputId": "3f00ea72-c0b5-4e63-af48-e10ccafb1d3c"
      },
      "source": [
        "my_time = 'Hour: {}, Minute:{}'.format('09','43')\n",
        "print(my_time)"
      ],
      "execution_count": 224,
      "outputs": [
        {
          "output_type": "stream",
          "name": "stdout",
          "text": [
            "Hour: 09, Minute:43\n"
          ]
        }
      ]
    },
    {
      "cell_type": "code",
      "metadata": {
        "colab": {
          "base_uri": "https://localhost:8080/"
        },
        "id": "idrxeXPA1BLR",
        "outputId": "6296febe-7463-46f5-af6f-6cc8dc6363a9"
      },
      "source": [
        "my_time = 'Hora: {}, Minuto:{}'.format('10','15')\n",
        "print(my_time)"
      ],
      "execution_count": 225,
      "outputs": [
        {
          "output_type": "stream",
          "name": "stdout",
          "text": [
            "Hora: 10, Minuto:15\n"
          ]
        }
      ]
    },
    {
      "cell_type": "markdown",
      "metadata": {
        "id": "1_NbVldpWzAs"
      },
      "source": [
        "Another way to format a string is to use the % symbol."
      ]
    },
    {
      "cell_type": "code",
      "metadata": {
        "colab": {
          "base_uri": "https://localhost:8080/"
        },
        "id": "4rZ4rkD2Oqik",
        "outputId": "dccc54c5-40a4-4029-a80f-ba48706d6130"
      },
      "source": [
        "print('the pi number is %f'%3.14)\n",
        "print('%s to %s'%('Welcome','Quantconnect'))"
      ],
      "execution_count": 226,
      "outputs": [
        {
          "output_type": "stream",
          "name": "stdout",
          "text": [
            "the pi number is 3.140000\n",
            "Welcome to Quantconnect\n"
          ]
        }
      ]
    },
    {
      "cell_type": "code",
      "metadata": {
        "colab": {
          "base_uri": "https://localhost:8080/"
        },
        "id": "urTioePVJvfy",
        "outputId": "e1663020-7f97-4167-ab21-559cf17c7016"
      },
      "source": [
        "print('El valor de PI es %f'%3.1459)\n",
        "print('%s al %s'%('Bienvenido','Laboratorio'))"
      ],
      "execution_count": 227,
      "outputs": [
        {
          "output_type": "stream",
          "name": "stdout",
          "text": [
            "El valor de PI es 3.145900\n",
            "Bienvenido al Laboratorio\n"
          ]
        }
      ]
    },
    {
      "cell_type": "markdown",
      "metadata": {
        "id": "v_5cocrDW3MN"
      },
      "source": [
        "# Summary\n",
        "\n",
        "Weave seen the basic data types and data structures in Python. It's important to keep practicing to become familiar with these data structures. In the next tutorial, we will cover for and while loops and logical operations in Python."
      ]
    },
    {
      "cell_type": "markdown",
      "metadata": {
        "id": "QL6dNxwCXNEt"
      },
      "source": [
        "<div align=\"center\">\n",
        "<img style=\"display: block; margin: auto;\" alt=\"photo\" src=\"https://cdn.quantconnect.com/web/i/icon.png\">\n",
        "\n",
        "Quantconnect\n",
        "\n",
        "Introduction to Financial Python\n",
        "</div>\n",
        "\n",
        "# 02 Logical Operations and Loops\n",
        "\n",
        "# Introduction\n",
        "We discussed the basic data types and data structures in Python in the last tutorial. This chapter covers logical operations and loops in Python, which are very common in programming.\n",
        "\n",
        "# Logical Operations\n",
        "Like most programming languages, Python has comparison operators:"
      ]
    },
    {
      "cell_type": "code",
      "metadata": {
        "colab": {
          "base_uri": "https://localhost:8080/"
        },
        "id": "70Guys_rOv7a",
        "outputId": "32e06735-3cc0-4381-a2d3-4d9ed9835e18"
      },
      "source": [
        "print(1 == 0)\n",
        "print(1 == 1)\n",
        "print(1 != 0)\n",
        "print(5 >= 5)\n",
        "print(5 >= 6)"
      ],
      "execution_count": 228,
      "outputs": [
        {
          "output_type": "stream",
          "name": "stdout",
          "text": [
            "False\n",
            "True\n",
            "True\n",
            "True\n",
            "False\n"
          ]
        }
      ]
    },
    {
      "cell_type": "code",
      "metadata": {
        "colab": {
          "base_uri": "https://localhost:8080/"
        },
        "id": "EzHmGh1G1eAx",
        "outputId": "84e34fd9-6d32-4394-8749-a090073b7448"
      },
      "source": [
        "print(1 == 3)\n",
        "print(11 == 11)\n",
        "print(3 != 0)\n",
        "print(3 >= 3)\n",
        "print(1 >= 2)"
      ],
      "execution_count": 229,
      "outputs": [
        {
          "output_type": "stream",
          "name": "stdout",
          "text": [
            "False\n",
            "True\n",
            "True\n",
            "True\n",
            "False\n"
          ]
        }
      ]
    },
    {
      "cell_type": "markdown",
      "metadata": {
        "id": "8aFHYDj-YTXt"
      },
      "source": [
        "Each statement above has a boolean value, which must be either True or False, but not both.\n",
        "\n",
        "We can combine simple statements P and Q to form complex statements using logical operators:\n",
        "\n",
        "- The statement \"P and Q\" is true if both P and Q are true, otherwise it is false.\n",
        "- The statement \"P or Q\" is false if both P and Q are false, otherwise it is true.\n",
        "- The statement \"not P\" is true if P is false, and vice versa."
      ]
    },
    {
      "cell_type": "code",
      "metadata": {
        "colab": {
          "base_uri": "https://localhost:8080/"
        },
        "id": "O5YEEcUbOv7d",
        "outputId": "20733769-52d8-4def-f564-f44847c05c60"
      },
      "source": [
        "print(2 > 1 and 3 > 2)\n",
        "print(2 > 1 and 3 < 2) \n",
        "print(2 > 1 or 3 < 2)\n",
        "print(2 < 1 and 3 < 2)"
      ],
      "execution_count": 230,
      "outputs": [
        {
          "output_type": "stream",
          "name": "stdout",
          "text": [
            "True\n",
            "False\n",
            "True\n",
            "False\n"
          ]
        }
      ]
    },
    {
      "cell_type": "code",
      "metadata": {
        "colab": {
          "base_uri": "https://localhost:8080/"
        },
        "id": "sZiSqUBM2de0",
        "outputId": "e86121c4-4bc8-4ca5-87d1-01d500c0a735"
      },
      "source": [
        "print(5 > 1 and 6 > 2)\n",
        "print(2 > 1 and 7 < 5) \n",
        "print(2 > 1 or 3 < 1)\n",
        "print(4 < 3 and 6 < 5)"
      ],
      "execution_count": 231,
      "outputs": [
        {
          "output_type": "stream",
          "name": "stdout",
          "text": [
            "True\n",
            "False\n",
            "True\n",
            "False\n"
          ]
        }
      ]
    },
    {
      "cell_type": "markdown",
      "metadata": {
        "id": "Dy7yzoSXYXmL"
      },
      "source": [
        "When dealing with a very complex logical statement that involves in several statements, we can use brackets to separate and combine them."
      ]
    },
    {
      "cell_type": "code",
      "metadata": {
        "colab": {
          "base_uri": "https://localhost:8080/"
        },
        "id": "QZ-W2xJZOv7d",
        "outputId": "32977377-59b3-4d38-93fe-ceb3db8d586c"
      },
      "source": [
        "print((3 > 2 or 1 < 3) and (1!=3 and 4>3) and not ( 3 < 2 or 1 < 3 and (1!=3 and 4>3)))\n",
        "print(3 > 2 or 1 < 3 and (1!=3 and 4>3) and not ( 3 < 2 or 1 < 3 and (1!=3 and 4>3)))"
      ],
      "execution_count": 232,
      "outputs": [
        {
          "output_type": "stream",
          "name": "stdout",
          "text": [
            "False\n",
            "True\n"
          ]
        }
      ]
    },
    {
      "cell_type": "code",
      "metadata": {
        "colab": {
          "base_uri": "https://localhost:8080/"
        },
        "id": "QynTCVA3206u",
        "outputId": "e0a7edf3-ade9-4900-e93d-27368a75e4a0"
      },
      "source": [
        "print((4 > 1 or 6 < 8) and (2!=8 and 5>2) and not ( 4 < 1 or 2 < 5 and (2!=6 and 5>3)))\n",
        "print(6 > 4 or 1 < 2 and (2!=6 and 5>4) and not ( 5 < 2 or 1 < 3 and (1!=4 and 7>3)))"
      ],
      "execution_count": 233,
      "outputs": [
        {
          "output_type": "stream",
          "name": "stdout",
          "text": [
            "False\n",
            "True\n"
          ]
        }
      ]
    },
    {
      "cell_type": "markdown",
      "metadata": {
        "id": "s95xoRYMYaPD"
      },
      "source": [
        "Comparing the above two statements, we can see that it's wise to use brackets when we make a complex logical statement.\n",
        "\n",
        "# If Statement\n",
        "An if statement executes a segment of code only if its condition is true. A standard if statement consists of 3 segments: if, elif and else."
      ]
    },
    {
      "cell_type": "markdown",
      "metadata": {
        "id": "aRzMMitAaBOL"
      },
      "source": [
        "```python\n",
        "if statement1:\n",
        "    # if the statement1 is true, execute the code here.\n",
        "    # code.....\n",
        "    # code.....\n",
        "elif statement2:\n",
        "    # if the statement 1 is false, skip the codes above to this part.\n",
        "    # code......\n",
        "    # code......\n",
        "else:\n",
        "    # if none of the above statements is True, skip to this part\n",
        "    # code......\n",
        "```"
      ]
    },
    {
      "cell_type": "markdown",
      "metadata": {
        "id": "l59R2AS8aH2K"
      },
      "source": [
        "An if statement doesn't necessarily has elif and else part. If it's not specified, the indented block of code will be executed when the condition is true, otherwise the whole if statement will be skipped."
      ]
    },
    {
      "cell_type": "code",
      "metadata": {
        "colab": {
          "base_uri": "https://localhost:8080/"
        },
        "id": "FZ5GoTXfOv7e",
        "outputId": "a5df11ad-de12-4a15-fbb5-cfcdb3fc267e"
      },
      "source": [
        "i = 0\n",
        "if i == 0:\n",
        "    print('i==0 is True')"
      ],
      "execution_count": 234,
      "outputs": [
        {
          "output_type": "stream",
          "name": "stdout",
          "text": [
            "i==0 is True\n"
          ]
        }
      ]
    },
    {
      "cell_type": "code",
      "metadata": {
        "colab": {
          "base_uri": "https://localhost:8080/"
        },
        "id": "wzkSLwOlMpTy",
        "outputId": "002805b6-c748-4e3a-e85e-011a4e08a82d"
      },
      "source": [
        "i = 5\n",
        "if i == 5:\n",
        "    print('i==5 is True')"
      ],
      "execution_count": 235,
      "outputs": [
        {
          "output_type": "stream",
          "name": "stdout",
          "text": [
            "i==5 is True\n"
          ]
        }
      ]
    },
    {
      "cell_type": "markdown",
      "metadata": {
        "id": "nPNW-l5eaJn8"
      },
      "source": [
        "As we mentioned above, we can write some complex statements here:"
      ]
    },
    {
      "cell_type": "code",
      "metadata": {
        "colab": {
          "base_uri": "https://localhost:8080/"
        },
        "id": "gh-U6nMzOv7e",
        "outputId": "f2e83785-7a39-4e57-e2e6-3aef9ebcc49e"
      },
      "source": [
        "p = 1 > 0\n",
        "q = 2 > 3\n",
        "if p and q:\n",
        "    print('p and q is true')\n",
        "elif p and not q:\n",
        "    print('q is false')\n",
        "elif q and not p:\n",
        "    print('p is false')\n",
        "else:\n",
        "    print('None of p and q is true')"
      ],
      "execution_count": 236,
      "outputs": [
        {
          "output_type": "stream",
          "name": "stdout",
          "text": [
            "q is false\n"
          ]
        }
      ]
    },
    {
      "cell_type": "code",
      "metadata": {
        "colab": {
          "base_uri": "https://localhost:8080/"
        },
        "id": "VSezSfgKP61D",
        "outputId": "0b2bb4c2-66b5-4394-a4af-7bd20944a8a5"
      },
      "source": [
        "p = 6 > 3\n",
        "q = 5 > 4\n",
        "if p and q:\n",
        "    print('p y q son verdaderos')\n",
        "elif p and not q:\n",
        "    print('q es falso')\n",
        "elif q and not p:\n",
        "    print('p es falso')\n",
        "else:\n",
        "    print('ninguno de p y q son verdaderos')"
      ],
      "execution_count": 237,
      "outputs": [
        {
          "output_type": "stream",
          "name": "stdout",
          "text": [
            "p y q son verdaderos\n"
          ]
        }
      ]
    },
    {
      "cell_type": "markdown",
      "metadata": {
        "id": "tgRDwiAsaMOL"
      },
      "source": [
        "# Loop Structure\n",
        "Loops are an essential part of programming. The \"for\" and \"while\" loops run a block of code repeatedly.\n",
        "\n",
        "## While Loop\n",
        "A \"while\" loop will run repeatedly until a certain condition has been met."
      ]
    },
    {
      "cell_type": "code",
      "metadata": {
        "colab": {
          "base_uri": "https://localhost:8080/"
        },
        "id": "uQLau8d5Ov7f",
        "outputId": "8a873c2d-b86c-455e-de87-f9972b46ab46"
      },
      "source": [
        "i = 0\n",
        "while i < 5:\n",
        "    print(i)\n",
        "    i += 1 "
      ],
      "execution_count": 238,
      "outputs": [
        {
          "output_type": "stream",
          "name": "stdout",
          "text": [
            "0\n",
            "1\n",
            "2\n",
            "3\n",
            "4\n"
          ]
        }
      ]
    },
    {
      "cell_type": "code",
      "metadata": {
        "colab": {
          "base_uri": "https://localhost:8080/"
        },
        "id": "cKmtevW8SJgL",
        "outputId": "ee2cfeda-f5fb-4ab2-d1a6-2d3e75dd6add"
      },
      "source": [
        "i = 5\n",
        "while i <= 10:\n",
        "    print(i)\n",
        "    i += 1 "
      ],
      "execution_count": 239,
      "outputs": [
        {
          "output_type": "stream",
          "name": "stdout",
          "text": [
            "5\n",
            "6\n",
            "7\n",
            "8\n",
            "9\n",
            "10\n"
          ]
        }
      ]
    },
    {
      "cell_type": "markdown",
      "metadata": {
        "id": "ydLddFAPaTOE"
      },
      "source": [
        "When making a while loop, we need to ensure that something changes from iteration to iteration so that the while loop will terminate, otherwise, it will run forever. Here we used i += 1 (short for i = i + 1) to make i larger after each iteration. This is the most commonly used method to control a while loop.\n",
        "\n",
        "## For Loop\n",
        "A \"for\" loop will iterate over a sequence of value and terminate when the sequence has ended."
      ]
    },
    {
      "cell_type": "code",
      "metadata": {
        "colab": {
          "base_uri": "https://localhost:8080/"
        },
        "id": "kt8Ie8u1Ov7f",
        "outputId": "0bd60655-8ba7-414f-92af-1b7cf8a9fa1b"
      },
      "source": [
        "for i in [1,2,3,4,5]:\n",
        "    print(i)"
      ],
      "execution_count": 240,
      "outputs": [
        {
          "output_type": "stream",
          "name": "stdout",
          "text": [
            "1\n",
            "2\n",
            "3\n",
            "4\n",
            "5\n"
          ]
        }
      ]
    },
    {
      "cell_type": "code",
      "metadata": {
        "colab": {
          "base_uri": "https://localhost:8080/"
        },
        "id": "S9T4PkeIUEvr",
        "outputId": "16b83e01-3814-4e84-f9eb-ecd980a97346"
      },
      "source": [
        "for i in [10,11,12,13,14,15]:\n",
        "    print(i)"
      ],
      "execution_count": 241,
      "outputs": [
        {
          "output_type": "stream",
          "name": "stdout",
          "text": [
            "10\n",
            "11\n",
            "12\n",
            "13\n",
            "14\n",
            "15\n"
          ]
        }
      ]
    },
    {
      "cell_type": "markdown",
      "metadata": {
        "id": "yWStqpreaX-T"
      },
      "source": [
        "We can also add if statements in a for loop. Here is a real example from our pairs trading algorithm:"
      ]
    },
    {
      "cell_type": "code",
      "metadata": {
        "colab": {
          "base_uri": "https://localhost:8080/"
        },
        "id": "kElmffvFOv7f",
        "outputId": "d7f72578-9810-479e-c3cb-fcd6ca73994e"
      },
      "source": [
        "stocks = ['AAPL','GOOG','IBM','FB','F','V', 'G', 'GE']\n",
        "selected = ['AAPL','IBM']\n",
        "new_list = []\n",
        "for i in stocks:\n",
        "    if i not in selected:\n",
        "        new_list.append(i)\n",
        "print(stocks)"
      ],
      "execution_count": 242,
      "outputs": [
        {
          "output_type": "stream",
          "name": "stdout",
          "text": [
            "['AAPL', 'GOOG', 'IBM', 'FB', 'F', 'V', 'G', 'GE']\n"
          ]
        }
      ]
    },
    {
      "cell_type": "code",
      "metadata": {
        "colab": {
          "base_uri": "https://localhost:8080/"
        },
        "id": "F5sB8cKwfKpZ",
        "outputId": "0c7035b9-e9a6-4eaa-fe9b-cb0bb742eb51"
      },
      "source": [
        "stocks = ['ACI','HP','ASUS','FBI','A','V', 'C', 'GO']\n",
        "selected = ['ACI','HP']\n",
        "new_list = []\n",
        "for i in stocks:\n",
        "    if i not in selected:\n",
        "        new_list.append(i)\n",
        "print(stocks)"
      ],
      "execution_count": 243,
      "outputs": [
        {
          "output_type": "stream",
          "name": "stdout",
          "text": [
            "['ACI', 'HP', 'ASUS', 'FBI', 'A', 'V', 'C', 'GO']\n"
          ]
        }
      ]
    },
    {
      "cell_type": "markdown",
      "metadata": {
        "id": "wb2hry9dahE0"
      },
      "source": [
        "Here we iterated all the elements in the list 'stocks'. Later in this chapter, we will introduce a smarter way to do this, which is just a one-line code.\n",
        "\n",
        "## Break and continue\n",
        "These are two commonly used commands in a for loop. If \"break\" is triggered while a loop is executing, the loop will terminate immediately:"
      ]
    },
    {
      "cell_type": "code",
      "metadata": {
        "colab": {
          "base_uri": "https://localhost:8080/"
        },
        "id": "yF5wMVItOv7g",
        "outputId": "6a244daf-495f-4ec6-8b49-ccd1d2f8b94c"
      },
      "source": [
        "stocks = ['AAPL','GOOG','IBM','FB','F','V', 'G', 'GE']\n",
        "for i in stocks:\n",
        "    print(i)\n",
        "    if i == 'FB':\n",
        "        break"
      ],
      "execution_count": 244,
      "outputs": [
        {
          "output_type": "stream",
          "name": "stdout",
          "text": [
            "AAPL\n",
            "GOOG\n",
            "IBM\n",
            "FB\n"
          ]
        }
      ]
    },
    {
      "cell_type": "code",
      "metadata": {
        "colab": {
          "base_uri": "https://localhost:8080/"
        },
        "id": "oU3EmShi6KCX",
        "outputId": "20844fec-5b39-43a0-e071-abd349d9c99b"
      },
      "source": [
        "stocks = ['ACI', 'HP', 'ASUS', 'FBI', 'A', 'V', 'C', 'GO']\n",
        "for i in stocks:\n",
        "    print(i)\n",
        "    if i == 'ASUS':\n",
        "        break"
      ],
      "execution_count": 245,
      "outputs": [
        {
          "output_type": "stream",
          "name": "stdout",
          "text": [
            "ACI\n",
            "HP\n",
            "ASUS\n"
          ]
        }
      ]
    },
    {
      "cell_type": "markdown",
      "metadata": {
        "id": "R0toxyp3ao0T"
      },
      "source": [
        "The \"continue\" command tells the loop to end this iteration and skip to the next iteration:"
      ]
    },
    {
      "cell_type": "code",
      "metadata": {
        "colab": {
          "base_uri": "https://localhost:8080/"
        },
        "id": "Stg-CH6IOv7g",
        "outputId": "102e0d10-9962-4f22-e089-85dbfc077d30"
      },
      "source": [
        "stocks = ['AAPL','GOOG','IBM','FB','F','V', 'G', 'GE']\n",
        "for i in stocks:\n",
        "    if i == 'FB':\n",
        "        continue\n",
        "    print(i)"
      ],
      "execution_count": 246,
      "outputs": [
        {
          "output_type": "stream",
          "name": "stdout",
          "text": [
            "AAPL\n",
            "GOOG\n",
            "IBM\n",
            "F\n",
            "V\n",
            "G\n",
            "GE\n"
          ]
        }
      ]
    },
    {
      "cell_type": "code",
      "metadata": {
        "colab": {
          "base_uri": "https://localhost:8080/"
        },
        "id": "rjEP2ZGs6jkn",
        "outputId": "ff6ce082-4fc8-458f-b2f9-787fe7c8e469"
      },
      "source": [
        "stocks = ['ACI', 'HP', 'ASUS', 'FBI', 'A', 'V', 'C', 'GO']\n",
        "for i in stocks:\n",
        "    if i == 'FBI':\n",
        "        continue\n",
        "    print(i)"
      ],
      "execution_count": 247,
      "outputs": [
        {
          "output_type": "stream",
          "name": "stdout",
          "text": [
            "ACI\n",
            "HP\n",
            "ASUS\n",
            "A\n",
            "V\n",
            "C\n",
            "GO\n"
          ]
        }
      ]
    },
    {
      "cell_type": "markdown",
      "metadata": {
        "id": "4NusvdhBaxpZ"
      },
      "source": [
        "# List Comprehension\n",
        "List comprehension is a Pythonic way to create lists. Common applications are to make new lists where each element is the result of some operations applied to each member of another sequence. For example, if we want to create a list of squares using for loop:"
      ]
    },
    {
      "cell_type": "code",
      "metadata": {
        "colab": {
          "base_uri": "https://localhost:8080/"
        },
        "id": "bdxxeOABOv7h",
        "outputId": "1ebb5f68-de28-4b51-dbb1-a004e603e54e"
      },
      "source": [
        "squares = []\n",
        "for i in [1,2,3,4,5]:\n",
        "    squares.append(i**2)\n",
        "print(squares)"
      ],
      "execution_count": 248,
      "outputs": [
        {
          "output_type": "stream",
          "name": "stdout",
          "text": [
            "[1, 4, 9, 16, 25]\n"
          ]
        }
      ]
    },
    {
      "cell_type": "code",
      "metadata": {
        "colab": {
          "base_uri": "https://localhost:8080/"
        },
        "id": "zAra5x7f7MkW",
        "outputId": "d4aa84f6-b3e6-42a9-cb6a-ac7b77654baf"
      },
      "source": [
        "squares = []\n",
        "for i in [1,2,3,4,5]:\n",
        "    squares.append(i**3)\n",
        "print(squares)"
      ],
      "execution_count": 249,
      "outputs": [
        {
          "output_type": "stream",
          "name": "stdout",
          "text": [
            "[1, 8, 27, 64, 125]\n"
          ]
        }
      ]
    },
    {
      "cell_type": "markdown",
      "metadata": {
        "id": "--KliJBOa1CC"
      },
      "source": [
        "Using list comprehension:"
      ]
    },
    {
      "cell_type": "code",
      "metadata": {
        "colab": {
          "base_uri": "https://localhost:8080/"
        },
        "id": "440-yjG8Ov7h",
        "outputId": "60d7cf18-2273-427e-a792-95baa944df25"
      },
      "source": [
        "list = [1,2,3,4,5]\n",
        "squares = [x**2 for x in list]\n",
        "print(squares)"
      ],
      "execution_count": 250,
      "outputs": [
        {
          "output_type": "stream",
          "name": "stdout",
          "text": [
            "[1, 4, 9, 16, 25]\n"
          ]
        }
      ]
    },
    {
      "cell_type": "code",
      "metadata": {
        "colab": {
          "base_uri": "https://localhost:8080/"
        },
        "id": "DBneLBZW7X-X",
        "outputId": "40f8ff69-6e8b-4e1c-924d-9451139b41cd"
      },
      "source": [
        "list = [1,2,3,4,5]\n",
        "squares = [x**3 for x in list]\n",
        "print(squares)"
      ],
      "execution_count": 251,
      "outputs": [
        {
          "output_type": "stream",
          "name": "stdout",
          "text": [
            "[1, 8, 27, 64, 125]\n"
          ]
        }
      ]
    },
    {
      "cell_type": "markdown",
      "metadata": {
        "id": "uMuCfR3ya3zT"
      },
      "source": [
        "Recall the example above where we used a for loop to select stocks. Here we use list comprehension:"
      ]
    },
    {
      "cell_type": "code",
      "metadata": {
        "colab": {
          "base_uri": "https://localhost:8080/"
        },
        "id": "ZGtCtog2Ov7h",
        "outputId": "f99b9993-b780-461b-d90c-857b6a7044b1"
      },
      "source": [
        "stocks = ['AAPL','GOOG','IBM','FB','F','V', 'G', 'GE']\n",
        "selected = ['AAPL','IBM']\n",
        "new_list = [x for x in stocks if x in selected]\n",
        "print(new_list)"
      ],
      "execution_count": 252,
      "outputs": [
        {
          "output_type": "stream",
          "name": "stdout",
          "text": [
            "['AAPL', 'IBM']\n"
          ]
        }
      ]
    },
    {
      "cell_type": "code",
      "metadata": {
        "colab": {
          "base_uri": "https://localhost:8080/"
        },
        "id": "7tr-Ojmv8A87",
        "outputId": "9e093cd8-2851-45d9-c7c7-ae12dbd16831"
      },
      "source": [
        "stocks = ['ACI', 'HP', 'ASUS', 'FBI', 'A', 'V', 'C', 'GO']\n",
        "selected = ['ACI','HP']\n",
        "new_list = [x for x in stocks if x in selected]\n",
        "print(new_list)"
      ],
      "execution_count": 253,
      "outputs": [
        {
          "output_type": "stream",
          "name": "stdout",
          "text": [
            "['ACI', 'HP']\n"
          ]
        }
      ]
    },
    {
      "cell_type": "markdown",
      "metadata": {
        "id": "EPeUv6Lia5oD"
      },
      "source": [
        "A list comprehension consists of square brackets containing an expression followed by a \"for\" clause, and possibly \"for\" or \"if\" clauses. For example:"
      ]
    },
    {
      "cell_type": "code",
      "metadata": {
        "colab": {
          "base_uri": "https://localhost:8080/"
        },
        "id": "O1AMB5d7Ov7i",
        "outputId": "95ecfd6c-d382-4a23-dceb-8d42f7f23001"
      },
      "source": [
        "print([(x, y) for x in [1,2,3] for y in [3,1,4] if x != y])\n",
        "print([str(x)+' vs '+str(y) for x in ['AAPL','GOOG','IBM','FB'] for y in ['F','V','G','GE'] if x!=y])"
      ],
      "execution_count": 254,
      "outputs": [
        {
          "output_type": "stream",
          "name": "stdout",
          "text": [
            "[(1, 3), (1, 4), (2, 3), (2, 1), (2, 4), (3, 1), (3, 4)]\n",
            "['AAPL vs F', 'AAPL vs V', 'AAPL vs G', 'AAPL vs GE', 'GOOG vs F', 'GOOG vs V', 'GOOG vs G', 'GOOG vs GE', 'IBM vs F', 'IBM vs V', 'IBM vs G', 'IBM vs GE', 'FB vs F', 'FB vs V', 'FB vs G', 'FB vs GE']\n"
          ]
        }
      ]
    },
    {
      "cell_type": "code",
      "metadata": {
        "colab": {
          "base_uri": "https://localhost:8080/"
        },
        "id": "Aa1jOFRlHbGL",
        "outputId": "4fad04b0-7e16-48d2-ce90-72d0ebae8b22"
      },
      "source": [
        "print([(x, y) for x in [2,4,5] for y in [5,3,4] if x != y])\n",
        "print([str(x)+' vs '+str(y) for x in ['PSG','R MADRID','BARCELONA','MAN CITY'] for y in ['MAN UNITED','PSV','INTER','MILAN'] if x!=y])"
      ],
      "execution_count": 255,
      "outputs": [
        {
          "output_type": "stream",
          "name": "stdout",
          "text": [
            "[(2, 5), (2, 3), (2, 4), (4, 5), (4, 3), (5, 3), (5, 4)]\n",
            "['PSG vs MAN UNITED', 'PSG vs PSV', 'PSG vs INTER', 'PSG vs MILAN', 'R MADRID vs MAN UNITED', 'R MADRID vs PSV', 'R MADRID vs INTER', 'R MADRID vs MILAN', 'BARCELONA vs MAN UNITED', 'BARCELONA vs PSV', 'BARCELONA vs INTER', 'BARCELONA vs MILAN', 'MAN CITY vs MAN UNITED', 'MAN CITY vs PSV', 'MAN CITY vs INTER', 'MAN CITY vs MILAN']\n"
          ]
        }
      ]
    },
    {
      "cell_type": "markdown",
      "metadata": {
        "id": "jJpvq-o4a8P7"
      },
      "source": [
        "List comprehension is an elegant way to organize one or more for loops when creating a list.\n",
        "\n",
        "# Summary\n",
        "This chapter has introduced logical operations, loops, and list comprehension. In the next chapter, we will introduce functions and object-oriented programming, which will enable us to make our codes clean and versatile."
      ]
    },
    {
      "cell_type": "markdown",
      "metadata": {
        "id": "Tef_X2wJbdhn"
      },
      "source": [
        "<div align=\"center\">\n",
        "<img style=\"display: block; margin: auto;\" alt=\"photo\" src=\"https://cdn.quantconnect.com/web/i/icon.png\">\n",
        "\n",
        "Quantconnect\n",
        "\n",
        "Introduction to Financial Python\n",
        "</div>\n",
        "\n",
        "# 03 Functions and Objective-Oriented Programming\n",
        "\n",
        "# Introduction\n",
        "\n",
        "In the last tutorial we introduced logical operations, loops and list comprehension. We will introduce functions and object-oriented programming in this chapter, which will enable us to build complex algorithms in more flexible ways.\n",
        "\n",
        "# Functions\n",
        "A function is a reusable block of code. We can use a function to output a value, or do anything else we want. We can easily define our own function by using the keyword \"def\"."
      ]
    },
    {
      "cell_type": "code",
      "metadata": {
        "colab": {
          "base_uri": "https://localhost:8080/"
        },
        "id": "eE_NkTiSO2PO",
        "outputId": "bb4a19a2-94fb-430e-d0a9-173311e58cd3"
      },
      "source": [
        "def product(x,y):\n",
        "    return x*y\n",
        "print(product(2,3))\n",
        "print(product(5,10))"
      ],
      "execution_count": 256,
      "outputs": [
        {
          "output_type": "stream",
          "name": "stdout",
          "text": [
            "6\n",
            "50\n"
          ]
        }
      ]
    },
    {
      "cell_type": "code",
      "metadata": {
        "colab": {
          "base_uri": "https://localhost:8080/"
        },
        "id": "KUGP7DYGTbIT",
        "outputId": "3ed809d3-3df0-4b74-af84-e9ea73717bff"
      },
      "source": [
        "def sum(x,y):\n",
        "    return x+y\n",
        "print(product(5,6))\n",
        "print(product(3,44))"
      ],
      "execution_count": 257,
      "outputs": [
        {
          "output_type": "stream",
          "name": "stdout",
          "text": [
            "30\n",
            "132\n"
          ]
        }
      ]
    },
    {
      "cell_type": "markdown",
      "metadata": {
        "id": "4oRU_dVJbsdD"
      },
      "source": [
        "The keyword \"def\" is followed by the function name and the parenthesized list of formal parameters. The statements that form the body of the function start at the next line, and must be indented. The product() function above has \"x\" and \"y\" as its parameters. A function doesn't necessarily have parameters:"
      ]
    },
    {
      "cell_type": "code",
      "metadata": {
        "colab": {
          "base_uri": "https://localhost:8080/"
        },
        "id": "JhdWVLbUO2PQ",
        "outputId": "04282951-3d4a-493f-b659-2de5bda56dc7"
      },
      "source": [
        "def say_hi():\n",
        "    print('Welcome to QuantConnect')\n",
        "say_hi()"
      ],
      "execution_count": 258,
      "outputs": [
        {
          "output_type": "stream",
          "name": "stdout",
          "text": [
            "Welcome to QuantConnect\n"
          ]
        }
      ]
    },
    {
      "cell_type": "code",
      "metadata": {
        "colab": {
          "base_uri": "https://localhost:8080/"
        },
        "id": "MUzLu_mITsIU",
        "outputId": "6a489028-8b0d-439e-b3df-e9e30f6ffc0f"
      },
      "source": [
        "def say_hi():\n",
        "    print('Bienvenido al laboratorio')\n",
        "say_hi()"
      ],
      "execution_count": 259,
      "outputs": [
        {
          "output_type": "stream",
          "name": "stdout",
          "text": [
            "Bienvenido al laboratorio\n"
          ]
        }
      ]
    },
    {
      "cell_type": "markdown",
      "metadata": {
        "id": "lHwqVpWVb1Jr"
      },
      "source": [
        "# Built-in Function\n",
        "**range()** is a function that creates a list containing an arithmetic sequence. It's often used in for loops. The arguments must be integers. If the \"step\" argument is omitted, it defaults to 1."
      ]
    },
    {
      "cell_type": "code",
      "metadata": {
        "colab": {
          "base_uri": "https://localhost:8080/"
        },
        "id": "VVOTELcIO2PQ",
        "outputId": "1da2cbf6-483c-43c9-ab26-e1b2d3f0a10e"
      },
      "source": [
        "print(range(10))\n",
        "print(range(1,11))\n",
        "print(range(1,11,2))"
      ],
      "execution_count": 260,
      "outputs": [
        {
          "output_type": "stream",
          "name": "stdout",
          "text": [
            "range(0, 10)\n",
            "range(1, 11)\n",
            "range(1, 11, 2)\n"
          ]
        }
      ]
    },
    {
      "cell_type": "code",
      "metadata": {
        "colab": {
          "base_uri": "https://localhost:8080/"
        },
        "id": "-ica1Ki9VsCi",
        "outputId": "ff01d5e1-aa7e-44dd-bf53-98fc71b2ae8f"
      },
      "source": [
        "print(range(5))\n",
        "print(range(2,10))\n",
        "print(range(1,10,20))"
      ],
      "execution_count": 261,
      "outputs": [
        {
          "output_type": "stream",
          "name": "stdout",
          "text": [
            "range(0, 5)\n",
            "range(2, 10)\n",
            "range(1, 10, 20)\n"
          ]
        }
      ]
    },
    {
      "cell_type": "markdown",
      "metadata": {
        "id": "PD0cSgiwcQ4L"
      },
      "source": [
        "**len()** is another function used together with range() to create a for loop. This function returns the length of an object. The argument must be a sequence or a collection."
      ]
    },
    {
      "cell_type": "code",
      "metadata": {
        "colab": {
          "base_uri": "https://localhost:8080/"
        },
        "id": "Hg18c7v-O2PR",
        "outputId": "790dc214-286f-4b4f-a06c-a7f9c7e67dd4"
      },
      "source": [
        "tickers = ['AAPL','GOOG','IBM','FB','F','V', 'G', 'GE']\n",
        "print('The length of tickers is {}'.format(len(tickers)))\n",
        "for i in range(len(tickers)):\n",
        "    print(tickers[i])"
      ],
      "execution_count": 262,
      "outputs": [
        {
          "output_type": "stream",
          "name": "stdout",
          "text": [
            "The length of tickers is 8\n",
            "AAPL\n",
            "GOOG\n",
            "IBM\n",
            "FB\n",
            "F\n",
            "V\n",
            "G\n",
            "GE\n"
          ]
        }
      ]
    },
    {
      "cell_type": "code",
      "metadata": {
        "colab": {
          "base_uri": "https://localhost:8080/"
        },
        "id": "jGbH2eoAWORr",
        "outputId": "f67a0875-7407-4d9a-9f20-38ed926bfbfa"
      },
      "source": [
        "tickers = ['ACI','ASUS','HP','FBI','GO']\n",
        "print('The length of tickers is {}'.format(len(tickers)))\n",
        "for i in range(len(tickers)):\n",
        "    print(tickers[i])"
      ],
      "execution_count": 263,
      "outputs": [
        {
          "output_type": "stream",
          "name": "stdout",
          "text": [
            "The length of tickers is 5\n",
            "ACI\n",
            "ASUS\n",
            "HP\n",
            "FBI\n",
            "GO\n"
          ]
        }
      ]
    },
    {
      "cell_type": "markdown",
      "metadata": {
        "id": "OIQSuub1cWgi"
      },
      "source": [
        "Note: If you want to print only the tickers without those numbers, then simply write \"for ticker in tickers: print ticker\"\n",
        "\n",
        "**map(**) is a function that applies a specific function to every item of a sequence or collection, and returns a list of the results."
      ]
    },
    {
      "cell_type": "markdown",
      "metadata": {
        "id": "pqPuspeG5HAi"
      },
      "source": [
        "Because list at the moment is [1,2,3,4,5] and overwriting list() from builtins we del list"
      ]
    },
    {
      "cell_type": "code",
      "metadata": {
        "colab": {
          "base_uri": "https://localhost:8080/"
        },
        "id": "caV9c-qk4_eZ",
        "outputId": "6e560a53-7023-4f8b-f753-1be6b2e7823e"
      },
      "source": [
        "print(list)\n",
        "del list\n",
        "list"
      ],
      "execution_count": 264,
      "outputs": [
        {
          "output_type": "stream",
          "name": "stdout",
          "text": [
            "[1, 2, 3, 4, 5]\n"
          ]
        },
        {
          "output_type": "execute_result",
          "data": {
            "text/plain": [
              "list"
            ]
          },
          "metadata": {},
          "execution_count": 264
        }
      ]
    },
    {
      "cell_type": "code",
      "metadata": {
        "colab": {
          "base_uri": "https://localhost:8080/"
        },
        "id": "sZHPDmaMW8y1",
        "outputId": "70651100-03cf-4c5e-ef3e-602b7e118209"
      },
      "source": [
        "list = [5,6,7,8,9]\n",
        "print(list)\n",
        "del list\n",
        "list"
      ],
      "execution_count": 265,
      "outputs": [
        {
          "output_type": "stream",
          "name": "stdout",
          "text": [
            "[5, 6, 7, 8, 9]\n"
          ]
        },
        {
          "output_type": "execute_result",
          "data": {
            "text/plain": [
              "list"
            ]
          },
          "metadata": {},
          "execution_count": 265
        }
      ]
    },
    {
      "cell_type": "code",
      "metadata": {
        "colab": {
          "base_uri": "https://localhost:8080/"
        },
        "id": "lJBs5ECT4mSq",
        "outputId": "28a88386-9356-46f4-e1d6-989a818bed7a"
      },
      "source": [
        "tickers = ['AAPL','GOOG','IBM','FB','F','V', 'G', 'GE']\n",
        "list(map(len,tickers))"
      ],
      "execution_count": 266,
      "outputs": [
        {
          "output_type": "execute_result",
          "data": {
            "text/plain": [
              "[4, 4, 3, 2, 1, 1, 1, 2]"
            ]
          },
          "metadata": {},
          "execution_count": 266
        }
      ]
    },
    {
      "cell_type": "code",
      "metadata": {
        "colab": {
          "base_uri": "https://localhost:8080/"
        },
        "id": "ptZAiy-tX95L",
        "outputId": "f576d256-d3c2-40b8-98f3-5d766e6b4a14"
      },
      "source": [
        "tickers = ['ACI','ASUS','HP','FBI','GO']\n",
        "list(map(len,tickers))"
      ],
      "execution_count": 267,
      "outputs": [
        {
          "output_type": "execute_result",
          "data": {
            "text/plain": [
              "[3, 4, 2, 3, 2]"
            ]
          },
          "metadata": {},
          "execution_count": 267
        }
      ]
    },
    {
      "cell_type": "code",
      "metadata": {
        "colab": {
          "base_uri": "https://localhost:8080/"
        },
        "id": "78DyKVOyO2PR",
        "outputId": "905e4897-79aa-4c45-cb3b-78809acc4f7b"
      },
      "source": [
        "tickers = ['AAPL','GOOG','IBM','FB','F','V', 'G', 'GE']\n",
        "print(list(map(len,tickers)))"
      ],
      "execution_count": 268,
      "outputs": [
        {
          "output_type": "stream",
          "name": "stdout",
          "text": [
            "[4, 4, 3, 2, 1, 1, 1, 2]\n"
          ]
        }
      ]
    },
    {
      "cell_type": "code",
      "metadata": {
        "colab": {
          "base_uri": "https://localhost:8080/"
        },
        "id": "6_0XFjphYFvd",
        "outputId": "3862663c-b587-4968-f0c1-cd3fa0d317ff"
      },
      "source": [
        "tickers = ['ACI','ASUS','HP','FBI','GO']\n",
        "print(list(map(len,tickers)))"
      ],
      "execution_count": 269,
      "outputs": [
        {
          "output_type": "stream",
          "name": "stdout",
          "text": [
            "[3, 4, 2, 3, 2]\n"
          ]
        }
      ]
    },
    {
      "cell_type": "markdown",
      "metadata": {
        "id": "mvr06UM7ca7b"
      },
      "source": [
        "The **lambda operator** is a way to create small anonymous functions. These functions are just needed where they have been created. For example:"
      ]
    },
    {
      "cell_type": "code",
      "metadata": {
        "colab": {
          "base_uri": "https://localhost:8080/"
        },
        "id": "pAEHADYXO2PR",
        "outputId": "06cac6af-3511-493d-dd0a-9241ac195025"
      },
      "source": [
        "list(map(lambda x: x**2, range(10)))"
      ],
      "execution_count": 270,
      "outputs": [
        {
          "output_type": "execute_result",
          "data": {
            "text/plain": [
              "[0, 1, 4, 9, 16, 25, 36, 49, 64, 81]"
            ]
          },
          "metadata": {},
          "execution_count": 270
        }
      ]
    },
    {
      "cell_type": "code",
      "metadata": {
        "colab": {
          "base_uri": "https://localhost:8080/"
        },
        "id": "xTgQ18XUYTFA",
        "outputId": "ca0a1c4a-a754-4f02-e43d-86831e208e3e"
      },
      "source": [
        "list(map(lambda x: x**2, range(5)))"
      ],
      "execution_count": 271,
      "outputs": [
        {
          "output_type": "execute_result",
          "data": {
            "text/plain": [
              "[0, 1, 4, 9, 16]"
            ]
          },
          "metadata": {},
          "execution_count": 271
        }
      ]
    },
    {
      "cell_type": "markdown",
      "metadata": {
        "id": "Mgixpxomcj3T"
      },
      "source": [
        "map() can be applied to more than one list. The lists have to have the same length."
      ]
    },
    {
      "cell_type": "code",
      "metadata": {
        "colab": {
          "base_uri": "https://localhost:8080/"
        },
        "id": "HtckhAaJO2PS",
        "outputId": "166cef54-bf22-4e8e-a630-658e1cc80021"
      },
      "source": [
        "list(map(lambda x, y: x+y, [1,2,3,4,5],[5,4,3,2,1]))"
      ],
      "execution_count": 272,
      "outputs": [
        {
          "output_type": "execute_result",
          "data": {
            "text/plain": [
              "[6, 6, 6, 6, 6]"
            ]
          },
          "metadata": {},
          "execution_count": 272
        }
      ]
    },
    {
      "cell_type": "code",
      "metadata": {
        "colab": {
          "base_uri": "https://localhost:8080/"
        },
        "id": "gOqDtZWqYsDM",
        "outputId": "58e08b9f-d28e-4ba8-fb19-0cb8351e72ee"
      },
      "source": [
        "list(map(lambda x, y: x*y, [3,1,7,4,8],[2,5,1,3,9]))"
      ],
      "execution_count": 273,
      "outputs": [
        {
          "output_type": "execute_result",
          "data": {
            "text/plain": [
              "[6, 5, 7, 12, 72]"
            ]
          },
          "metadata": {},
          "execution_count": 273
        }
      ]
    },
    {
      "cell_type": "markdown",
      "metadata": {
        "id": "ZDnMTH-KcklT"
      },
      "source": [
        "**sorted()** takes a list or set and returns a new sorted list"
      ]
    },
    {
      "cell_type": "code",
      "metadata": {
        "colab": {
          "base_uri": "https://localhost:8080/"
        },
        "id": "P0sHUMFWO2PS",
        "outputId": "31432219-bded-44e4-9a41-96deaac30f97"
      },
      "source": [
        "sorted([5,2,3,4,1])"
      ],
      "execution_count": 274,
      "outputs": [
        {
          "output_type": "execute_result",
          "data": {
            "text/plain": [
              "[1, 2, 3, 4, 5]"
            ]
          },
          "metadata": {},
          "execution_count": 274
        }
      ]
    },
    {
      "cell_type": "code",
      "metadata": {
        "colab": {
          "base_uri": "https://localhost:8080/"
        },
        "id": "RBMy-1shaouO",
        "outputId": "261290b4-fd1a-41a6-cac9-c93460f15374"
      },
      "source": [
        "sorted([11,16,18,119,15])"
      ],
      "execution_count": 275,
      "outputs": [
        {
          "output_type": "execute_result",
          "data": {
            "text/plain": [
              "[11, 15, 16, 18, 119]"
            ]
          },
          "metadata": {},
          "execution_count": 275
        }
      ]
    },
    {
      "cell_type": "markdown",
      "metadata": {
        "id": "-N5_EDOFcnsc"
      },
      "source": [
        "We can add a \"key\" parameter to specify a function to be called on each list element prior to making comparisons. For example:"
      ]
    },
    {
      "cell_type": "code",
      "metadata": {
        "colab": {
          "base_uri": "https://localhost:8080/"
        },
        "id": "0i3peZ0bO2PS",
        "outputId": "97217f23-f0f1-43cf-81d2-048d5df83b9b"
      },
      "source": [
        "price_list = [('AAPL',144.09),('GOOG',911.71),('MSFT',69),('FB',150),('WMT',75.32)]\n",
        "sorted(price_list, key = lambda x: x[1])"
      ],
      "execution_count": 276,
      "outputs": [
        {
          "output_type": "execute_result",
          "data": {
            "text/plain": [
              "[('MSFT', 69), ('WMT', 75.32), ('AAPL', 144.09), ('FB', 150), ('GOOG', 911.71)]"
            ]
          },
          "metadata": {},
          "execution_count": 276
        }
      ]
    },
    {
      "cell_type": "code",
      "metadata": {
        "colab": {
          "base_uri": "https://localhost:8080/"
        },
        "id": "rPJ9XrC1bLCf",
        "outputId": "de4c4017-27cb-49ad-8e39-3191bc2c7aa4"
      },
      "source": [
        "price_list = [('ACI',189.09),('GO',910.71),('ASUS',6989),('FBI',15098),('LINUX',688)]\n",
        "sorted(price_list, key = lambda x: x[1])"
      ],
      "execution_count": 277,
      "outputs": [
        {
          "output_type": "execute_result",
          "data": {
            "text/plain": [
              "[('ACI', 189.09),\n",
              " ('LINUX', 688),\n",
              " ('GO', 910.71),\n",
              " ('ASUS', 6989),\n",
              " ('FBI', 15098)]"
            ]
          },
          "metadata": {},
          "execution_count": 277
        }
      ]
    },
    {
      "cell_type": "markdown",
      "metadata": {
        "id": "yun2zptKcxe_"
      },
      "source": [
        "By default the values are sorted by ascending order. We can change it to descending by adding an optional parameter \"reverse'."
      ]
    },
    {
      "cell_type": "code",
      "metadata": {
        "colab": {
          "base_uri": "https://localhost:8080/"
        },
        "id": "dEZqdl94O2PT",
        "outputId": "83dfcf00-34cb-44d0-e9d7-33a47e46b565"
      },
      "source": [
        "price_list = [('AAPL',144.09),('GOOG',911.71),('MSFT',69),('FB',150),('WMT',75.32)]\n",
        "sorted(price_list, key = lambda x: x[1],reverse = True)"
      ],
      "execution_count": 278,
      "outputs": [
        {
          "output_type": "execute_result",
          "data": {
            "text/plain": [
              "[('GOOG', 911.71), ('FB', 150), ('AAPL', 144.09), ('WMT', 75.32), ('MSFT', 69)]"
            ]
          },
          "metadata": {},
          "execution_count": 278
        }
      ]
    },
    {
      "cell_type": "code",
      "metadata": {
        "colab": {
          "base_uri": "https://localhost:8080/"
        },
        "id": "MDQO1Ub0b2wr",
        "outputId": "9b059084-7909-4d89-af2d-1415dead2c48"
      },
      "source": [
        "price_list = [('ACI',189.09),('GO',910.71),('ASUS',6989),('FBI',15098),('LINUX',688)]\n",
        "sorted(price_list, key = lambda x: x[1], reverse=True)"
      ],
      "execution_count": 279,
      "outputs": [
        {
          "output_type": "execute_result",
          "data": {
            "text/plain": [
              "[('FBI', 15098),\n",
              " ('ASUS', 6989),\n",
              " ('GO', 910.71),\n",
              " ('LINUX', 688),\n",
              " ('ACI', 189.09)]"
            ]
          },
          "metadata": {},
          "execution_count": 279
        }
      ]
    },
    {
      "cell_type": "markdown",
      "metadata": {
        "id": "OA2wYAa0c6Dn"
      },
      "source": [
        "Lists also have a function list.sort(). This function takes the same \"key\" and \"reverse\" arguments as sorted(), but it doesn't return a new list."
      ]
    },
    {
      "cell_type": "code",
      "metadata": {
        "colab": {
          "base_uri": "https://localhost:8080/"
        },
        "id": "pG9VQCLnO2PT",
        "outputId": "dd0b60f4-6101-4f76-dadc-e4155120586a"
      },
      "source": [
        "price_list = [('AAPL',144.09),('GOOG',911.71),('MSFT',69),('FB',150),('WMT',75.32)]\n",
        "price_list.sort(key = lambda x: x[1])\n",
        "print(price_list)"
      ],
      "execution_count": 280,
      "outputs": [
        {
          "output_type": "stream",
          "name": "stdout",
          "text": [
            "[('MSFT', 69), ('WMT', 75.32), ('AAPL', 144.09), ('FB', 150), ('GOOG', 911.71)]\n"
          ]
        }
      ]
    },
    {
      "cell_type": "code",
      "metadata": {
        "colab": {
          "base_uri": "https://localhost:8080/"
        },
        "id": "Um4VYMRNcd2v",
        "outputId": "9fbf8027-4b30-424d-a425-a06279b07f69"
      },
      "source": [
        "price_list = [('ACI',189.09),('GO',910.71),('ASUS',6989),('FBI',15098),('LINUX',688)]\n",
        "price_list.sort(key = lambda x: x[1])\n",
        "print(price_list)"
      ],
      "execution_count": 281,
      "outputs": [
        {
          "output_type": "stream",
          "name": "stdout",
          "text": [
            "[('ACI', 189.09), ('LINUX', 688), ('GO', 910.71), ('ASUS', 6989), ('FBI', 15098)]\n"
          ]
        }
      ]
    },
    {
      "cell_type": "markdown",
      "metadata": {
        "id": "mxljL1W1c_c5"
      },
      "source": [
        "# Object-Oriented Programming\n",
        "Python is an object-oriented programming language. It's important to understand the concept of \"objects\" because almost every kind of data from QuantConnect API is an object.\n",
        "\n",
        "## Class\n",
        "A class is a type of data, just like a string, float, or list. When we create an object of that data type, we call it an instance of a class.\n",
        "\n",
        "In Python, everything is an object - everything is an instance of some class. The data stored inside an object are called attributes, and the functions which are associated with the object are called methods.\n",
        "\n",
        "For example, as mentioned above, a list is an object of the \"list\" class, and it has a method list.sort().\n",
        "\n",
        "We can create our own objects by defining a class. We would do this when it's helpful to group certain functions together. For example, we define a class named \"Stock\" here:"
      ]
    },
    {
      "cell_type": "code",
      "metadata": {
        "id": "zC4Y4PgDO2PT"
      },
      "source": [
        "class stock:\n",
        "    def __init__(self, ticker, open, close, volume):\n",
        "        self.ticker = ticker\n",
        "        self.open = open\n",
        "        self.close = close\n",
        "        self.volume = volume\n",
        "        self.rate_return = float(close)/open - 1\n",
        " \n",
        "    def update(self, open, close):\n",
        "        self.open = open\n",
        "        self.close = close\n",
        "        self.rate_return = float(self.close)/self.open - 1\n",
        " \n",
        "    def print_return(self):\n",
        "        print(self.rate_return)"
      ],
      "execution_count": 282,
      "outputs": []
    },
    {
      "cell_type": "code",
      "metadata": {
        "colab": {
          "base_uri": "https://localhost:8080/"
        },
        "id": "iMDDYB-Tzk_9",
        "outputId": "6d0e73fc-eb3b-40f5-e922-53747d7ddfcf"
      },
      "source": [
        "def scope_test():\n",
        "    def do_local():\n",
        "        spam = \"local spam\"\n",
        "\n",
        "    def do_nonlocal():\n",
        "        nonlocal spam\n",
        "        spam = \"nonlocal spam\"\n",
        "\n",
        "    def do_global():\n",
        "        global spam\n",
        "        spam = \"global spam\"\n",
        "\n",
        "    spam = \"test spam\"\n",
        "    do_local()\n",
        "    print(\"After local assignment:\", spam)\n",
        "    do_nonlocal()\n",
        "    print(\"After nonlocal assignment:\", spam)\n",
        "    do_global()\n",
        "    print(\"After global assignment:\", spam)\n",
        "\n",
        "scope_test()\n",
        "print(\"In global scope:\", spam)"
      ],
      "execution_count": 283,
      "outputs": [
        {
          "output_type": "stream",
          "name": "stdout",
          "text": [
            "After local assignment: test spam\n",
            "After nonlocal assignment: nonlocal spam\n",
            "After global assignment: nonlocal spam\n",
            "In global scope: global spam\n"
          ]
        }
      ]
    },
    {
      "cell_type": "markdown",
      "metadata": {
        "id": "rV06INT5dETi"
      },
      "source": [
        "The \"Stock\" class has attributes \"ticker\", \"open\", \"close\", \"volume\" and \"rate_return\". Inside the class body, the first method is called __init__, which is a special method. When we create a new instance of the class, the __init__ method is immediately executed with all the parameters that we pass to the \"Stock\" object. The purpose of this method is to set up a new \"Stock\" object using data we have provided.\n",
        "\n",
        "Here we create two Stock objects named \"apple\" and \"google\"."
      ]
    },
    {
      "cell_type": "code",
      "metadata": {
        "id": "8tIpNk93O2PU"
      },
      "source": [
        "apple = stock('AAPL', 143.69, 144.09, 20109375)\n",
        "google = stock('GOOG', 898.7, 911.7, 1561616)"
      ],
      "execution_count": 284,
      "outputs": []
    },
    {
      "cell_type": "code",
      "metadata": {
        "id": "V2jzDDzVz4Ev"
      },
      "source": [
        "windows = stock('WDS', 150.78, 167.98, 20119375)\n",
        "facebook = stock('FB', 980.3, 789.98, 1891616)"
      ],
      "execution_count": 285,
      "outputs": []
    },
    {
      "cell_type": "markdown",
      "metadata": {
        "id": "VxmELNiHdPKS"
      },
      "source": [
        "Stock objects also have two other methods: update() and print_return(). We can access the attribues of a Stock object and call its methods:"
      ]
    },
    {
      "cell_type": "code",
      "metadata": {
        "colab": {
          "base_uri": "https://localhost:8080/"
        },
        "id": "SsiIkmekO2PU",
        "outputId": "7adcfef3-a6e5-45af-a1b0-719f878fa5d5"
      },
      "source": [
        "apple.ticker\n",
        "google.print_return()\n",
        "google.update(912.8,913.4)\n",
        "google.print_return()"
      ],
      "execution_count": 286,
      "outputs": [
        {
          "output_type": "stream",
          "name": "stdout",
          "text": [
            "0.014465338822744034\n",
            "0.0006573181419806673\n"
          ]
        }
      ]
    },
    {
      "cell_type": "code",
      "metadata": {
        "colab": {
          "base_uri": "https://localhost:8080/"
        },
        "id": "mV8YVOCD2gki",
        "outputId": "d16c356d-0d02-4974-a65d-e0a4ef106793"
      },
      "source": [
        "windows.ticker\n",
        "facebook.print_return()\n",
        "facebook.update(678.09,789.08)\n",
        "facebook.print_return()"
      ],
      "execution_count": 287,
      "outputs": [
        {
          "output_type": "stream",
          "name": "stdout",
          "text": [
            "-0.194144649597062\n",
            "0.16368033741833687\n"
          ]
        }
      ]
    },
    {
      "cell_type": "markdown",
      "metadata": {
        "id": "Q8fl7keNdVKF"
      },
      "source": [
        "By calling the update() function, we updated the open and close prices of a stock. Please note that when we use the attributes or call the methods **inside a class**, we need to specify them as self.attribute or self.method(), otherwise Python will deem them as global variables and thus raise an error.\n",
        "\n",
        "We can add an attribute to an object anywhere:"
      ]
    },
    {
      "cell_type": "code",
      "metadata": {
        "colab": {
          "base_uri": "https://localhost:8080/",
          "height": 35
        },
        "id": "rO4OLnqOO2PU",
        "outputId": "ac608d5d-d2ce-4b92-f04e-39bca1405a68"
      },
      "source": [
        "apple.ceo = 'Tim Cook'\n",
        "apple.ceo"
      ],
      "execution_count": 288,
      "outputs": [
        {
          "output_type": "execute_result",
          "data": {
            "application/vnd.google.colaboratory.intrinsic+json": {
              "type": "string"
            },
            "text/plain": [
              "'Tim Cook'"
            ]
          },
          "metadata": {},
          "execution_count": 288
        }
      ]
    },
    {
      "cell_type": "code",
      "metadata": {
        "colab": {
          "base_uri": "https://localhost:8080/",
          "height": 35
        },
        "id": "yg2eipBh3MDo",
        "outputId": "f03ac84a-43a6-4a94-f614-5b125f2c1ddc"
      },
      "source": [
        "windows.ceo = 'Bill Gates'\n",
        "windows.ceo"
      ],
      "execution_count": 289,
      "outputs": [
        {
          "output_type": "execute_result",
          "data": {
            "application/vnd.google.colaboratory.intrinsic+json": {
              "type": "string"
            },
            "text/plain": [
              "'Bill Gates'"
            ]
          },
          "metadata": {},
          "execution_count": 289
        }
      ]
    },
    {
      "cell_type": "markdown",
      "metadata": {
        "id": "WyfnFgVidh4J"
      },
      "source": [
        "We can check what names (i.e. attributes and methods) are defined on an object using the dir() function:"
      ]
    },
    {
      "cell_type": "code",
      "metadata": {
        "colab": {
          "base_uri": "https://localhost:8080/"
        },
        "id": "pPoz0LA8O2PU",
        "outputId": "bf146226-23c9-4d39-c736-93131b14e6da"
      },
      "source": [
        "dir(apple)"
      ],
      "execution_count": 290,
      "outputs": [
        {
          "output_type": "execute_result",
          "data": {
            "text/plain": [
              "['__class__',\n",
              " '__delattr__',\n",
              " '__dict__',\n",
              " '__dir__',\n",
              " '__doc__',\n",
              " '__eq__',\n",
              " '__format__',\n",
              " '__ge__',\n",
              " '__getattribute__',\n",
              " '__gt__',\n",
              " '__hash__',\n",
              " '__init__',\n",
              " '__init_subclass__',\n",
              " '__le__',\n",
              " '__lt__',\n",
              " '__module__',\n",
              " '__ne__',\n",
              " '__new__',\n",
              " '__reduce__',\n",
              " '__reduce_ex__',\n",
              " '__repr__',\n",
              " '__setattr__',\n",
              " '__sizeof__',\n",
              " '__str__',\n",
              " '__subclasshook__',\n",
              " '__weakref__',\n",
              " 'ceo',\n",
              " 'close',\n",
              " 'open',\n",
              " 'print_return',\n",
              " 'rate_return',\n",
              " 'ticker',\n",
              " 'update',\n",
              " 'volume']"
            ]
          },
          "metadata": {},
          "execution_count": 290
        }
      ]
    },
    {
      "cell_type": "code",
      "metadata": {
        "colab": {
          "base_uri": "https://localhost:8080/"
        },
        "id": "yM10SQeX3cnZ",
        "outputId": "14d22ff1-e518-407a-c8a8-a4bdcfb982cb"
      },
      "source": [
        "dir(windows)"
      ],
      "execution_count": 291,
      "outputs": [
        {
          "output_type": "execute_result",
          "data": {
            "text/plain": [
              "['__class__',\n",
              " '__delattr__',\n",
              " '__dict__',\n",
              " '__dir__',\n",
              " '__doc__',\n",
              " '__eq__',\n",
              " '__format__',\n",
              " '__ge__',\n",
              " '__getattribute__',\n",
              " '__gt__',\n",
              " '__hash__',\n",
              " '__init__',\n",
              " '__init_subclass__',\n",
              " '__le__',\n",
              " '__lt__',\n",
              " '__module__',\n",
              " '__ne__',\n",
              " '__new__',\n",
              " '__reduce__',\n",
              " '__reduce_ex__',\n",
              " '__repr__',\n",
              " '__setattr__',\n",
              " '__sizeof__',\n",
              " '__str__',\n",
              " '__subclasshook__',\n",
              " '__weakref__',\n",
              " 'ceo',\n",
              " 'close',\n",
              " 'open',\n",
              " 'print_return',\n",
              " 'rate_return',\n",
              " 'ticker',\n",
              " 'update',\n",
              " 'volume']"
            ]
          },
          "metadata": {},
          "execution_count": 291
        }
      ]
    },
    {
      "cell_type": "markdown",
      "metadata": {
        "id": "Qpemj1UZd2aa"
      },
      "source": [
        "## Inheritance\n",
        "Inheritance is a way of arranging classes in a hierarchy from the most general to the most specific. A \"child\" class is a more specific type of a \"parent\" class because a child class will inherit all the attribues and methods of its parent. For example, we define a class named \"Child\" which inherits \"Stock\":"
      ]
    },
    {
      "cell_type": "code",
      "metadata": {
        "id": "UELXnxomO2PV"
      },
      "source": [
        "class child(stock):\n",
        "    def __init__(self,name):\n",
        "        self.name = name"
      ],
      "execution_count": 292,
      "outputs": []
    },
    {
      "cell_type": "code",
      "metadata": {
        "colab": {
          "base_uri": "https://localhost:8080/"
        },
        "id": "ffS2THZyO2PV",
        "outputId": "f22de5ab-af9e-42a5-9f23-e889a4e8ccde"
      },
      "source": [
        "aa = child('aa')\n",
        "print(aa.name)\n",
        "aa.update(100,102)\n",
        "print(aa.open)\n",
        "print(aa.close)\n",
        "print(aa.print_return())"
      ],
      "execution_count": 293,
      "outputs": [
        {
          "output_type": "stream",
          "name": "stdout",
          "text": [
            "aa\n",
            "100\n",
            "102\n",
            "0.020000000000000018\n",
            "None\n"
          ]
        }
      ]
    },
    {
      "cell_type": "code",
      "metadata": {
        "id": "qjznLX7QXuzI"
      },
      "source": [
        "class child(stock):\n",
        "    def __init__(self,name):\n",
        "        self.name = name"
      ],
      "execution_count": 294,
      "outputs": []
    },
    {
      "cell_type": "code",
      "metadata": {
        "colab": {
          "base_uri": "https://localhost:8080/"
        },
        "id": "ivpHizckYI6d",
        "outputId": "12de5032-f14d-40d0-e3e6-8cb5368bdc15"
      },
      "source": [
        "aci = child('aci')\n",
        "print(aci.name)\n",
        "aci.update(10,12)\n",
        "print(aci.open)\n",
        "print(aci.close)\n",
        "print(aci.print_return())"
      ],
      "execution_count": 295,
      "outputs": [
        {
          "output_type": "stream",
          "name": "stdout",
          "text": [
            "aci\n",
            "10\n",
            "12\n",
            "0.19999999999999996\n",
            "None\n"
          ]
        }
      ]
    },
    {
      "cell_type": "markdown",
      "metadata": {
        "id": "pdIEjUv2eJqL"
      },
      "source": [
        "As seen above, the new class Child has inherited the methods from Stock.\n",
        "\n",
        "#Summary\n",
        "\n",
        "In this chapter we have introduced functions and classes. When we write a QuantConnect algorithm, we would define our algorithm as a class (QCAlgorithm). This means our algorithm inherited the QC API methods from QCAlgorithm class.\n",
        "\n",
        "In the next chapter, we will introduce NumPy and Pandas, which enable us to conduct scientific calculations in Python."
      ]
    },
    {
      "cell_type": "markdown",
      "metadata": {
        "id": "dQbENH6mexTd"
      },
      "source": [
        "<div align=\"center\">\n",
        "<img style=\"display: block; margin: auto;\" alt=\"photo\" src=\"https://cdn.quantconnect.com/web/i/icon.png\">\n",
        "\n",
        "Quantconnect\n",
        "\n",
        "Introduction to Financial Python\n",
        "</div>\n",
        "\n",
        "# 04 NumPy and Basic Pandas\n",
        "\n",
        "# Introduction\n",
        "\n",
        "Now that we have introduced the fundamentals of Python, it's time to learn about NumPy and Pandas.\n",
        "\n",
        "# NumPy\n",
        "NumPy is the core library for scientific computing in Python. It provides a high-performance multidimensional array object, and tools for working with these arrays. It also has strong integration with Pandas, which is another powerful tool for manipulating financial data.\n",
        "\n",
        "Python packages like NumPy and Pandas contain classes and methods which we can use by importing the package:"
      ]
    },
    {
      "cell_type": "code",
      "metadata": {
        "id": "aIESp-rdO58h"
      },
      "source": [
        "import numpy as np"
      ],
      "execution_count": 296,
      "outputs": []
    },
    {
      "cell_type": "markdown",
      "metadata": {
        "id": "GScHHJ5ke7ea"
      },
      "source": [
        "## Basic NumPy Arrays\n",
        "A NumPy array is a grid of values, all of the same type, and is indexed by a tuple of nonnegative integers. Here we make an array by passing a list of Apple stock prices:"
      ]
    },
    {
      "cell_type": "code",
      "metadata": {
        "colab": {
          "base_uri": "https://localhost:8080/"
        },
        "id": "lZI1wkwDO58i",
        "outputId": "2567a062-6e4b-4ea9-e6bc-991e7f96d5b0"
      },
      "source": [
        "price_list = [143.73, 145.83, 143.68, 144.02, 143.5, 142.62]\n",
        "price_array = np.array(price_list)\n",
        "print(price_array, type(price_array))"
      ],
      "execution_count": 297,
      "outputs": [
        {
          "output_type": "stream",
          "name": "stdout",
          "text": [
            "[143.73 145.83 143.68 144.02 143.5  142.62] <class 'numpy.ndarray'>\n"
          ]
        }
      ]
    },
    {
      "cell_type": "code",
      "metadata": {
        "colab": {
          "base_uri": "https://localhost:8080/"
        },
        "id": "jGq4TaxcdCdU",
        "outputId": "8f1bc3b3-4c05-4ff9-bd69-6a782e33a0d9"
      },
      "source": [
        "price_list2 = [120, 100, 140, 138, 169, 167]\n",
        "price_array2 = np.array(price_list)\n",
        "print(price_array2, type(price_array2))"
      ],
      "execution_count": 298,
      "outputs": [
        {
          "output_type": "stream",
          "name": "stdout",
          "text": [
            "[143.73 145.83 143.68 144.02 143.5  142.62] <class 'numpy.ndarray'>\n"
          ]
        }
      ]
    },
    {
      "cell_type": "markdown",
      "metadata": {
        "id": "-5Yj6u9ifB-t"
      },
      "source": [
        "Notice that the type of array is \"ndarray\" which is a multi-dimensional array. If we pass np.array() a list of lists, it will create a 2-dimensional array."
      ]
    },
    {
      "cell_type": "code",
      "metadata": {
        "colab": {
          "base_uri": "https://localhost:8080/"
        },
        "id": "obvIZrK-O58j",
        "outputId": "812ef9f1-e772-4414-eb5a-798dbe53c366"
      },
      "source": [
        "Ar = np.array([[1,3],[2,4]])\n",
        "print(Ar, type(Ar))"
      ],
      "execution_count": 299,
      "outputs": [
        {
          "output_type": "stream",
          "name": "stdout",
          "text": [
            "[[1 3]\n",
            " [2 4]] <class 'numpy.ndarray'>\n"
          ]
        }
      ]
    },
    {
      "cell_type": "code",
      "metadata": {
        "colab": {
          "base_uri": "https://localhost:8080/"
        },
        "id": "SpZZvOMHee9q",
        "outputId": "3432e44d-346a-4a90-ab1c-e51cb485566f"
      },
      "source": [
        "Arr = np.array([[2,9],[5,4],[1,3],[7,9]])\n",
        "print(Arr, type(Arr))"
      ],
      "execution_count": 300,
      "outputs": [
        {
          "output_type": "stream",
          "name": "stdout",
          "text": [
            "[[2 9]\n",
            " [5 4]\n",
            " [1 3]\n",
            " [7 9]] <class 'numpy.ndarray'>\n"
          ]
        }
      ]
    },
    {
      "cell_type": "markdown",
      "metadata": {
        "id": "uDdfLD9HfHkl"
      },
      "source": [
        "We get the dimensions of an ndarray using the .shape attribute:"
      ]
    },
    {
      "cell_type": "code",
      "metadata": {
        "colab": {
          "base_uri": "https://localhost:8080/"
        },
        "id": "G2txdn73O58j",
        "outputId": "419696a5-a1c0-400a-b823-f128fe99a88a"
      },
      "source": [
        "print(Ar.shape)"
      ],
      "execution_count": 301,
      "outputs": [
        {
          "output_type": "stream",
          "name": "stdout",
          "text": [
            "(2, 2)\n"
          ]
        }
      ]
    },
    {
      "cell_type": "code",
      "metadata": {
        "colab": {
          "base_uri": "https://localhost:8080/"
        },
        "id": "LWmUKetjfBL5",
        "outputId": "ff454562-ce0b-4904-b8c0-312c50efc427"
      },
      "source": [
        "print(Arr.shape)"
      ],
      "execution_count": 302,
      "outputs": [
        {
          "output_type": "stream",
          "name": "stdout",
          "text": [
            "(4, 2)\n"
          ]
        }
      ]
    },
    {
      "cell_type": "markdown",
      "metadata": {
        "id": "87W5ueORfPEy"
      },
      "source": [
        "If we create an 2-dimensional array (i.e. matrix), each row can be accessed by index:"
      ]
    },
    {
      "cell_type": "code",
      "metadata": {
        "colab": {
          "base_uri": "https://localhost:8080/"
        },
        "id": "x_QV9aPbO58j",
        "outputId": "9d046f0b-f959-4cc6-80ad-edea80cee862"
      },
      "source": [
        "print(Ar[0])\n",
        "print(Ar[1])"
      ],
      "execution_count": 303,
      "outputs": [
        {
          "output_type": "stream",
          "name": "stdout",
          "text": [
            "[1 3]\n",
            "[2 4]\n"
          ]
        }
      ]
    },
    {
      "cell_type": "code",
      "metadata": {
        "colab": {
          "base_uri": "https://localhost:8080/"
        },
        "id": "ErKysfBrfnDP",
        "outputId": "3f07b6e4-e144-4805-f57f-5ae4fe332d75"
      },
      "source": [
        "print(Arr[0])\n",
        "print(Arr[1])\n",
        "print(Arr[2])\n",
        "print(Arr[3])"
      ],
      "execution_count": 304,
      "outputs": [
        {
          "output_type": "stream",
          "name": "stdout",
          "text": [
            "[2 9]\n",
            "[5 4]\n",
            "[1 3]\n",
            "[7 9]\n"
          ]
        }
      ]
    },
    {
      "cell_type": "markdown",
      "metadata": {
        "id": "5Hke7Vt-fSGB"
      },
      "source": [
        "If we want to access the matrix by column instead:"
      ]
    },
    {
      "cell_type": "code",
      "metadata": {
        "colab": {
          "base_uri": "https://localhost:8080/"
        },
        "id": "gHVwbPfOO58j",
        "outputId": "c2863936-2bf0-4d40-9759-3a39a9d0ad3c"
      },
      "source": [
        "print('the first column: ', Ar[:,0])\n",
        "print('the second column: ', Ar[:,1])"
      ],
      "execution_count": 305,
      "outputs": [
        {
          "output_type": "stream",
          "name": "stdout",
          "text": [
            "the first column:  [1 2]\n",
            "the second column:  [3 4]\n"
          ]
        }
      ]
    },
    {
      "cell_type": "code",
      "metadata": {
        "colab": {
          "base_uri": "https://localhost:8080/"
        },
        "id": "6Ypr5IHXlgvC",
        "outputId": "2d4130c9-7528-4e01-e411-7b410476b2eb"
      },
      "source": [
        "print('Primera columna: ', Arr[:,0])\n",
        "print('Segunda columna: ', Arr[:,1])"
      ],
      "execution_count": 306,
      "outputs": [
        {
          "output_type": "stream",
          "name": "stdout",
          "text": [
            "Primera columna:  [2 5 1 7]\n",
            "Segunda columna:  [9 4 3 9]\n"
          ]
        }
      ]
    },
    {
      "cell_type": "markdown",
      "metadata": {
        "id": "T61cD0HMfStB"
      },
      "source": [
        "## Array Functions\n",
        "Some functions built in NumPy that allow us to perform calculations on arrays. For example, we can apply the natural logarithm to each element of an array:"
      ]
    },
    {
      "cell_type": "code",
      "metadata": {
        "colab": {
          "base_uri": "https://localhost:8080/"
        },
        "id": "PKhwtJ7XO58k",
        "outputId": "c53f36b8-a8df-4b1a-a8d5-4105abd92e29"
      },
      "source": [
        "print(np.log(price_array))"
      ],
      "execution_count": 307,
      "outputs": [
        {
          "output_type": "stream",
          "name": "stdout",
          "text": [
            "[4.96793654 4.98244156 4.9675886  4.96995218 4.96633504 4.96018375]\n"
          ]
        }
      ]
    },
    {
      "cell_type": "code",
      "metadata": {
        "colab": {
          "base_uri": "https://localhost:8080/"
        },
        "id": "38e9rJynnbiT",
        "outputId": "2f736a3b-3e20-429f-be40-79400698aa04"
      },
      "source": [
        "print(np.log(price_array2))"
      ],
      "execution_count": 308,
      "outputs": [
        {
          "output_type": "stream",
          "name": "stdout",
          "text": [
            "[4.96793654 4.98244156 4.9675886  4.96995218 4.96633504 4.96018375]\n"
          ]
        }
      ]
    },
    {
      "cell_type": "markdown",
      "metadata": {
        "id": "uzjBRFBLfZ-D"
      },
      "source": [
        "Other functions return a single value:"
      ]
    },
    {
      "cell_type": "code",
      "metadata": {
        "colab": {
          "base_uri": "https://localhost:8080/"
        },
        "id": "nQuABZqUO58k",
        "outputId": "e94eb7f3-6134-40f5-f368-289005029698"
      },
      "source": [
        "print(np.mean(price_array))\n",
        "print(np.std(price_array))\n",
        "print(np.sum(price_array))\n",
        "print(np.max(price_array))"
      ],
      "execution_count": 309,
      "outputs": [
        {
          "output_type": "stream",
          "name": "stdout",
          "text": [
            "143.89666666666668\n",
            "0.9673790478515796\n",
            "863.38\n",
            "145.83\n"
          ]
        }
      ]
    },
    {
      "cell_type": "code",
      "metadata": {
        "colab": {
          "base_uri": "https://localhost:8080/"
        },
        "id": "rAqXTmarqlj4",
        "outputId": "a4113d1d-041c-4693-c83e-48795abf3efa"
      },
      "source": [
        "print(np.mean(price_array2))\n",
        "print(np.std(price_array2))\n",
        "print(np.sum(price_array2))\n",
        "print(np.max(price_array2))"
      ],
      "execution_count": 310,
      "outputs": [
        {
          "output_type": "stream",
          "name": "stdout",
          "text": [
            "143.89666666666668\n",
            "0.9673790478515796\n",
            "863.38\n",
            "145.83\n"
          ]
        }
      ]
    },
    {
      "cell_type": "markdown",
      "metadata": {
        "id": "IRW95BsifgDB"
      },
      "source": [
        "The functions above return the mean, standard deviation, total and maximum value of an array.\n",
        "\n",
        "# Pandas\n",
        "Pandas is one of the most powerful tools for dealing with financial data. \n",
        "\n",
        "First we need to import Pandas:"
      ]
    },
    {
      "cell_type": "code",
      "metadata": {
        "id": "xIYH4oUfO58k"
      },
      "source": [
        "import pandas as pd"
      ],
      "execution_count": 311,
      "outputs": []
    },
    {
      "cell_type": "markdown",
      "metadata": {
        "id": "zOig5gORfnJU"
      },
      "source": [
        "## Series\n",
        "Series is a one-dimensional labeled array capable of holding any data type (integers, strings, float, Python object, etc.)\n",
        "\n",
        "We create a Series by calling pd.Series(data), where data can be a dictionary, an array or just a scalar value."
      ]
    },
    {
      "cell_type": "code",
      "metadata": {
        "colab": {
          "base_uri": "https://localhost:8080/"
        },
        "id": "JmzoNzrPO58k",
        "outputId": "90480813-a85c-49da-eaaf-ec76a2468777"
      },
      "source": [
        "price = [143.73, 145.83, 143.68, 144.02, 143.5, 142.62]\n",
        "s = pd.Series(price)\n",
        "s"
      ],
      "execution_count": 312,
      "outputs": [
        {
          "output_type": "execute_result",
          "data": {
            "text/plain": [
              "0    143.73\n",
              "1    145.83\n",
              "2    143.68\n",
              "3    144.02\n",
              "4    143.50\n",
              "5    142.62\n",
              "dtype: float64"
            ]
          },
          "metadata": {},
          "execution_count": 312
        }
      ]
    },
    {
      "cell_type": "code",
      "metadata": {
        "colab": {
          "base_uri": "https://localhost:8080/"
        },
        "id": "G3KdYh8erCrL",
        "outputId": "6cd8fdf1-515a-469d-b7bc-3e75538b20fe"
      },
      "source": [
        "price2 = [140, 150.3, 156.98, 135.88, 148.07, 142.82]\n",
        "m = pd.Series(price2)\n",
        "m"
      ],
      "execution_count": 313,
      "outputs": [
        {
          "output_type": "execute_result",
          "data": {
            "text/plain": [
              "0    140.00\n",
              "1    150.30\n",
              "2    156.98\n",
              "3    135.88\n",
              "4    148.07\n",
              "5    142.82\n",
              "dtype: float64"
            ]
          },
          "metadata": {},
          "execution_count": 313
        }
      ]
    },
    {
      "cell_type": "markdown",
      "metadata": {
        "id": "tP5iDnunfq46"
      },
      "source": [
        "We can customize the indices of a new Series:"
      ]
    },
    {
      "cell_type": "code",
      "metadata": {
        "colab": {
          "base_uri": "https://localhost:8080/"
        },
        "id": "eswQC3ZPO58l",
        "outputId": "9068a441-00b6-45a8-a3e7-3a760b4e2744"
      },
      "source": [
        "s = pd.Series(price,index = ['a','b','c','d','e','f'])\n",
        "s"
      ],
      "execution_count": 314,
      "outputs": [
        {
          "output_type": "execute_result",
          "data": {
            "text/plain": [
              "a    143.73\n",
              "b    145.83\n",
              "c    143.68\n",
              "d    144.02\n",
              "e    143.50\n",
              "f    142.62\n",
              "dtype: float64"
            ]
          },
          "metadata": {},
          "execution_count": 314
        }
      ]
    },
    {
      "cell_type": "code",
      "metadata": {
        "colab": {
          "base_uri": "https://localhost:8080/"
        },
        "id": "FFYyPMcVsPzn",
        "outputId": "51a235ff-103d-4a09-cb21-5c6d1584e6bc"
      },
      "source": [
        "m = pd.Series(price2,index = ['I','II','III','IV','V','VI'])\n",
        "m"
      ],
      "execution_count": 315,
      "outputs": [
        {
          "output_type": "execute_result",
          "data": {
            "text/plain": [
              "I      140.00\n",
              "II     150.30\n",
              "III    156.98\n",
              "IV     135.88\n",
              "V      148.07\n",
              "VI     142.82\n",
              "dtype: float64"
            ]
          },
          "metadata": {},
          "execution_count": 315
        }
      ]
    },
    {
      "cell_type": "markdown",
      "metadata": {
        "id": "wdZrb8pEfuua"
      },
      "source": [
        "Or we can change the indices of an existing Series:"
      ]
    },
    {
      "cell_type": "code",
      "metadata": {
        "colab": {
          "base_uri": "https://localhost:8080/"
        },
        "id": "MwlRnPF6O58l",
        "outputId": "7833e0ba-e1f0-4b6f-ceac-0a3b57ae1d8b"
      },
      "source": [
        "s.index = [6,5,4,3,2,1]\n",
        "s"
      ],
      "execution_count": 316,
      "outputs": [
        {
          "output_type": "execute_result",
          "data": {
            "text/plain": [
              "6    143.73\n",
              "5    145.83\n",
              "4    143.68\n",
              "3    144.02\n",
              "2    143.50\n",
              "1    142.62\n",
              "dtype: float64"
            ]
          },
          "metadata": {},
          "execution_count": 316
        }
      ]
    },
    {
      "cell_type": "code",
      "metadata": {
        "colab": {
          "base_uri": "https://localhost:8080/"
        },
        "id": "yPNVXtOysm5u",
        "outputId": "d5dd87aa-8b47-4dd1-c3a8-7f7b82b1e9e0"
      },
      "source": [
        "m.index = [1,2,3,4,5,6]\n",
        "m"
      ],
      "execution_count": 317,
      "outputs": [
        {
          "output_type": "execute_result",
          "data": {
            "text/plain": [
              "1    140.00\n",
              "2    150.30\n",
              "3    156.98\n",
              "4    135.88\n",
              "5    148.07\n",
              "6    142.82\n",
              "dtype: float64"
            ]
          },
          "metadata": {},
          "execution_count": 317
        }
      ]
    },
    {
      "cell_type": "markdown",
      "metadata": {
        "id": "6cGNQZwLfxIz"
      },
      "source": [
        "Series is like a list since it can be sliced by index:"
      ]
    },
    {
      "cell_type": "code",
      "metadata": {
        "colab": {
          "base_uri": "https://localhost:8080/"
        },
        "id": "N9bBSg6cO58l",
        "outputId": "f73672e6-4003-4f06-cb33-336fc5ac3d38"
      },
      "source": [
        "print(s[1:])\n",
        "print(s[:-2])"
      ],
      "execution_count": 318,
      "outputs": [
        {
          "output_type": "stream",
          "name": "stdout",
          "text": [
            "5    145.83\n",
            "4    143.68\n",
            "3    144.02\n",
            "2    143.50\n",
            "1    142.62\n",
            "dtype: float64\n",
            "6    143.73\n",
            "5    145.83\n",
            "4    143.68\n",
            "3    144.02\n",
            "dtype: float64\n"
          ]
        }
      ]
    },
    {
      "cell_type": "code",
      "metadata": {
        "colab": {
          "base_uri": "https://localhost:8080/"
        },
        "id": "xRWpR1zntMvk",
        "outputId": "78314f67-b527-45a5-c003-768815987275"
      },
      "source": [
        "print(m[4:])\n",
        "print(m[:-3])"
      ],
      "execution_count": 319,
      "outputs": [
        {
          "output_type": "stream",
          "name": "stdout",
          "text": [
            "5    148.07\n",
            "6    142.82\n",
            "dtype: float64\n",
            "1    140.00\n",
            "2    150.30\n",
            "3    156.98\n",
            "dtype: float64\n"
          ]
        }
      ]
    },
    {
      "cell_type": "markdown",
      "metadata": {
        "id": "5V25nViZfz3Z"
      },
      "source": [
        "Series is also like a dictionary whose values can be set or fetched by index label:"
      ]
    },
    {
      "cell_type": "code",
      "metadata": {
        "colab": {
          "base_uri": "https://localhost:8080/"
        },
        "id": "b3Y0kKGYO58l",
        "outputId": "450a5eee-bdec-47ce-c92e-59e0311a237f"
      },
      "source": [
        "print(s[4])\n",
        "s[4] = 0\n",
        "print(s)"
      ],
      "execution_count": 320,
      "outputs": [
        {
          "output_type": "stream",
          "name": "stdout",
          "text": [
            "143.68\n",
            "6    143.73\n",
            "5    145.83\n",
            "4      0.00\n",
            "3    144.02\n",
            "2    143.50\n",
            "1    142.62\n",
            "dtype: float64\n"
          ]
        }
      ]
    },
    {
      "cell_type": "code",
      "metadata": {
        "colab": {
          "base_uri": "https://localhost:8080/"
        },
        "id": "Xn6KsnhOjizS",
        "outputId": "150e353b-ac43-48fb-e714-32dbb91d9bd2"
      },
      "source": [
        "print(m[3])\n",
        "m[2] = 0\n",
        "print(m)"
      ],
      "execution_count": 321,
      "outputs": [
        {
          "output_type": "stream",
          "name": "stdout",
          "text": [
            "156.98\n",
            "1    140.00\n",
            "2      0.00\n",
            "3    156.98\n",
            "4    135.88\n",
            "5    148.07\n",
            "6    142.82\n",
            "dtype: float64\n"
          ]
        }
      ]
    },
    {
      "cell_type": "markdown",
      "metadata": {
        "id": "RQ1P7Gkyf060"
      },
      "source": [
        "Series can also have a name attribute, which will be used when we make up a Pandas DataFrame using several series."
      ]
    },
    {
      "cell_type": "code",
      "metadata": {
        "colab": {
          "base_uri": "https://localhost:8080/"
        },
        "id": "ZeD4-p7KO58m",
        "outputId": "22f2fcc8-a253-421b-e5ce-e62aa8a5b2d8"
      },
      "source": [
        "s = pd.Series(price, name = 'Apple Price List')\n",
        "print(s)\n",
        "print(s.name)"
      ],
      "execution_count": 322,
      "outputs": [
        {
          "output_type": "stream",
          "name": "stdout",
          "text": [
            "0    143.73\n",
            "1    145.83\n",
            "2    143.68\n",
            "3    144.02\n",
            "4    143.50\n",
            "5    142.62\n",
            "Name: Apple Price List, dtype: float64\n",
            "Apple Price List\n"
          ]
        }
      ]
    },
    {
      "cell_type": "code",
      "metadata": {
        "colab": {
          "base_uri": "https://localhost:8080/"
        },
        "id": "-pleCZ9NkwZH",
        "outputId": "a7980a39-d4b9-4dea-805f-d6ee6adfee9d"
      },
      "source": [
        "m = pd.Series(price2, name = 'Lista de precio de Facebook')\n",
        "print(m)\n",
        "print(m.name)"
      ],
      "execution_count": 323,
      "outputs": [
        {
          "output_type": "stream",
          "name": "stdout",
          "text": [
            "0    140.00\n",
            "1    150.30\n",
            "2    156.98\n",
            "3    135.88\n",
            "4    148.07\n",
            "5    142.82\n",
            "Name: Lista de precio de Facebook, dtype: float64\n",
            "Lista de precio de Facebook\n"
          ]
        }
      ]
    },
    {
      "cell_type": "markdown",
      "metadata": {
        "id": "geJb1pGHf5Et"
      },
      "source": [
        "We can get the statistical summaries of a Series:"
      ]
    },
    {
      "cell_type": "code",
      "metadata": {
        "colab": {
          "base_uri": "https://localhost:8080/"
        },
        "id": "mGPtFcjegm4i",
        "outputId": "ce7ffab5-48ad-44b0-c896-d9b0ac0c8fe4"
      },
      "source": [
        "print(s.describe())"
      ],
      "execution_count": 324,
      "outputs": [
        {
          "output_type": "stream",
          "name": "stdout",
          "text": [
            "count      6.000000\n",
            "mean     143.896667\n",
            "std        1.059711\n",
            "min      142.620000\n",
            "25%      143.545000\n",
            "50%      143.705000\n",
            "75%      143.947500\n",
            "max      145.830000\n",
            "Name: Apple Price List, dtype: float64\n"
          ]
        }
      ]
    },
    {
      "cell_type": "code",
      "metadata": {
        "colab": {
          "base_uri": "https://localhost:8080/"
        },
        "id": "8rCoRZFQlEZZ",
        "outputId": "9ac0e60f-c191-42b4-aff2-6cad608d4b1e"
      },
      "source": [
        "print(m.describe())"
      ],
      "execution_count": 325,
      "outputs": [
        {
          "output_type": "stream",
          "name": "stdout",
          "text": [
            "count      6.000000\n",
            "mean     145.675000\n",
            "std        7.631885\n",
            "min      135.880000\n",
            "25%      140.705000\n",
            "50%      145.445000\n",
            "75%      149.742500\n",
            "max      156.980000\n",
            "Name: Lista de precio de Facebook, dtype: float64\n"
          ]
        }
      ]
    },
    {
      "cell_type": "markdown",
      "metadata": {
        "id": "LkdZu-CDgvlR"
      },
      "source": [
        "## Time Index\n",
        "Pandas has a built-in function specifically for creating date indices: pd.date_range(). We use it to create a new index for our Series:"
      ]
    },
    {
      "cell_type": "code",
      "metadata": {
        "colab": {
          "base_uri": "https://localhost:8080/"
        },
        "id": "HJe5hU4zO58m",
        "outputId": "0e0fa8cd-05e9-41aa-cdc9-d30251271f73"
      },
      "source": [
        "time_index = pd.date_range('2017-01-01',periods = len(s),freq = 'D')\n",
        "print(time_index)\n",
        "s.index = time_index\n",
        "print(s)"
      ],
      "execution_count": 326,
      "outputs": [
        {
          "output_type": "stream",
          "name": "stdout",
          "text": [
            "DatetimeIndex(['2017-01-01', '2017-01-02', '2017-01-03', '2017-01-04',\n",
            "               '2017-01-05', '2017-01-06'],\n",
            "              dtype='datetime64[ns]', freq='D')\n",
            "2017-01-01    143.73\n",
            "2017-01-02    145.83\n",
            "2017-01-03    143.68\n",
            "2017-01-04    144.02\n",
            "2017-01-05    143.50\n",
            "2017-01-06    142.62\n",
            "Freq: D, Name: Apple Price List, dtype: float64\n"
          ]
        }
      ]
    },
    {
      "cell_type": "code",
      "metadata": {
        "colab": {
          "base_uri": "https://localhost:8080/"
        },
        "id": "YvQi2ps5oJAq",
        "outputId": "647ca57a-1f0b-43dc-dfca-2cf21baa1f34"
      },
      "source": [
        "time_index = pd.date_range('2018-01-01',periods = len(m),freq = 'D')\n",
        "print(time_index)\n",
        "m.index = time_index\n",
        "print(m)"
      ],
      "execution_count": 327,
      "outputs": [
        {
          "output_type": "stream",
          "name": "stdout",
          "text": [
            "DatetimeIndex(['2018-01-01', '2018-01-02', '2018-01-03', '2018-01-04',\n",
            "               '2018-01-05', '2018-01-06'],\n",
            "              dtype='datetime64[ns]', freq='D')\n",
            "2018-01-01    140.00\n",
            "2018-01-02    150.30\n",
            "2018-01-03    156.98\n",
            "2018-01-04    135.88\n",
            "2018-01-05    148.07\n",
            "2018-01-06    142.82\n",
            "Freq: D, Name: Lista de precio de Facebook, dtype: float64\n"
          ]
        }
      ]
    },
    {
      "cell_type": "markdown",
      "metadata": {
        "id": "7WedejFZg19J"
      },
      "source": [
        "Series are usually accessed using the iloc[] and loc[] methods. iloc[] is used to access elements by integer index, and loc[] is used to access the index of the series.\n",
        "\n",
        "iloc[] is necessary when the index of a series are integers, take our previous defined series as example:"
      ]
    },
    {
      "cell_type": "code",
      "metadata": {
        "colab": {
          "base_uri": "https://localhost:8080/"
        },
        "id": "KrVSOyMvO58m",
        "outputId": "f80e7e78-56b7-4819-d7c2-b874c524c28d"
      },
      "source": [
        "s.index = [6,5,4,3,2,1]\n",
        "print(s)\n",
        "print(s[1])"
      ],
      "execution_count": 335,
      "outputs": [
        {
          "output_type": "stream",
          "name": "stdout",
          "text": [
            "6    143.73\n",
            "5    145.83\n",
            "4    143.68\n",
            "3    144.02\n",
            "2    143.50\n",
            "1    142.62\n",
            "Name: Apple Price List, dtype: float64\n",
            "142.62\n"
          ]
        }
      ]
    },
    {
      "cell_type": "code",
      "metadata": {
        "colab": {
          "base_uri": "https://localhost:8080/"
        },
        "id": "6bVd9-_som6B",
        "outputId": "af514a99-7d9a-4b5f-9468-345553e75040"
      },
      "source": [
        "m.index = [6,5,4,3,2,1]\n",
        "print(m)\n",
        "print(m[5])"
      ],
      "execution_count": 336,
      "outputs": [
        {
          "output_type": "stream",
          "name": "stdout",
          "text": [
            "6    140.00\n",
            "5    150.30\n",
            "4    156.98\n",
            "3    135.88\n",
            "2    148.07\n",
            "1    142.82\n",
            "Name: Lista de precio de Facebook, dtype: float64\n",
            "150.3\n"
          ]
        }
      ]
    },
    {
      "cell_type": "markdown",
      "metadata": {
        "id": "r30VKPtpg61p"
      },
      "source": [
        "If we intended to take the second element of the series, we would make a mistake here, because the index are integers. In order to access to the element we want, we use iloc[] here:"
      ]
    },
    {
      "cell_type": "code",
      "metadata": {
        "colab": {
          "base_uri": "https://localhost:8080/"
        },
        "id": "bHukfaAmO58m",
        "outputId": "8269930e-5096-42f0-d800-c19c9e7d5d7e"
      },
      "source": [
        "print(s.iloc[1])"
      ],
      "execution_count": 334,
      "outputs": [
        {
          "output_type": "stream",
          "name": "stdout",
          "text": [
            "145.83\n"
          ]
        }
      ]
    },
    {
      "cell_type": "code",
      "metadata": {
        "colab": {
          "base_uri": "https://localhost:8080/"
        },
        "id": "6Vz41CpDo4JJ",
        "outputId": "fae49b9f-1c86-4291-963b-ba0ae371dc02"
      },
      "source": [
        "print(m.iloc[2])"
      ],
      "execution_count": 331,
      "outputs": [
        {
          "output_type": "stream",
          "name": "stdout",
          "text": [
            "156.98\n"
          ]
        }
      ]
    },
    {
      "cell_type": "markdown",
      "metadata": {
        "id": "kHVBRL_Rg84j"
      },
      "source": [
        "While working with time series data, we often use time as the index. Pandas provides us with various methods to access the data by time index"
      ]
    },
    {
      "cell_type": "code",
      "metadata": {
        "colab": {
          "base_uri": "https://localhost:8080/"
        },
        "id": "FCf8Hg7jO58n",
        "outputId": "10835bd4-6a63-4acd-8014-739b80b7a437"
      },
      "source": [
        "s.index = time_index\n",
        "print(s['2018-01-03'])"
      ],
      "execution_count": 338,
      "outputs": [
        {
          "output_type": "stream",
          "name": "stdout",
          "text": [
            "143.68\n"
          ]
        }
      ]
    },
    {
      "cell_type": "code",
      "metadata": {
        "colab": {
          "base_uri": "https://localhost:8080/"
        },
        "id": "V0_CWfvzpKUh",
        "outputId": "38d0f979-687c-4abd-d9cc-2571929514e0"
      },
      "source": [
        "m.index = time_index\n",
        "print(m['2018-01-03'])"
      ],
      "execution_count": 339,
      "outputs": [
        {
          "output_type": "stream",
          "name": "stdout",
          "text": [
            "156.98\n"
          ]
        }
      ]
    },
    {
      "cell_type": "markdown",
      "metadata": {
        "id": "XJXcrSFpg-To"
      },
      "source": [
        "We can even access to a range of dates:"
      ]
    },
    {
      "cell_type": "code",
      "metadata": {
        "colab": {
          "base_uri": "https://localhost:8080/"
        },
        "id": "NsE-Lr_9O58n",
        "outputId": "62f8f94d-f9e8-4842-ef4e-35ca67779062"
      },
      "source": [
        "print(s['2018-01-02':'2018-01-05'])"
      ],
      "execution_count": 342,
      "outputs": [
        {
          "output_type": "stream",
          "name": "stdout",
          "text": [
            "2018-01-02    145.83\n",
            "2018-01-03    143.68\n",
            "2018-01-04    144.02\n",
            "2018-01-05    143.50\n",
            "Freq: D, Name: Apple Price List, dtype: float64\n"
          ]
        }
      ]
    },
    {
      "cell_type": "code",
      "metadata": {
        "colab": {
          "base_uri": "https://localhost:8080/"
        },
        "id": "175AQ7WspRXW",
        "outputId": "d71ad224-bf57-484f-f058-a5c8adebc7b5"
      },
      "source": [
        "print(m['2018-01-02':'2018-01-05'])"
      ],
      "execution_count": 341,
      "outputs": [
        {
          "output_type": "stream",
          "name": "stdout",
          "text": [
            "2018-01-02    150.30\n",
            "2018-01-03    156.98\n",
            "2018-01-04    135.88\n",
            "2018-01-05    148.07\n",
            "Freq: D, Name: Lista de precio de Facebook, dtype: float64\n"
          ]
        }
      ]
    },
    {
      "cell_type": "markdown",
      "metadata": {
        "id": "cWA3NCXEhCLB"
      },
      "source": [
        "Series[] provides us a very flexible way to index data. We can add any condition in the square brackets:"
      ]
    },
    {
      "cell_type": "code",
      "metadata": {
        "colab": {
          "base_uri": "https://localhost:8080/"
        },
        "id": "aawbrg2EO58n",
        "outputId": "a8851eaf-3e0c-43a2-e6bb-0ba6316c75f0"
      },
      "source": [
        "print(s[s < np.mean(s)] )\n",
        "print([(s > np.mean(s)) & (s < np.mean(s) + 1.64*np.std(s))])"
      ],
      "execution_count": 343,
      "outputs": [
        {
          "output_type": "stream",
          "name": "stdout",
          "text": [
            "2018-01-01    143.73\n",
            "2018-01-03    143.68\n",
            "2018-01-05    143.50\n",
            "2018-01-06    142.62\n",
            "Name: Apple Price List, dtype: float64\n",
            "[2018-01-01    False\n",
            "2018-01-02    False\n",
            "2018-01-03    False\n",
            "2018-01-04     True\n",
            "2018-01-05    False\n",
            "2018-01-06    False\n",
            "Freq: D, Name: Apple Price List, dtype: bool]\n"
          ]
        }
      ]
    },
    {
      "cell_type": "code",
      "metadata": {
        "colab": {
          "base_uri": "https://localhost:8080/"
        },
        "id": "17f161i2pgSM",
        "outputId": "baf45123-c6d4-421e-f008-cee0aa322e37"
      },
      "source": [
        "print(m[m < np.mean(m)] )\n",
        "print([(m > np.mean(m)) & (m < np.mean(m) + 1.64*np.std(m))])"
      ],
      "execution_count": 344,
      "outputs": [
        {
          "output_type": "stream",
          "name": "stdout",
          "text": [
            "2018-01-01    140.00\n",
            "2018-01-04    135.88\n",
            "2018-01-06    142.82\n",
            "Name: Lista de precio de Facebook, dtype: float64\n",
            "[2018-01-01    False\n",
            "2018-01-02     True\n",
            "2018-01-03     True\n",
            "2018-01-04    False\n",
            "2018-01-05     True\n",
            "2018-01-06    False\n",
            "Freq: D, Name: Lista de precio de Facebook, dtype: bool]\n"
          ]
        }
      ]
    },
    {
      "cell_type": "markdown",
      "metadata": {
        "id": "jAByChIwhEuI"
      },
      "source": [
        "As demonstrated, we can use logical operators like & (and), | (or) and ~ (not) to group multiple conditions.\n",
        "\n",
        "# Summary\n",
        "Here we have introduced NumPy and Pandas for scientific computing in Python. In the next chapter, we will dive into Pandas to learn resampling and manipulating Pandas DataFrame, which are commonly used in financial data analysis."
      ]
    },
    {
      "cell_type": "markdown",
      "metadata": {
        "id": "OtjOpw6oJp6z"
      },
      "source": [
        "<div align=\"center\">\n",
        "<img style=\"display: block; margin: auto;\" alt=\"photo\" src=\"https://cdn.quantconnect.com/web/i/icon.png\"> <img style=\"display: block; margin: auto;\" alt=\"photo\" src=\"https://www.marketing-branding.com/wp-content/uploads/2020/07/google-colaboratory-colab-guia-completa.jpg \" width=\"50\" height=\"50\">\n",
        "<img style=\"display: block; margin: auto;\" alt=\"photo\" src=\"https://upload.wikimedia.org/wikipedia/commons/d/da/Yahoo_Finance_Logo_2019.svg\" width=\"50\" height=\"50\">  \n",
        "\n",
        "Quantconnect -> Google Colab with Yahoo Finance data\n",
        "\n",
        "Introduction to Financial Python\n",
        "</div>\n",
        "\n",
        "# 05 Pandas-Resampling and DataFrame\n",
        "\n",
        "# Introduction\n",
        "In the last chapter we had a glimpse of Pandas. In this chapter we will learn about resampling methods and the DataFrame object, which is a powerful tool for financial data analysis.\n",
        "\n",
        "# Fetching Data\n",
        "Here we use the Yahoo Finance to retrieve data.\n"
      ]
    },
    {
      "cell_type": "code",
      "metadata": {
        "colab": {
          "base_uri": "https://localhost:8080/"
        },
        "id": "luU8mZTsHW9x",
        "outputId": "ba31f273-e8ad-4394-d301-1c5538f8c345"
      },
      "source": [
        "!pip install yfinance"
      ],
      "execution_count": 345,
      "outputs": [
        {
          "output_type": "stream",
          "name": "stdout",
          "text": [
            "Collecting yfinance\n",
            "  Downloading yfinance-0.1.64.tar.gz (26 kB)\n",
            "Requirement already satisfied: pandas>=0.24 in /usr/local/lib/python3.7/dist-packages (from yfinance) (1.1.5)\n",
            "Requirement already satisfied: numpy>=1.15 in /usr/local/lib/python3.7/dist-packages (from yfinance) (1.19.5)\n",
            "Requirement already satisfied: requests>=2.20 in /usr/local/lib/python3.7/dist-packages (from yfinance) (2.23.0)\n",
            "Requirement already satisfied: multitasking>=0.0.7 in /usr/local/lib/python3.7/dist-packages (from yfinance) (0.0.9)\n",
            "Collecting lxml>=4.5.1\n",
            "  Downloading lxml-4.6.3-cp37-cp37m-manylinux2014_x86_64.whl (6.3 MB)\n",
            "\u001b[K     |████████████████████████████████| 6.3 MB 6.3 MB/s \n",
            "\u001b[?25hRequirement already satisfied: pytz>=2017.2 in /usr/local/lib/python3.7/dist-packages (from pandas>=0.24->yfinance) (2018.9)\n",
            "Requirement already satisfied: python-dateutil>=2.7.3 in /usr/local/lib/python3.7/dist-packages (from pandas>=0.24->yfinance) (2.8.2)\n",
            "Requirement already satisfied: six>=1.5 in /usr/local/lib/python3.7/dist-packages (from python-dateutil>=2.7.3->pandas>=0.24->yfinance) (1.15.0)\n",
            "Requirement already satisfied: urllib3!=1.25.0,!=1.25.1,<1.26,>=1.21.1 in /usr/local/lib/python3.7/dist-packages (from requests>=2.20->yfinance) (1.24.3)\n",
            "Requirement already satisfied: chardet<4,>=3.0.2 in /usr/local/lib/python3.7/dist-packages (from requests>=2.20->yfinance) (3.0.4)\n",
            "Requirement already satisfied: idna<3,>=2.5 in /usr/local/lib/python3.7/dist-packages (from requests>=2.20->yfinance) (2.10)\n",
            "Requirement already satisfied: certifi>=2017.4.17 in /usr/local/lib/python3.7/dist-packages (from requests>=2.20->yfinance) (2021.5.30)\n",
            "Building wheels for collected packages: yfinance\n",
            "  Building wheel for yfinance (setup.py) ... \u001b[?25l\u001b[?25hdone\n",
            "  Created wheel for yfinance: filename=yfinance-0.1.64-py2.py3-none-any.whl size=24109 sha256=1fc0871aebf0d3aeb4fe3b9d0d086faaf531af68a86416e21366f7f01914a00a\n",
            "  Stored in directory: /root/.cache/pip/wheels/86/fe/9b/a4d3d78796b699e37065e5b6c27b75cff448ddb8b24943c288\n",
            "Successfully built yfinance\n",
            "Installing collected packages: lxml, yfinance\n",
            "  Attempting uninstall: lxml\n",
            "    Found existing installation: lxml 4.2.6\n",
            "    Uninstalling lxml-4.2.6:\n",
            "      Successfully uninstalled lxml-4.2.6\n",
            "Successfully installed lxml-4.6.3 yfinance-0.1.64\n"
          ]
        }
      ]
    },
    {
      "cell_type": "code",
      "metadata": {
        "colab": {
          "base_uri": "https://localhost:8080/",
          "height": 492
        },
        "id": "mWZ-nirTZHrE",
        "outputId": "0093c7cc-395c-4d26-c401-86c6c1c6d6f4"
      },
      "source": [
        "import yfinance as yf\n",
        "\n",
        "fb = yf.Ticker(\"FB\")\n",
        "\n",
        "# get stock info\n",
        "print(fb.info)\n",
        "\n",
        "# get historical market data\n",
        "fb_table = fb.history(start=\"2018-01-01\",  end=\"2019-12-31\")\n",
        "fb_table"
      ],
      "execution_count": 395,
      "outputs": [
        {
          "output_type": "stream",
          "name": "stdout",
          "text": [
            "{'zip': '94025', 'sector': 'Communication Services', 'fullTimeEmployees': 63404, 'longBusinessSummary': \"Facebook, Inc. develops products that enable people to connect and share with friends and family through mobile devices, personal computers, virtual reality headsets, and in-home devices worldwide. The company's products include Facebook that enables people to connect, share, discover, and communicate with each other on mobile devices and personal computers; Instagram, a community for sharing photos, videos, and private messages; Messenger, a messaging application for people to connect with friends, family, groups, and businesses across platforms and devices; and WhatsApp, a messaging application that is used by people and businesses to communicate in a private way. It also provides Facebook Reality Labs, an augmented and virtual reality product that help people feel connected, anytime, and anywhere. Facebook, Inc. was founded in 2004 and is headquartered in Menlo Park, California.\", 'city': 'Menlo Park', 'phone': '650-543-4800', 'state': 'CA', 'country': 'United States', 'companyOfficers': [], 'website': 'http://investor.fb.com', 'maxAge': 1, 'address1': '1601 Willow Road', 'industry': 'Internet Content & Information', 'ebitdaMargins': 0.49698, 'profitMargins': 0.37175998, 'grossMargins': 0.80977, 'operatingCashflow': 49358000128, 'revenueGrowth': 0.556, 'operatingMargins': 0.42523, 'ebitda': 52079001600, 'targetLowPrice': 225, 'recommendationKey': 'buy', 'grossProfits': 69273000000, 'freeCashflow': 22740000768, 'targetMedianPrice': 425, 'currentPrice': 340.78, 'earningsGrowth': 1.006, 'currentRatio': 5.425, 'returnOnAssets': 0.17950001, 'numberOfAnalystOpinions': 50, 'targetMeanPrice': 417.22, 'debtToEquity': 9.089, 'returnOnEquity': 0.31332, 'targetHighPrice': 500, 'totalCash': 64079998976, 'totalDebt': 12563000320, 'totalRevenue': 104789999616, 'totalCashPerShare': 22.728, 'financialCurrency': 'USD', 'revenuePerShare': 36.82, 'quickRatio': 5.095, 'recommendationMean': 1.9, 'exchange': 'NMS', 'shortName': 'Facebook, Inc.', 'longName': 'Facebook, Inc.', 'exchangeTimezoneName': 'America/New_York', 'exchangeTimezoneShortName': 'EDT', 'isEsgPopulated': False, 'gmtOffSetMilliseconds': '-14400000', 'quoteType': 'EQUITY', 'symbol': 'FB', 'messageBoardId': 'finmb_20765463', 'market': 'us_market', 'annualHoldingsTurnover': None, 'enterpriseToRevenue': 8.656, 'beta3Year': None, 'enterpriseToEbitda': 17.417, '52WeekChange': 0.22245789, 'morningStarRiskRating': None, 'forwardEps': 16.04, 'revenueQuarterlyGrowth': None, 'sharesOutstanding': 2383810048, 'fundInceptionDate': None, 'annualReportExpenseRatio': None, 'totalAssets': None, 'bookValue': 48.913, 'sharesShort': 25835340, 'sharesPercentSharesOut': 0.0092, 'fundFamily': None, 'lastFiscalYearEnd': 1609372800, 'heldPercentInstitutions': 0.80552, 'netIncomeToCommon': 38956998656, 'trailingEps': 13.466, 'lastDividendValue': None, 'SandP52WeekChange': 0.3087138, 'priceToBook': 6.9670644, 'heldPercentInsiders': 0.00602, 'nextFiscalYearEnd': 1672444800, 'yield': None, 'mostRecentQuarter': 1625011200, 'shortRatio': 1.63, 'sharesShortPreviousMonthDate': 1630368000, 'floatShares': 2372252409, 'beta': 1.322222, 'enterpriseValue': 907065950208, 'priceHint': 2, 'threeYearAverageReturn': None, 'lastSplitDate': None, 'lastSplitFactor': None, 'legalType': None, 'lastDividendDate': None, 'morningStarOverallRating': None, 'earningsQuarterlyGrowth': 1.007, 'priceToSalesTrailing12Months': 9.168898, 'dateShortInterest': 1632960000, 'pegRatio': 0.93, 'ytdReturn': None, 'forwardPE': 21.245634, 'lastCapGain': None, 'shortPercentOfFloat': 0.0109, 'sharesShortPriorMonth': 27551342, 'impliedSharesOutstanding': 2819440128, 'category': None, 'fiveYearAverageReturn': None, 'previousClose': 339.99, 'regularMarketOpen': 343.445, 'twoHundredDayAverage': 340.00253, 'trailingAnnualDividendYield': None, 'payoutRatio': 0, 'volume24Hr': None, 'regularMarketDayHigh': 343.94, 'navPrice': None, 'averageDailyVolume10Day': 19625285, 'regularMarketPreviousClose': 339.99, 'fiftyDayAverage': 351.2, 'trailingAnnualDividendRate': None, 'open': 343.445, 'toCurrency': None, 'averageVolume10days': 19625285, 'expireDate': None, 'algorithm': None, 'dividendRate': None, 'exDividendDate': None, 'circulatingSupply': None, 'startDate': None, 'regularMarketDayLow': 339.4531, 'currency': 'USD', 'trailingPE': 25.3067, 'regularMarketVolume': 13572204, 'lastMarket': None, 'maxSupply': None, 'openInterest': None, 'marketCap': 960808812544, 'volumeAllCurrencies': None, 'strikePrice': None, 'averageVolume': 16101557, 'dayLow': 339.4531, 'ask': 340, 'askSize': 1000, 'volume': 13572204, 'fiftyTwoWeekHigh': 384.33, 'fromCurrency': None, 'fiveYearAvgDividendYield': None, 'fiftyTwoWeekLow': 244.61, 'bid': 340.1, 'tradeable': False, 'dividendYield': None, 'bidSize': 1200, 'dayHigh': 343.94, 'regularMarketPrice': 340.78, 'preMarketPrice': 343.5, 'logo_url': 'https://logo.clearbit.com/investor.fb.com'}\n"
          ]
        },
        {
          "output_type": "execute_result",
          "data": {
            "text/html": [
              "<div>\n",
              "<style scoped>\n",
              "    .dataframe tbody tr th:only-of-type {\n",
              "        vertical-align: middle;\n",
              "    }\n",
              "\n",
              "    .dataframe tbody tr th {\n",
              "        vertical-align: top;\n",
              "    }\n",
              "\n",
              "    .dataframe thead th {\n",
              "        text-align: right;\n",
              "    }\n",
              "</style>\n",
              "<table border=\"1\" class=\"dataframe\">\n",
              "  <thead>\n",
              "    <tr style=\"text-align: right;\">\n",
              "      <th></th>\n",
              "      <th>Open</th>\n",
              "      <th>High</th>\n",
              "      <th>Low</th>\n",
              "      <th>Close</th>\n",
              "      <th>Volume</th>\n",
              "      <th>Dividends</th>\n",
              "      <th>Stock Splits</th>\n",
              "    </tr>\n",
              "    <tr>\n",
              "      <th>Date</th>\n",
              "      <th></th>\n",
              "      <th></th>\n",
              "      <th></th>\n",
              "      <th></th>\n",
              "      <th></th>\n",
              "      <th></th>\n",
              "      <th></th>\n",
              "    </tr>\n",
              "  </thead>\n",
              "  <tbody>\n",
              "    <tr>\n",
              "      <th>2018-01-02</th>\n",
              "      <td>177.679993</td>\n",
              "      <td>181.580002</td>\n",
              "      <td>177.550003</td>\n",
              "      <td>181.419998</td>\n",
              "      <td>18151900</td>\n",
              "      <td>0</td>\n",
              "      <td>0</td>\n",
              "    </tr>\n",
              "    <tr>\n",
              "      <th>2018-01-03</th>\n",
              "      <td>181.880005</td>\n",
              "      <td>184.779999</td>\n",
              "      <td>181.330002</td>\n",
              "      <td>184.669998</td>\n",
              "      <td>16886600</td>\n",
              "      <td>0</td>\n",
              "      <td>0</td>\n",
              "    </tr>\n",
              "    <tr>\n",
              "      <th>2018-01-04</th>\n",
              "      <td>184.899994</td>\n",
              "      <td>186.210007</td>\n",
              "      <td>184.100006</td>\n",
              "      <td>184.330002</td>\n",
              "      <td>13880900</td>\n",
              "      <td>0</td>\n",
              "      <td>0</td>\n",
              "    </tr>\n",
              "    <tr>\n",
              "      <th>2018-01-05</th>\n",
              "      <td>185.589996</td>\n",
              "      <td>186.899994</td>\n",
              "      <td>184.929993</td>\n",
              "      <td>186.850006</td>\n",
              "      <td>13574500</td>\n",
              "      <td>0</td>\n",
              "      <td>0</td>\n",
              "    </tr>\n",
              "    <tr>\n",
              "      <th>2018-01-08</th>\n",
              "      <td>187.199997</td>\n",
              "      <td>188.899994</td>\n",
              "      <td>186.330002</td>\n",
              "      <td>188.279999</td>\n",
              "      <td>17994700</td>\n",
              "      <td>0</td>\n",
              "      <td>0</td>\n",
              "    </tr>\n",
              "    <tr>\n",
              "      <th>...</th>\n",
              "      <td>...</td>\n",
              "      <td>...</td>\n",
              "      <td>...</td>\n",
              "      <td>...</td>\n",
              "      <td>...</td>\n",
              "      <td>...</td>\n",
              "      <td>...</td>\n",
              "    </tr>\n",
              "    <tr>\n",
              "      <th>2019-12-23</th>\n",
              "      <td>206.699997</td>\n",
              "      <td>208.589996</td>\n",
              "      <td>205.679993</td>\n",
              "      <td>206.179993</td>\n",
              "      <td>13348900</td>\n",
              "      <td>0</td>\n",
              "      <td>0</td>\n",
              "    </tr>\n",
              "    <tr>\n",
              "      <th>2019-12-24</th>\n",
              "      <td>206.300003</td>\n",
              "      <td>206.789993</td>\n",
              "      <td>205.000000</td>\n",
              "      <td>205.119995</td>\n",
              "      <td>6046300</td>\n",
              "      <td>0</td>\n",
              "      <td>0</td>\n",
              "    </tr>\n",
              "    <tr>\n",
              "      <th>2019-12-26</th>\n",
              "      <td>205.570007</td>\n",
              "      <td>207.820007</td>\n",
              "      <td>205.309998</td>\n",
              "      <td>207.789993</td>\n",
              "      <td>9350700</td>\n",
              "      <td>0</td>\n",
              "      <td>0</td>\n",
              "    </tr>\n",
              "    <tr>\n",
              "      <th>2019-12-27</th>\n",
              "      <td>208.669998</td>\n",
              "      <td>208.929993</td>\n",
              "      <td>206.589996</td>\n",
              "      <td>208.100006</td>\n",
              "      <td>10284200</td>\n",
              "      <td>0</td>\n",
              "      <td>0</td>\n",
              "    </tr>\n",
              "    <tr>\n",
              "      <th>2019-12-30</th>\n",
              "      <td>207.860001</td>\n",
              "      <td>207.899994</td>\n",
              "      <td>203.899994</td>\n",
              "      <td>204.410004</td>\n",
              "      <td>10524300</td>\n",
              "      <td>0</td>\n",
              "      <td>0</td>\n",
              "    </tr>\n",
              "  </tbody>\n",
              "</table>\n",
              "<p>502 rows × 7 columns</p>\n",
              "</div>"
            ],
            "text/plain": [
              "                  Open        High  ...  Dividends  Stock Splits\n",
              "Date                                ...                         \n",
              "2018-01-02  177.679993  181.580002  ...          0             0\n",
              "2018-01-03  181.880005  184.779999  ...          0             0\n",
              "2018-01-04  184.899994  186.210007  ...          0             0\n",
              "2018-01-05  185.589996  186.899994  ...          0             0\n",
              "2018-01-08  187.199997  188.899994  ...          0             0\n",
              "...                ...         ...  ...        ...           ...\n",
              "2019-12-23  206.699997  208.589996  ...          0             0\n",
              "2019-12-24  206.300003  206.789993  ...          0             0\n",
              "2019-12-26  205.570007  207.820007  ...          0             0\n",
              "2019-12-27  208.669998  208.929993  ...          0             0\n",
              "2019-12-30  207.860001  207.899994  ...          0             0\n",
              "\n",
              "[502 rows x 7 columns]"
            ]
          },
          "metadata": {},
          "execution_count": 395
        }
      ]
    },
    {
      "cell_type": "markdown",
      "metadata": {
        "id": "NkFztSYhJyVA"
      },
      "source": [
        "We will create a Series named \"aapl\" whose values are Apple's daily closing prices, which are of course indexed by dates:"
      ]
    },
    {
      "cell_type": "code",
      "metadata": {
        "id": "QDJbOpCeHW91"
      },
      "source": [
        "fb = fb_table['Close']['2018']"
      ],
      "execution_count": 396,
      "outputs": []
    },
    {
      "cell_type": "code",
      "metadata": {
        "colab": {
          "base_uri": "https://localhost:8080/"
        },
        "id": "SXfgCQJOHW91",
        "outputId": "aa6d7779-8257-4b7e-9cfa-5ee1cbc52ab0"
      },
      "source": [
        "print(aapl)"
      ],
      "execution_count": 349,
      "outputs": [
        {
          "output_type": "stream",
          "name": "stdout",
          "text": [
            "Date\n",
            "2018-01-02    41.248264\n",
            "2018-01-03    41.241089\n",
            "2018-01-04    41.432655\n",
            "2018-01-05    41.904373\n",
            "2018-01-08    41.748741\n",
            "                ...    \n",
            "2018-12-24    35.686821\n",
            "2018-12-26    38.199944\n",
            "2018-12-27    37.952034\n",
            "2018-12-28    37.971474\n",
            "2018-12-31    38.338482\n",
            "Name: Close, Length: 251, dtype: float64\n"
          ]
        }
      ]
    },
    {
      "cell_type": "markdown",
      "metadata": {
        "id": "waUEgBhzKEcA"
      },
      "source": [
        "Recall that we can fetch a specific data point using series['yyyy-mm-dd']. We can also fetch the data in a specific month using series['yyyy-mm']."
      ]
    },
    {
      "cell_type": "code",
      "metadata": {
        "colab": {
          "base_uri": "https://localhost:8080/"
        },
        "id": "2gS50G0zHW92",
        "outputId": "520d65f8-8f36-49ad-a800-08a123dc7a76"
      },
      "source": [
        "print(fb['2018-4'])"
      ],
      "execution_count": 397,
      "outputs": [
        {
          "output_type": "stream",
          "name": "stdout",
          "text": [
            "Date\n",
            "2018-04-02    155.389999\n",
            "2018-04-03    156.110001\n",
            "2018-04-04    155.100006\n",
            "2018-04-05    159.339996\n",
            "2018-04-06    157.199997\n",
            "2018-04-09    157.929993\n",
            "2018-04-10    165.039993\n",
            "2018-04-11    166.320007\n",
            "2018-04-12    163.869995\n",
            "2018-04-13    164.520004\n",
            "2018-04-16    164.830002\n",
            "2018-04-17    168.660004\n",
            "2018-04-18    166.360001\n",
            "2018-04-19    168.100006\n",
            "2018-04-20    166.279999\n",
            "2018-04-23    165.839996\n",
            "2018-04-24    159.690002\n",
            "2018-04-25    159.690002\n",
            "2018-04-26    174.160004\n",
            "2018-04-27    173.589996\n",
            "2018-04-30    172.000000\n",
            "Name: Close, dtype: float64\n"
          ]
        }
      ]
    },
    {
      "cell_type": "code",
      "metadata": {
        "colab": {
          "base_uri": "https://localhost:8080/"
        },
        "id": "vpvxGwXtHW92",
        "outputId": "0e0192ea-994a-4ddd-83e7-480957edbf52"
      },
      "source": [
        "fb['2018-2':'2018-4']"
      ],
      "execution_count": 399,
      "outputs": [
        {
          "output_type": "execute_result",
          "data": {
            "text/plain": [
              "Date\n",
              "2018-02-01    193.089996\n",
              "2018-02-02    190.279999\n",
              "2018-02-05    181.259995\n",
              "2018-02-06    185.309998\n",
              "2018-02-07    180.179993\n",
              "                 ...    \n",
              "2018-04-24    159.690002\n",
              "2018-04-25    159.690002\n",
              "2018-04-26    174.160004\n",
              "2018-04-27    173.589996\n",
              "2018-04-30    172.000000\n",
              "Name: Close, Length: 61, dtype: float64"
            ]
          },
          "metadata": {},
          "execution_count": 399
        }
      ]
    },
    {
      "cell_type": "markdown",
      "metadata": {
        "id": "lWwoD39pKNKb"
      },
      "source": [
        ".head(N) and .tail(N) are methods for quickly accessing the first or last N elements."
      ]
    },
    {
      "cell_type": "code",
      "metadata": {
        "colab": {
          "base_uri": "https://localhost:8080/"
        },
        "id": "1eU218ALHW93",
        "outputId": "5756ba86-d764-46e3-9f58-fa63e2a0aa31"
      },
      "source": [
        "print(fb.head(5))\n",
        "print(fb.tail(10))"
      ],
      "execution_count": 400,
      "outputs": [
        {
          "output_type": "stream",
          "name": "stdout",
          "text": [
            "Date\n",
            "2018-01-02    181.419998\n",
            "2018-01-03    184.669998\n",
            "2018-01-04    184.330002\n",
            "2018-01-05    186.850006\n",
            "2018-01-08    188.279999\n",
            "Name: Close, dtype: float64\n",
            "Date\n",
            "2018-12-17    140.190002\n",
            "2018-12-18    143.660004\n",
            "2018-12-19    133.240005\n",
            "2018-12-20    133.399994\n",
            "2018-12-21    124.949997\n",
            "2018-12-24    124.059998\n",
            "2018-12-26    134.179993\n",
            "2018-12-27    134.520004\n",
            "2018-12-28    133.199997\n",
            "2018-12-31    131.089996\n",
            "Name: Close, dtype: float64\n"
          ]
        }
      ]
    },
    {
      "cell_type": "markdown",
      "metadata": {
        "id": "IxhKxtj-KQ66"
      },
      "source": [
        "# Resampling\n",
        "**_series.resample(freq)_** is a class called \"DatetimeIndexResampler\" which groups data in a Series object into regular time intervals. The argument \"freq\" determines the length of each interval.\n",
        "\n",
        "**_series.resample.mean()_** is a complete statement that groups data into intervals, and then compute the mean of each interval. For example, if we want to aggregate the daily data into monthly data by mean:"
      ]
    },
    {
      "cell_type": "code",
      "metadata": {
        "colab": {
          "base_uri": "https://localhost:8080/"
        },
        "id": "rAV8NkHkHW93",
        "outputId": "0bf4aebc-7103-4557-982b-d8f3250c1c23"
      },
      "source": [
        "by_month = fb.resample('M').mean()\n",
        "print(by_month)"
      ],
      "execution_count": 401,
      "outputs": [
        {
          "output_type": "stream",
          "name": "stdout",
          "text": [
            "Date\n",
            "2018-01-31    184.962856\n",
            "2018-02-28    180.269473\n",
            "2018-03-31    173.489522\n",
            "2018-04-30    163.810476\n",
            "2018-05-31    182.930000\n",
            "2018-06-30    195.267620\n",
            "2018-07-31    199.967142\n",
            "2018-08-31    177.492172\n",
            "2018-09-30    164.377368\n",
            "2018-10-31    154.187826\n",
            "2018-11-30    141.635715\n",
            "2018-12-31    137.161052\n",
            "Freq: M, Name: Close, dtype: float64\n"
          ]
        }
      ]
    },
    {
      "cell_type": "markdown",
      "metadata": {
        "id": "QDPfVzBEKV6Q"
      },
      "source": [
        "We can also aggregate the data by week:"
      ]
    },
    {
      "cell_type": "code",
      "metadata": {
        "colab": {
          "base_uri": "https://localhost:8080/"
        },
        "id": "aAP3tKkBHW94",
        "outputId": "99155807-e878-466b-b368-cf595501e91f"
      },
      "source": [
        "by_week = fb.resample('W').mean()\n",
        "print(by_week.head())"
      ],
      "execution_count": 402,
      "outputs": [
        {
          "output_type": "stream",
          "name": "stdout",
          "text": [
            "Date\n",
            "2018-01-07    184.317501\n",
            "2018-01-14    186.225998\n",
            "2018-01-21    179.270000\n",
            "2018-01-28    187.750000\n",
            "2018-02-04    188.671997\n",
            "Freq: W-SUN, Name: Close, dtype: float64\n"
          ]
        }
      ]
    },
    {
      "cell_type": "markdown",
      "metadata": {
        "id": "o_MXSVsILoBS"
      },
      "source": [
        "We can also aggregate the data by month with max:"
      ]
    },
    {
      "cell_type": "code",
      "metadata": {
        "colab": {
          "base_uri": "https://localhost:8080/"
        },
        "id": "gn0wqXBTHW95",
        "outputId": "506ddf7c-2490-450f-eafc-2e0201a0de6a"
      },
      "source": [
        "fb.resample('M').max()"
      ],
      "execution_count": 403,
      "outputs": [
        {
          "output_type": "execute_result",
          "data": {
            "text/plain": [
              "Date\n",
              "2018-01-31    190.000000\n",
              "2018-02-28    193.089996\n",
              "2018-03-31    185.229996\n",
              "2018-04-30    174.160004\n",
              "2018-05-31    191.779999\n",
              "2018-06-30    202.000000\n",
              "2018-07-31    217.500000\n",
              "2018-08-31    185.690002\n",
              "2018-09-30    171.160004\n",
              "2018-10-31    162.440002\n",
              "2018-11-30    151.750000\n",
              "2018-12-31    145.009995\n",
              "Freq: M, Name: Close, dtype: float64"
            ]
          },
          "metadata": {},
          "execution_count": 403
        }
      ]
    },
    {
      "cell_type": "markdown",
      "metadata": {
        "id": "Z8r46UFlLdAh"
      },
      "source": [
        "We can choose almost any frequency by using the format 'nf', where 'n' is an integer and 'f' is M for month, W for week and D for day."
      ]
    },
    {
      "cell_type": "code",
      "metadata": {
        "colab": {
          "base_uri": "https://localhost:8080/"
        },
        "id": "kdVB_-JFHW96",
        "outputId": "fd0dd43d-e72f-4292-fee7-de6db71e95c7"
      },
      "source": [
        "three_day = fb.resample('3D').mean()\n",
        "two_week = fb.resample('2W').mean()\n",
        "two_month = fb.resample('2M').mean()\n",
        "\n",
        "\n",
        "print(three_day)\n",
        "print(two_week)\n",
        "print(two_month )"
      ],
      "execution_count": 405,
      "outputs": [
        {
          "output_type": "stream",
          "name": "stdout",
          "text": [
            "Date\n",
            "2018-01-02    183.473333\n",
            "2018-01-05    186.850006\n",
            "2018-01-08    187.996663\n",
            "2018-01-11    183.570000\n",
            "2018-01-14    178.389999\n",
            "                 ...    \n",
            "2018-12-19    130.529999\n",
            "2018-12-22    124.059998\n",
            "2018-12-25    134.349998\n",
            "2018-12-28    133.199997\n",
            "2018-12-31    131.089996\n",
            "Freq: 3D, Name: Close, Length: 122, dtype: float64\n",
            "Date\n",
            "2018-01-07    184.317501\n",
            "2018-01-21    183.134443\n",
            "2018-02-04    188.210999\n",
            "2018-02-18    178.084000\n",
            "2018-03-04    179.274445\n",
            "2018-03-18    183.123999\n",
            "2018-04-01    162.164442\n",
            "2018-04-15    160.081999\n",
            "2018-04-29    166.720001\n",
            "2018-05-13    178.463002\n",
            "2018-05-27    184.663998\n",
            "2018-06-10    190.446667\n",
            "2018-06-24    197.005000\n",
            "2018-07-08    197.056666\n",
            "2018-07-22    206.967000\n",
            "2018-08-05    186.366998\n",
            "2018-08-19    180.721999\n",
            "2018-09-02    174.929997\n",
            "2018-09-16    164.412221\n",
            "2018-09-30    164.346001\n",
            "2018-10-14    157.400002\n",
            "2018-10-28    153.221999\n",
            "2018-11-11    148.517999\n",
            "2018-11-25    137.982224\n",
            "2018-12-09    138.166665\n",
            "2018-12-23    139.294000\n",
            "2019-01-06    131.409998\n",
            "Freq: 2W-SUN, Name: Close, dtype: float64\n",
            "Date\n",
            "2018-01-31    184.962856\n",
            "2018-03-31    176.709999\n",
            "2018-05-31    173.592558\n",
            "2018-07-31    197.617381\n",
            "2018-09-30    171.559284\n",
            "2018-11-30    148.197045\n",
            "2019-01-31    137.161052\n",
            "Freq: 2M, Name: Close, dtype: float64\n"
          ]
        }
      ]
    },
    {
      "cell_type": "markdown",
      "metadata": {
        "id": "iy4RqsnwL-Bw"
      },
      "source": [
        "Besides the mean() method, other methods can also be used with the resampler:\n",
        "\n"
      ]
    },
    {
      "cell_type": "code",
      "metadata": {
        "colab": {
          "base_uri": "https://localhost:8080/"
        },
        "id": "DNT8Fx9dHW96",
        "outputId": "1caf4463-4b33-48f9-ffc8-0ae7970b4c01"
      },
      "source": [
        "std = fb.resample('W').std()\n",
        "max = fb.resample('W').max()\n",
        "min = fb.resample('W').min()\n",
        "\n",
        "\n",
        "print(std)\n",
        "print(max)\n",
        "print(min)"
      ],
      "execution_count": 406,
      "outputs": [
        {
          "output_type": "stream",
          "name": "stdout",
          "text": [
            "Date\n",
            "2018-01-07     2.231107\n",
            "2018-01-14     3.837817\n",
            "2018-01-21     1.625275\n",
            "2018-01-28     1.923528\n",
            "2018-02-04     2.955312\n",
            "2018-02-11     5.235976\n",
            "2018-02-18     2.739539\n",
            "2018-02-25     3.083416\n",
            "2018-03-04     3.730826\n",
            "2018-03-11     2.265762\n",
            "2018-03-18     1.255596\n",
            "2018-03-25     5.005884\n",
            "2018-04-01     4.229044\n",
            "2018-04-08     1.718854\n",
            "2018-04-15     3.260361\n",
            "2018-04-22     1.539800\n",
            "2018-04-29     7.107870\n",
            "2018-05-06     1.857842\n",
            "2018-05-13     3.958123\n",
            "2018-05-20     1.536232\n",
            "2018-05-27     1.221171\n",
            "2018-06-03     3.763726\n",
            "2018-06-10     2.271283\n",
            "2018-06-17     2.359149\n",
            "2018-06-24     2.134097\n",
            "2018-07-01     1.689516\n",
            "2018-07-08     4.309860\n",
            "2018-07-15     2.080803\n",
            "2018-07-22     1.216955\n",
            "2018-07-29    21.377140\n",
            "2018-08-05     3.001045\n",
            "2018-08-12     2.140336\n",
            "2018-08-19     3.339696\n",
            "2018-08-26     0.893487\n",
            "2018-09-02     0.892148\n",
            "2018-09-09     4.033962\n",
            "2018-09-16     1.874832\n",
            "2018-09-23     2.312189\n",
            "2018-09-30     1.789613\n",
            "2018-10-07     2.276503\n",
            "2018-10-14     2.761613\n",
            "2018-10-21     2.759023\n",
            "2018-10-28     4.462998\n",
            "2018-11-04     4.215377\n",
            "2018-11-11     2.458113\n",
            "2018-11-18     1.893192\n",
            "2018-11-25     1.506930\n",
            "2018-12-02     2.186064\n",
            "2018-12-09     1.673827\n",
            "2018-12-16     1.443308\n",
            "2018-12-23     7.220686\n",
            "2018-12-30     4.984844\n",
            "2019-01-06          NaN\n",
            "Freq: W-SUN, Name: Close, dtype: float64\n",
            "Date\n",
            "2018-01-07    186.850006\n",
            "2018-01-14    188.279999\n",
            "2018-01-21    181.289993\n",
            "2018-01-28    190.000000\n",
            "2018-02-04    193.089996\n",
            "2018-02-11    185.309998\n",
            "2018-02-18    179.960007\n",
            "2018-02-25    183.289993\n",
            "2018-03-04    184.929993\n",
            "2018-03-11    185.229996\n",
            "2018-03-18    185.089996\n",
            "2018-03-25    172.559998\n",
            "2018-04-01    160.059998\n",
            "2018-04-08    159.339996\n",
            "2018-04-15    166.320007\n",
            "2018-04-22    168.660004\n",
            "2018-04-29    174.160004\n",
            "2018-05-06    176.610001\n",
            "2018-05-13    186.990005\n",
            "2018-05-20    186.639999\n",
            "2018-05-27    186.899994\n",
            "2018-06-03    193.990005\n",
            "2018-06-10    193.279999\n",
            "2018-06-17    196.809998\n",
            "2018-06-24    202.000000\n",
            "2018-07-01    199.000000\n",
            "2018-07-08    203.229996\n",
            "2018-07-15    207.320007\n",
            "2018-07-22    209.990005\n",
            "2018-07-29    217.500000\n",
            "2018-08-05    177.779999\n",
            "2018-08-12    185.690002\n",
            "2018-08-19    181.110001\n",
            "2018-08-26    174.649994\n",
            "2018-09-02    177.639999\n",
            "2018-09-09    171.160004\n",
            "2018-09-16    165.940002\n",
            "2018-09-23    166.020004\n",
            "2018-09-30    168.839996\n",
            "2018-10-07    162.440002\n",
            "2018-10-14    157.899994\n",
            "2018-10-21    159.419998\n",
            "2018-10-28    154.779999\n",
            "2018-11-04    151.789993\n",
            "2018-11-11    151.529999\n",
            "2018-11-18    144.220001\n",
            "2018-11-25    134.820007\n",
            "2018-12-02    140.610001\n",
            "2018-12-09    141.089996\n",
            "2018-12-16    145.009995\n",
            "2018-12-23    143.660004\n",
            "2018-12-30    134.520004\n",
            "2019-01-06    131.089996\n",
            "Freq: W-SUN, Name: Close, dtype: float64\n",
            "Date\n",
            "2018-01-07    181.419998\n",
            "2018-01-14    179.369995\n",
            "2018-01-21    177.600006\n",
            "2018-01-28    185.369995\n",
            "2018-02-04    185.979996\n",
            "2018-02-11    171.580002\n",
            "2018-02-18    173.149994\n",
            "2018-02-25    176.009995\n",
            "2018-03-04    175.940002\n",
            "2018-03-11    179.779999\n",
            "2018-03-18    181.880005\n",
            "2018-03-25    159.389999\n",
            "2018-04-01    152.220001\n",
            "2018-04-08    155.100006\n",
            "2018-04-15    157.929993\n",
            "2018-04-22    164.830002\n",
            "2018-04-29    159.690002\n",
            "2018-05-06    172.000000\n",
            "2018-05-13    177.970001\n",
            "2018-05-20    182.679993\n",
            "2018-05-27    183.800003\n",
            "2018-06-03    185.740005\n",
            "2018-06-10    188.179993\n",
            "2018-06-17    191.539993\n",
            "2018-06-24    197.490005\n",
            "2018-07-01    194.320007\n",
            "2018-07-08    192.729996\n",
            "2018-07-15    202.539993\n",
            "2018-07-22    207.229996\n",
            "2018-07-29    174.889999\n",
            "2018-08-05    171.059998\n",
            "2018-08-12    180.259995\n",
            "2018-08-19    173.800003\n",
            "2018-08-26    172.500000\n",
            "2018-09-02    175.729996\n",
            "2018-09-09    162.529999\n",
            "2018-09-16    161.360001\n",
            "2018-09-23    160.300003\n",
            "2018-09-30    164.460007\n",
            "2018-10-07    157.330002\n",
            "2018-10-14    151.380005\n",
            "2018-10-21    153.520004\n",
            "2018-10-28    145.369995\n",
            "2018-11-04    142.089996\n",
            "2018-11-11    144.960007\n",
            "2018-11-18    139.529999\n",
            "2018-11-25    131.550003\n",
            "2018-12-02    135.000000\n",
            "2018-12-09    137.419998\n",
            "2018-12-16    141.850006\n",
            "2018-12-23    124.949997\n",
            "2018-12-30    124.059998\n",
            "2019-01-06    131.089996\n",
            "Freq: W-SUN, Name: Close, dtype: float64\n"
          ]
        }
      ]
    },
    {
      "cell_type": "markdown",
      "metadata": {
        "id": "uqln0s5DMI3I"
      },
      "source": [
        "Often we want to calculate monthly returns of a stock, based on prices on the last day of each month. To fetch those prices, we use the series.resample.agg() method:"
      ]
    },
    {
      "cell_type": "code",
      "metadata": {
        "colab": {
          "base_uri": "https://localhost:8080/"
        },
        "id": "A6FSYvqbHW97",
        "outputId": "b05ace71-5cc3-492b-8a0f-24873d0546c9"
      },
      "source": [
        "last_day = fb.resample('M').agg(lambda x: x[-1])\n",
        "print(last_day)"
      ],
      "execution_count": 407,
      "outputs": [
        {
          "output_type": "stream",
          "name": "stdout",
          "text": [
            "Date\n",
            "2018-01-31    186.889999\n",
            "2018-02-28    178.320007\n",
            "2018-03-31    159.789993\n",
            "2018-04-30    172.000000\n",
            "2018-05-31    191.779999\n",
            "2018-06-30    194.320007\n",
            "2018-07-31    172.580002\n",
            "2018-08-31    175.729996\n",
            "2018-09-30    164.460007\n",
            "2018-10-31    151.789993\n",
            "2018-11-30    140.610001\n",
            "2018-12-31    131.089996\n",
            "Freq: M, Name: Close, dtype: float64\n"
          ]
        }
      ]
    },
    {
      "cell_type": "markdown",
      "metadata": {
        "id": "uwomY3aXMR46"
      },
      "source": [
        "Or directly calculate the monthly rates of return using the data for the first day and the last day:"
      ]
    },
    {
      "cell_type": "code",
      "metadata": {
        "colab": {
          "base_uri": "https://localhost:8080/"
        },
        "id": "qK2NMJrNHW96",
        "outputId": "771f0b05-acad-4346-8681-ea5cbef62d5a"
      },
      "source": [
        "monthly_return = fb.resample('M').agg(lambda x: x[-1]/x[0] - 1)\n",
        "print(monthly_return)"
      ],
      "execution_count": 408,
      "outputs": [
        {
          "output_type": "stream",
          "name": "stdout",
          "text": [
            "Date\n",
            "2018-01-31    0.030151\n",
            "2018-02-28   -0.076493\n",
            "2018-03-31   -0.091793\n",
            "2018-04-30    0.106892\n",
            "2018-05-31    0.103071\n",
            "2018-06-30    0.001701\n",
            "2018-07-31   -0.125557\n",
            "2018-08-31    0.023769\n",
            "2018-09-30   -0.039145\n",
            "2018-10-31   -0.065563\n",
            "2018-11-30   -0.073410\n",
            "2018-12-31   -0.070877\n",
            "Freq: M, Name: Close, dtype: float64\n"
          ]
        }
      ]
    },
    {
      "cell_type": "markdown",
      "metadata": {
        "id": "_DYbMTFWMj8J"
      },
      "source": [
        "Series object also provides us some convenient methods to do some quick calculation."
      ]
    },
    {
      "cell_type": "code",
      "metadata": {
        "colab": {
          "base_uri": "https://localhost:8080/"
        },
        "id": "1Mxc0HwvHW98",
        "outputId": "d6bda5d6-7799-4fc7-b628-9411243dfd6e"
      },
      "source": [
        "print(monthly_return.mean())\n",
        "print(monthly_return.std())\n",
        "print(monthly_return.max())"
      ],
      "execution_count": 409,
      "outputs": [
        {
          "output_type": "stream",
          "name": "stdout",
          "text": [
            "-0.02310432599688204\n",
            "0.07592219171723219\n",
            "0.10689233976184731\n"
          ]
        }
      ]
    },
    {
      "cell_type": "markdown",
      "metadata": {
        "id": "mn59J5dqMpqX"
      },
      "source": [
        "Another two methods frequently used on Series are .diff() and .pct_change(). The former calculates the difference between consecutive elements, and the latter calculates the percentage change."
      ]
    },
    {
      "cell_type": "code",
      "metadata": {
        "colab": {
          "base_uri": "https://localhost:8080/"
        },
        "id": "DupZTSqqHW99",
        "outputId": "d6580ed3-d6ac-4a24-c363-7881634bccd7"
      },
      "source": [
        "print(last_day.diff())\n",
        "print(last_day.pct_change())"
      ],
      "execution_count": 410,
      "outputs": [
        {
          "output_type": "stream",
          "name": "stdout",
          "text": [
            "Date\n",
            "2018-01-31          NaN\n",
            "2018-02-28    -8.569992\n",
            "2018-03-31   -18.530014\n",
            "2018-04-30    12.210007\n",
            "2018-05-31    19.779999\n",
            "2018-06-30     2.540009\n",
            "2018-07-31   -21.740005\n",
            "2018-08-31     3.149994\n",
            "2018-09-30   -11.269989\n",
            "2018-10-31   -12.670013\n",
            "2018-11-30   -11.179993\n",
            "2018-12-31    -9.520004\n",
            "Freq: M, Name: Close, dtype: float64\n",
            "Date\n",
            "2018-01-31         NaN\n",
            "2018-02-28   -0.045856\n",
            "2018-03-31   -0.103914\n",
            "2018-04-30    0.076413\n",
            "2018-05-31    0.115000\n",
            "2018-06-30    0.013244\n",
            "2018-07-31   -0.111877\n",
            "2018-08-31    0.018252\n",
            "2018-09-30   -0.064132\n",
            "2018-10-31   -0.077040\n",
            "2018-11-30   -0.073654\n",
            "2018-12-31   -0.067705\n",
            "Freq: M, Name: Close, dtype: float64\n"
          ]
        }
      ]
    },
    {
      "cell_type": "markdown",
      "metadata": {
        "id": "RaMAOFepM6Io"
      },
      "source": [
        "Notice that we induced a NaN value while calculating percentage changes i.e. returns.\n",
        "\n",
        "When dealing with NaN values, we usually either removing the data point or fill it with a specific value. Here we fill it with 0:"
      ]
    },
    {
      "cell_type": "code",
      "metadata": {
        "colab": {
          "base_uri": "https://localhost:8080/"
        },
        "id": "-xyLb3A3HW99",
        "outputId": "efb4a892-44ca-457a-cc28-5a0e414d2adc"
      },
      "source": [
        "daily_return = last_day.pct_change()\n",
        "print(daily_return.fillna(0))"
      ],
      "execution_count": 411,
      "outputs": [
        {
          "output_type": "stream",
          "name": "stdout",
          "text": [
            "Date\n",
            "2018-01-31    0.000000\n",
            "2018-02-28   -0.045856\n",
            "2018-03-31   -0.103914\n",
            "2018-04-30    0.076413\n",
            "2018-05-31    0.115000\n",
            "2018-06-30    0.013244\n",
            "2018-07-31   -0.111877\n",
            "2018-08-31    0.018252\n",
            "2018-09-30   -0.064132\n",
            "2018-10-31   -0.077040\n",
            "2018-11-30   -0.073654\n",
            "2018-12-31   -0.067705\n",
            "Freq: M, Name: Close, dtype: float64\n"
          ]
        }
      ]
    },
    {
      "cell_type": "markdown",
      "metadata": {
        "id": "BYS10Om1NQVC"
      },
      "source": [
        "Alternatively, we can fill a NaN with the next fitted value. This is called 'backward fill', or 'bfill' in short:"
      ]
    },
    {
      "cell_type": "code",
      "metadata": {
        "colab": {
          "base_uri": "https://localhost:8080/"
        },
        "id": "J513kHeKHW9-",
        "outputId": "751e3354-e9f3-4e7c-d358-67a9ed8322f3"
      },
      "source": [
        "daily_return = last_day.pct_change()\n",
        "print(daily_return.fillna(method = 'bfill'))"
      ],
      "execution_count": 412,
      "outputs": [
        {
          "output_type": "stream",
          "name": "stdout",
          "text": [
            "Date\n",
            "2018-01-31   -0.045856\n",
            "2018-02-28   -0.045856\n",
            "2018-03-31   -0.103914\n",
            "2018-04-30    0.076413\n",
            "2018-05-31    0.115000\n",
            "2018-06-30    0.013244\n",
            "2018-07-31   -0.111877\n",
            "2018-08-31    0.018252\n",
            "2018-09-30   -0.064132\n",
            "2018-10-31   -0.077040\n",
            "2018-11-30   -0.073654\n",
            "2018-12-31   -0.067705\n",
            "Freq: M, Name: Close, dtype: float64\n"
          ]
        }
      ]
    },
    {
      "cell_type": "markdown",
      "metadata": {
        "id": "bj8QUSgdNepf"
      },
      "source": [
        "As expected, since there is a 'backward fill' method, there must be a 'forward fill' method, or 'ffill' in short. However we can't use it here because the NaN is the first value.\n",
        "\n",
        "We can also simply remove NaN values by **_.dropna()_**"
      ]
    },
    {
      "cell_type": "code",
      "metadata": {
        "colab": {
          "base_uri": "https://localhost:8080/"
        },
        "id": "WG5ux1lqHW9-",
        "outputId": "71e441df-a6ee-46cd-a195-c8b7a5dc96ba"
      },
      "source": [
        "daily_return = last_day.pct_change()\n",
        "daily_return.dropna()"
      ],
      "execution_count": 413,
      "outputs": [
        {
          "output_type": "execute_result",
          "data": {
            "text/plain": [
              "Date\n",
              "2018-02-28   -0.045856\n",
              "2018-03-31   -0.103914\n",
              "2018-04-30    0.076413\n",
              "2018-05-31    0.115000\n",
              "2018-06-30    0.013244\n",
              "2018-07-31   -0.111877\n",
              "2018-08-31    0.018252\n",
              "2018-09-30   -0.064132\n",
              "2018-10-31   -0.077040\n",
              "2018-11-30   -0.073654\n",
              "2018-12-31   -0.067705\n",
              "Freq: M, Name: Close, dtype: float64"
            ]
          },
          "metadata": {},
          "execution_count": 413
        }
      ]
    },
    {
      "cell_type": "markdown",
      "metadata": {
        "id": "nQH2eBWkNjdC"
      },
      "source": [
        "# DataFrame\n",
        "The **DataFrame** is the most commonly used data structure in Pandas. It is essentially a table, just like an Excel spreadsheet.\n",
        "\n",
        "More precisely, a DataFrame is a collection of Series objects, each of which may contain different data types. A DataFrame can be created from various data types: dictionary, 2-D numpy.ndarray, a Series or another DataFrame.\n",
        "\n",
        "## Create DataFrames\n",
        "The most common method of creating a DataFrame is passing a dictionary:"
      ]
    },
    {
      "cell_type": "code",
      "metadata": {
        "colab": {
          "base_uri": "https://localhost:8080/"
        },
        "id": "vd5Wf1ohHW9-",
        "outputId": "bbf60159-ac86-464d-f151-dbab794e3720"
      },
      "source": [
        "import pandas as pd\n",
        "\n",
        "dict = {'AAPL': [157.5, 145.09, 147.47, 184.88, 166.34],'GOOG':[898.1, 451.56, 806.69, 568.59,789.67],\n",
        "        'IBM':[155.58, 153.67, 152.36, 152.94, 153.49]}\n",
        "data_index = pd.date_range('2018-07-03',periods = 5, freq = 'D')\n",
        "df = pd.DataFrame(dict, index = data_index)\n",
        "print(df)"
      ],
      "execution_count": 415,
      "outputs": [
        {
          "output_type": "stream",
          "name": "stdout",
          "text": [
            "              AAPL    GOOG     IBM\n",
            "2018-07-03  157.50  898.10  155.58\n",
            "2018-07-04  145.09  451.56  153.67\n",
            "2018-07-05  147.47  806.69  152.36\n",
            "2018-07-06  184.88  568.59  152.94\n",
            "2018-07-07  166.34  789.67  153.49\n"
          ]
        }
      ]
    },
    {
      "cell_type": "markdown",
      "metadata": {
        "id": "0uYmLQTgOPnX"
      },
      "source": [
        "## Manipulating DataFrames\n",
        "We can fetch values in a DataFrame by columns and index. Each column in a DataFrame is essentially a Pandas Series. We can fetch a column by square brackets: **df['column_name']**\n",
        "\n",
        "If a column name contains no spaces, then we can also use df.column_name to fetch a column:"
      ]
    },
    {
      "cell_type": "code",
      "metadata": {
        "colab": {
          "base_uri": "https://localhost:8080/"
        },
        "id": "2pB2f7lBHW9_",
        "outputId": "ad12ddf3-bb6b-4a71-d801-425a9706e4d6"
      },
      "source": [
        "df = fb_table\n",
        "print(df.Close.tail(5))\n",
        "print(df['Volume'].tail(5))"
      ],
      "execution_count": 416,
      "outputs": [
        {
          "output_type": "stream",
          "name": "stdout",
          "text": [
            "Date\n",
            "2019-12-23    206.179993\n",
            "2019-12-24    205.119995\n",
            "2019-12-26    207.789993\n",
            "2019-12-27    208.100006\n",
            "2019-12-30    204.410004\n",
            "Name: Close, dtype: float64\n",
            "Date\n",
            "2019-12-23    13348900\n",
            "2019-12-24     6046300\n",
            "2019-12-26     9350700\n",
            "2019-12-27    10284200\n",
            "2019-12-30    10524300\n",
            "Name: Volume, dtype: int64\n"
          ]
        }
      ]
    },
    {
      "cell_type": "markdown",
      "metadata": {
        "id": "z0ugOel9O4-P"
      },
      "source": [
        "All the methods we applied to a Series index such as iloc[], loc[] and resampling methods, can also be applied to a DataFrame:"
      ]
    },
    {
      "cell_type": "code",
      "metadata": {
        "colab": {
          "base_uri": "https://localhost:8080/"
        },
        "id": "_8dfjkedHW9_",
        "outputId": "a240ed61-fcba-4bf3-8c99-dd265944c111"
      },
      "source": [
        "fb_2018 = df['2018']\n",
        "fb_month = fb_2018.resample('M').agg(lambda x: x[-1])\n",
        "print(fb_month)"
      ],
      "execution_count": 418,
      "outputs": [
        {
          "output_type": "stream",
          "name": "stdout",
          "text": [
            "                  Open        High  ...  Dividends  Stock Splits\n",
            "Date                                ...                         \n",
            "2018-01-31  188.369995  189.830002  ...          0             0\n",
            "2018-02-28  182.300003  182.880005  ...          0             0\n",
            "2018-03-31  155.149994  161.419998  ...          0             0\n",
            "2018-04-30  173.789993  175.720001  ...          0             0\n",
            "2018-05-31  187.869995  192.720001  ...          0             0\n",
            "2018-06-30  197.320007  197.600006  ...          0             0\n",
            "2018-07-31  170.669998  174.240005  ...          0             0\n",
            "2018-08-31  177.149994  177.619995  ...          0             0\n",
            "2018-09-30  168.330002  168.789993  ...          0             0\n",
            "2018-10-31  155.000000  156.399994  ...          0             0\n",
            "2018-11-30  138.259995  140.970001  ...          0             0\n",
            "2018-12-31  134.449997  134.639999  ...          0             0\n",
            "\n",
            "[12 rows x 7 columns]\n"
          ]
        }
      ]
    },
    {
      "cell_type": "markdown",
      "metadata": {
        "id": "CqrbrbFZPTJe"
      },
      "source": [
        "We may select certain columns of a DataFrame using their names:"
      ]
    },
    {
      "cell_type": "code",
      "metadata": {
        "colab": {
          "base_uri": "https://localhost:8080/"
        },
        "id": "7bQGeyCAHW9_",
        "outputId": "a572c5b0-7e1c-4999-f1d2-44c8eabcb37f"
      },
      "source": [
        "fb_bar = fb_month[['Open', 'High', 'Low', 'Close']]\n",
        "print(fb_bar)"
      ],
      "execution_count": 419,
      "outputs": [
        {
          "output_type": "stream",
          "name": "stdout",
          "text": [
            "                  Open        High         Low       Close\n",
            "Date                                                      \n",
            "2018-01-31  188.369995  189.830002  185.220001  186.889999\n",
            "2018-02-28  182.300003  182.880005  178.139999  178.320007\n",
            "2018-03-31  155.149994  161.419998  154.139999  159.789993\n",
            "2018-04-30  173.789993  175.720001  171.710007  172.000000\n",
            "2018-05-31  187.869995  192.720001  187.479996  191.779999\n",
            "2018-06-30  197.320007  197.600006  193.960007  194.320007\n",
            "2018-07-31  170.669998  174.240005  170.000000  172.580002\n",
            "2018-08-31  177.149994  177.619995  174.979996  175.729996\n",
            "2018-09-30  168.330002  168.789993  162.559998  164.460007\n",
            "2018-10-31  155.000000  156.399994  148.960007  151.789993\n",
            "2018-11-30  138.259995  140.970001  137.360001  140.610001\n",
            "2018-12-31  134.449997  134.639999  129.949997  131.089996\n"
          ]
        }
      ]
    },
    {
      "cell_type": "markdown",
      "metadata": {
        "id": "8CQaZCAQP68O"
      },
      "source": [
        "We can even specify both rows and columns using loc[]. The row indices and column names are separated by a comma:"
      ]
    },
    {
      "cell_type": "code",
      "metadata": {
        "colab": {
          "base_uri": "https://localhost:8080/"
        },
        "id": "YjWWiHVpHW-A",
        "outputId": "e64fb897-2680-402c-d86c-c9353f9416f1"
      },
      "source": [
        "print(fb_month.loc['2018-03':'2018-06',['Open', 'High', 'Low', 'Close']])"
      ],
      "execution_count": 420,
      "outputs": [
        {
          "output_type": "stream",
          "name": "stdout",
          "text": [
            "                  Open        High         Low       Close\n",
            "Date                                                      \n",
            "2018-03-31  155.149994  161.419998  154.139999  159.789993\n",
            "2018-04-30  173.789993  175.720001  171.710007  172.000000\n",
            "2018-05-31  187.869995  192.720001  187.479996  191.779999\n",
            "2018-06-30  197.320007  197.600006  193.960007  194.320007\n"
          ]
        }
      ]
    },
    {
      "cell_type": "markdown",
      "metadata": {
        "id": "Xcn_pHNLQBEH"
      },
      "source": [
        "The subset methods in DataFrame is quite useful. By writing logical statements in square brackets, we can make customized subsets:"
      ]
    },
    {
      "cell_type": "code",
      "metadata": {
        "colab": {
          "base_uri": "https://localhost:8080/"
        },
        "id": "RxKg4dObHW-A",
        "outputId": "4c4be388-4d9c-4b36-e83b-9bcf98aab065"
      },
      "source": [
        "import numpy as np\n",
        "\n",
        "above = fb_bar[fb_bar.Close > np.mean(fb_bar.Close)]\n",
        "print(above)"
      ],
      "execution_count": 421,
      "outputs": [
        {
          "output_type": "stream",
          "name": "stdout",
          "text": [
            "                  Open        High         Low       Close\n",
            "Date                                                      \n",
            "2018-01-31  188.369995  189.830002  185.220001  186.889999\n",
            "2018-02-28  182.300003  182.880005  178.139999  178.320007\n",
            "2018-04-30  173.789993  175.720001  171.710007  172.000000\n",
            "2018-05-31  187.869995  192.720001  187.479996  191.779999\n",
            "2018-06-30  197.320007  197.600006  193.960007  194.320007\n",
            "2018-07-31  170.669998  174.240005  170.000000  172.580002\n",
            "2018-08-31  177.149994  177.619995  174.979996  175.729996\n"
          ]
        }
      ]
    },
    {
      "cell_type": "markdown",
      "metadata": {
        "id": "wcm_UadkQLL5"
      },
      "source": [
        "## Data Validation\n",
        "As mentioned, all methods that apply to a Series can also be applied to a DataFrame. Here we add a new column to an existing DataFrame:"
      ]
    },
    {
      "cell_type": "code",
      "metadata": {
        "colab": {
          "base_uri": "https://localhost:8080/"
        },
        "id": "jZXFdOVFHW-A",
        "outputId": "4e943ad1-fc44-4d3e-bb06-9c80b295a640"
      },
      "source": [
        "fb_bar['rate_return'] = fb_bar.Close.pct_change()\n",
        "print(fb_bar)"
      ],
      "execution_count": 422,
      "outputs": [
        {
          "output_type": "stream",
          "name": "stdout",
          "text": [
            "                  Open        High         Low       Close  rate_return\n",
            "Date                                                                   \n",
            "2018-01-31  188.369995  189.830002  185.220001  186.889999          NaN\n",
            "2018-02-28  182.300003  182.880005  178.139999  178.320007    -0.045856\n",
            "2018-03-31  155.149994  161.419998  154.139999  159.789993    -0.103914\n",
            "2018-04-30  173.789993  175.720001  171.710007  172.000000     0.076413\n",
            "2018-05-31  187.869995  192.720001  187.479996  191.779999     0.115000\n",
            "2018-06-30  197.320007  197.600006  193.960007  194.320007     0.013244\n",
            "2018-07-31  170.669998  174.240005  170.000000  172.580002    -0.111877\n",
            "2018-08-31  177.149994  177.619995  174.979996  175.729996     0.018252\n",
            "2018-09-30  168.330002  168.789993  162.559998  164.460007    -0.064132\n",
            "2018-10-31  155.000000  156.399994  148.960007  151.789993    -0.077040\n",
            "2018-11-30  138.259995  140.970001  137.360001  140.610001    -0.073654\n",
            "2018-12-31  134.449997  134.639999  129.949997  131.089996    -0.067705\n"
          ]
        },
        {
          "output_type": "stream",
          "name": "stderr",
          "text": [
            "/usr/local/lib/python3.7/dist-packages/ipykernel_launcher.py:1: SettingWithCopyWarning: \n",
            "A value is trying to be set on a copy of a slice from a DataFrame.\n",
            "Try using .loc[row_indexer,col_indexer] = value instead\n",
            "\n",
            "See the caveats in the documentation: https://pandas.pydata.org/pandas-docs/stable/user_guide/indexing.html#returning-a-view-versus-a-copy\n",
            "  \"\"\"Entry point for launching an IPython kernel.\n"
          ]
        }
      ]
    },
    {
      "cell_type": "markdown",
      "metadata": {
        "id": "_or6n5-LQUa-"
      },
      "source": [
        "Here the calculation introduced a NaN value. If the DataFrame is large, we would not be able to observe it. **isnull()** provides a convenient way to check abnormal values."
      ]
    },
    {
      "cell_type": "code",
      "metadata": {
        "colab": {
          "base_uri": "https://localhost:8080/"
        },
        "id": "V5wgmhIPHW-B",
        "outputId": "6c57587f-50c5-4869-b9f8-270661724ab9"
      },
      "source": [
        "missing = fb_bar.isnull()\n",
        "print(missing)\n",
        "print('---------------------------------------------')\n",
        "print(missing.describe())"
      ],
      "execution_count": 423,
      "outputs": [
        {
          "output_type": "stream",
          "name": "stdout",
          "text": [
            "             Open   High    Low  Close  rate_return\n",
            "Date                                               \n",
            "2018-01-31  False  False  False  False         True\n",
            "2018-02-28  False  False  False  False        False\n",
            "2018-03-31  False  False  False  False        False\n",
            "2018-04-30  False  False  False  False        False\n",
            "2018-05-31  False  False  False  False        False\n",
            "2018-06-30  False  False  False  False        False\n",
            "2018-07-31  False  False  False  False        False\n",
            "2018-08-31  False  False  False  False        False\n",
            "2018-09-30  False  False  False  False        False\n",
            "2018-10-31  False  False  False  False        False\n",
            "2018-11-30  False  False  False  False        False\n",
            "2018-12-31  False  False  False  False        False\n",
            "---------------------------------------------\n",
            "         Open   High    Low  Close rate_return\n",
            "count      12     12     12     12          12\n",
            "unique      1      1      1      1           2\n",
            "top     False  False  False  False       False\n",
            "freq       12     12     12     12          11\n"
          ]
        }
      ]
    },
    {
      "cell_type": "markdown",
      "metadata": {
        "id": "d6KFV4i0QfLW"
      },
      "source": [
        "The row labelled \"unique\" indicates the number of unique values in each column. Since the \"rate_return\" column has 2 unique values, it has at least one missing value.\n",
        "\n",
        "We can deduce the number of missing values by comparing \"count\" with \"freq\". There are 12 counts and 11 False values, so there is one True value which corresponds to the missing value.\n",
        "\n",
        "We can also find the rows with missing values easily:"
      ]
    },
    {
      "cell_type": "code",
      "metadata": {
        "colab": {
          "base_uri": "https://localhost:8080/"
        },
        "id": "Eo0ZAhCsHW-B",
        "outputId": "8092bf5b-4ba7-4adb-e452-260529ef3271"
      },
      "source": [
        "print(missing[missing.rate_return == True])"
      ],
      "execution_count": 424,
      "outputs": [
        {
          "output_type": "stream",
          "name": "stdout",
          "text": [
            "             Open   High    Low  Close  rate_return\n",
            "Date                                               \n",
            "2018-01-31  False  False  False  False         True\n"
          ]
        }
      ]
    },
    {
      "cell_type": "markdown",
      "metadata": {
        "id": "qgggpD8OQkZX"
      },
      "source": [
        "Usually when dealing with missing data, we either delete the whole row or fill it with some value. As we introduced in the Series chapter, the same method **dropna()** and **fillna()** can be applied to a DataFrame."
      ]
    },
    {
      "cell_type": "code",
      "metadata": {
        "colab": {
          "base_uri": "https://localhost:8080/"
        },
        "id": "j8PaIokjHW-B",
        "outputId": "7ab68c23-13a4-448c-ecc7-9abd04d84519"
      },
      "source": [
        "drop = fb_bar.dropna()\n",
        "print(drop)\n",
        "print('\\n--------------------------------------------------\\n')\n",
        "fill = fb_bar.fillna(0)\n",
        "print(fill)"
      ],
      "execution_count": 425,
      "outputs": [
        {
          "output_type": "stream",
          "name": "stdout",
          "text": [
            "                  Open        High         Low       Close  rate_return\n",
            "Date                                                                   \n",
            "2018-02-28  182.300003  182.880005  178.139999  178.320007    -0.045856\n",
            "2018-03-31  155.149994  161.419998  154.139999  159.789993    -0.103914\n",
            "2018-04-30  173.789993  175.720001  171.710007  172.000000     0.076413\n",
            "2018-05-31  187.869995  192.720001  187.479996  191.779999     0.115000\n",
            "2018-06-30  197.320007  197.600006  193.960007  194.320007     0.013244\n",
            "2018-07-31  170.669998  174.240005  170.000000  172.580002    -0.111877\n",
            "2018-08-31  177.149994  177.619995  174.979996  175.729996     0.018252\n",
            "2018-09-30  168.330002  168.789993  162.559998  164.460007    -0.064132\n",
            "2018-10-31  155.000000  156.399994  148.960007  151.789993    -0.077040\n",
            "2018-11-30  138.259995  140.970001  137.360001  140.610001    -0.073654\n",
            "2018-12-31  134.449997  134.639999  129.949997  131.089996    -0.067705\n",
            "\n",
            "--------------------------------------------------\n",
            "\n",
            "                  Open        High         Low       Close  rate_return\n",
            "Date                                                                   \n",
            "2018-01-31  188.369995  189.830002  185.220001  186.889999     0.000000\n",
            "2018-02-28  182.300003  182.880005  178.139999  178.320007    -0.045856\n",
            "2018-03-31  155.149994  161.419998  154.139999  159.789993    -0.103914\n",
            "2018-04-30  173.789993  175.720001  171.710007  172.000000     0.076413\n",
            "2018-05-31  187.869995  192.720001  187.479996  191.779999     0.115000\n",
            "2018-06-30  197.320007  197.600006  193.960007  194.320007     0.013244\n",
            "2018-07-31  170.669998  174.240005  170.000000  172.580002    -0.111877\n",
            "2018-08-31  177.149994  177.619995  174.979996  175.729996     0.018252\n",
            "2018-09-30  168.330002  168.789993  162.559998  164.460007    -0.064132\n",
            "2018-10-31  155.000000  156.399994  148.960007  151.789993    -0.077040\n",
            "2018-11-30  138.259995  140.970001  137.360001  140.610001    -0.073654\n",
            "2018-12-31  134.449997  134.639999  129.949997  131.089996    -0.067705\n"
          ]
        }
      ]
    },
    {
      "cell_type": "markdown",
      "metadata": {
        "id": "0tvoFlKWQxYG"
      },
      "source": [
        "## DataFrame Concat\n",
        "We have seen how to extract a Series from a dataFrame. Now we need to consider how to merge a Series or a DataFrame into another one.\n",
        "\n",
        "In Pandas, the function **concat()** allows us to merge multiple Series into a DataFrame:"
      ]
    },
    {
      "cell_type": "code",
      "metadata": {
        "colab": {
          "base_uri": "https://localhost:8080/"
        },
        "id": "uQrmLIWKHW-C",
        "outputId": "d561cf05-d964-4144-85cb-e59e92c21467"
      },
      "source": [
        "s1 = pd.Series([150.5, 146.67, 157.45, 148.12, 143.77], name = 'FB')\n",
        "s2 = pd.Series([879.7, 980.11, 926.59, 958.45, 926.91], name = 'HP')\n",
        "data_frame = pd.concat([s1,s2], axis = 1)\n",
        "print(data_frame)"
      ],
      "execution_count": 426,
      "outputs": [
        {
          "output_type": "stream",
          "name": "stdout",
          "text": [
            "       FB      HP\n",
            "0  150.50  879.70\n",
            "1  146.67  980.11\n",
            "2  157.45  926.59\n",
            "3  148.12  958.45\n",
            "4  143.77  926.91\n"
          ]
        }
      ]
    },
    {
      "cell_type": "markdown",
      "metadata": {
        "id": "3ojbNYJLR2vv"
      },
      "source": [
        "The \"axis = 1\" parameter will join two DataFrames by columns:"
      ]
    },
    {
      "cell_type": "code",
      "metadata": {
        "colab": {
          "base_uri": "https://localhost:8080/"
        },
        "id": "DJsaLd-cRoIm",
        "outputId": "cf6fbef2-2286-4e2d-8e5b-f324d7b4445f"
      },
      "source": [
        "log_price = np.log(fb_bar.Close)\n",
        "log_price.name = 'log_price'\n",
        "print(log_price)\n",
        "print('\\n---------------------- separate line--------------------\\n')\n",
        "concat = pd.concat([fb_bar, log_price], axis = 1)\n",
        "print(concat)"
      ],
      "execution_count": 429,
      "outputs": [
        {
          "output_type": "stream",
          "name": "stdout",
          "text": [
            "Date\n",
            "2018-01-31    5.230520\n",
            "2018-02-28    5.183580\n",
            "2018-03-31    5.073860\n",
            "2018-04-30    5.147494\n",
            "2018-05-31    5.256349\n",
            "2018-06-30    5.269506\n",
            "2018-07-31    5.150861\n",
            "2018-08-31    5.168949\n",
            "2018-09-30    5.102667\n",
            "2018-10-31    5.022498\n",
            "2018-11-30    4.945990\n",
            "2018-12-31    4.875884\n",
            "Freq: M, Name: log_price, dtype: float64\n",
            "\n",
            "---------------------- separate line--------------------\n",
            "\n",
            "                  Open        High  ...  rate_return  log_price\n",
            "Date                                ...                        \n",
            "2018-01-31  188.369995  189.830002  ...          NaN   5.230520\n",
            "2018-02-28  182.300003  182.880005  ...    -0.045856   5.183580\n",
            "2018-03-31  155.149994  161.419998  ...    -0.103914   5.073860\n",
            "2018-04-30  173.789993  175.720001  ...     0.076413   5.147494\n",
            "2018-05-31  187.869995  192.720001  ...     0.115000   5.256349\n",
            "2018-06-30  197.320007  197.600006  ...     0.013244   5.269506\n",
            "2018-07-31  170.669998  174.240005  ...    -0.111877   5.150861\n",
            "2018-08-31  177.149994  177.619995  ...     0.018252   5.168949\n",
            "2018-09-30  168.330002  168.789993  ...    -0.064132   5.102667\n",
            "2018-10-31  155.000000  156.399994  ...    -0.077040   5.022498\n",
            "2018-11-30  138.259995  140.970001  ...    -0.073654   4.945990\n",
            "2018-12-31  134.449997  134.639999  ...    -0.067705   4.875884\n",
            "\n",
            "[12 rows x 6 columns]\n"
          ]
        }
      ]
    },
    {
      "cell_type": "markdown",
      "metadata": {
        "id": "mIZz-FUyR_62"
      },
      "source": [
        "We can also join two DataFrames by rows. Consider these two DataFrames:"
      ]
    },
    {
      "cell_type": "code",
      "metadata": {
        "colab": {
          "base_uri": "https://localhost:8080/"
        },
        "id": "W7uXZptLHW-C",
        "outputId": "ead62810-2fe9-4d0e-dc4c-f8e1192eb5d2"
      },
      "source": [
        "df_volume = fb_table.loc['2018-10':'2019-04',['Volume', 'Stock Splits']].resample('M').agg(lambda x: x[-1])\n",
        "print(df_volume)\n",
        "print('\\n---------------------- separate line--------------------\\n')\n",
        "df_2017 = fb_table.loc['2018-10':'2019-04',['Open', 'High', 'Low', 'Close']].resample('M').agg(lambda x: x[-1])\n",
        "print(df_2017)"
      ],
      "execution_count": 430,
      "outputs": [
        {
          "output_type": "stream",
          "name": "stdout",
          "text": [
            "              Volume  Stock Splits\n",
            "Date                              \n",
            "2018-10-31  60101300             0\n",
            "2018-11-30  25732600             0\n",
            "2018-12-31  24625300             0\n",
            "2019-01-31  77233600             0\n",
            "2019-02-28  11114200             0\n",
            "2019-03-31  13455500             0\n",
            "2019-04-30  23494700             0\n",
            "\n",
            "---------------------- separate line--------------------\n",
            "\n",
            "                  Open        High         Low       Close\n",
            "Date                                                      \n",
            "2018-10-31  155.000000  156.399994  148.960007  151.789993\n",
            "2018-11-30  138.259995  140.970001  137.360001  140.610001\n",
            "2018-12-31  134.449997  134.639999  129.949997  131.089996\n",
            "2019-01-31  165.600006  171.679993  165.000000  166.690002\n",
            "2019-02-28  162.369995  163.500000  160.860001  161.449997\n",
            "2019-03-31  166.389999  167.190002  164.809998  166.690002\n",
            "2019-04-30  194.190002  197.389999  192.279999  193.399994\n"
          ]
        }
      ]
    },
    {
      "cell_type": "markdown",
      "metadata": {
        "id": "iZk_C9aSSLeP"
      },
      "source": [
        "Now we merge the DataFrames with our DataFrame 'aapl_bar'"
      ]
    },
    {
      "cell_type": "code",
      "metadata": {
        "colab": {
          "base_uri": "https://localhost:8080/"
        },
        "id": "aFqmjokOHW-C",
        "outputId": "44d7e08a-21aa-42e3-e4f8-3f7639544c7a"
      },
      "source": [
        "concat = pd.concat([fb_bar, df_volume], axis = 1)\n",
        "print(concat)"
      ],
      "execution_count": 433,
      "outputs": [
        {
          "output_type": "stream",
          "name": "stdout",
          "text": [
            "                  Open        High  ...      Volume  Stock Splits\n",
            "Date                                ...                          \n",
            "2018-01-31  188.369995  189.830002  ...         NaN           NaN\n",
            "2018-02-28  182.300003  182.880005  ...         NaN           NaN\n",
            "2018-03-31  155.149994  161.419998  ...         NaN           NaN\n",
            "2018-04-30  173.789993  175.720001  ...         NaN           NaN\n",
            "2018-05-31  187.869995  192.720001  ...         NaN           NaN\n",
            "2018-06-30  197.320007  197.600006  ...         NaN           NaN\n",
            "2018-07-31  170.669998  174.240005  ...         NaN           NaN\n",
            "2018-08-31  177.149994  177.619995  ...         NaN           NaN\n",
            "2018-09-30  168.330002  168.789993  ...         NaN           NaN\n",
            "2018-10-31  155.000000  156.399994  ...  60101300.0           0.0\n",
            "2018-11-30  138.259995  140.970001  ...  25732600.0           0.0\n",
            "2018-12-31  134.449997  134.639999  ...  24625300.0           0.0\n",
            "2019-01-31         NaN         NaN  ...  77233600.0           0.0\n",
            "2019-02-28         NaN         NaN  ...  11114200.0           0.0\n",
            "2019-03-31         NaN         NaN  ...  13455500.0           0.0\n",
            "2019-04-30         NaN         NaN  ...  23494700.0           0.0\n",
            "\n",
            "[16 rows x 7 columns]\n"
          ]
        }
      ]
    },
    {
      "cell_type": "markdown",
      "metadata": {
        "id": "7yI3tgB4SR4O"
      },
      "source": [
        "By default the DataFrame are joined with all of the data. This default options results in zero information loss. We can also merge them by intersection, this is called 'inner join"
      ]
    },
    {
      "cell_type": "code",
      "metadata": {
        "colab": {
          "base_uri": "https://localhost:8080/"
        },
        "id": "31QGLyijHW-C",
        "outputId": "1eb0ee29-878f-4295-aa30-913071ae6b19"
      },
      "source": [
        "concat = pd.concat([fb_bar,df_volume],axis = 1, join = 'inner')\n",
        "print(concat)"
      ],
      "execution_count": 434,
      "outputs": [
        {
          "output_type": "stream",
          "name": "stdout",
          "text": [
            "                  Open        High  ...    Volume  Stock Splits\n",
            "Date                                ...                        \n",
            "2018-10-31  155.000000  156.399994  ...  60101300             0\n",
            "2018-11-30  138.259995  140.970001  ...  25732600             0\n",
            "2018-12-31  134.449997  134.639999  ...  24625300             0\n",
            "\n",
            "[3 rows x 7 columns]\n"
          ]
        }
      ]
    },
    {
      "cell_type": "markdown",
      "metadata": {
        "id": "oudcWMm5Sd0u"
      },
      "source": [
        "Only the intersection part was left if use 'inner join' method. Now let's try to append a DataFrame to another one:"
      ]
    },
    {
      "cell_type": "code",
      "metadata": {
        "colab": {
          "base_uri": "https://localhost:8080/"
        },
        "id": "lgw0qaOsHW-D",
        "outputId": "4310869b-b621-4aaa-bde1-104d87754a4b"
      },
      "source": [
        "append = fb_bar.append(df_2017)\n",
        "print(append)"
      ],
      "execution_count": 435,
      "outputs": [
        {
          "output_type": "stream",
          "name": "stdout",
          "text": [
            "                  Open        High         Low       Close  rate_return\n",
            "Date                                                                   \n",
            "2018-01-31  188.369995  189.830002  185.220001  186.889999          NaN\n",
            "2018-02-28  182.300003  182.880005  178.139999  178.320007    -0.045856\n",
            "2018-03-31  155.149994  161.419998  154.139999  159.789993    -0.103914\n",
            "2018-04-30  173.789993  175.720001  171.710007  172.000000     0.076413\n",
            "2018-05-31  187.869995  192.720001  187.479996  191.779999     0.115000\n",
            "2018-06-30  197.320007  197.600006  193.960007  194.320007     0.013244\n",
            "2018-07-31  170.669998  174.240005  170.000000  172.580002    -0.111877\n",
            "2018-08-31  177.149994  177.619995  174.979996  175.729996     0.018252\n",
            "2018-09-30  168.330002  168.789993  162.559998  164.460007    -0.064132\n",
            "2018-10-31  155.000000  156.399994  148.960007  151.789993    -0.077040\n",
            "2018-11-30  138.259995  140.970001  137.360001  140.610001    -0.073654\n",
            "2018-12-31  134.449997  134.639999  129.949997  131.089996    -0.067705\n",
            "2018-10-31  155.000000  156.399994  148.960007  151.789993          NaN\n",
            "2018-11-30  138.259995  140.970001  137.360001  140.610001          NaN\n",
            "2018-12-31  134.449997  134.639999  129.949997  131.089996          NaN\n",
            "2019-01-31  165.600006  171.679993  165.000000  166.690002          NaN\n",
            "2019-02-28  162.369995  163.500000  160.860001  161.449997          NaN\n",
            "2019-03-31  166.389999  167.190002  164.809998  166.690002          NaN\n",
            "2019-04-30  194.190002  197.389999  192.279999  193.399994          NaN\n"
          ]
        }
      ]
    },
    {
      "cell_type": "markdown",
      "metadata": {
        "id": "zXT6cMquSq_P"
      },
      "source": [
        "'Append' is essentially to concat two DataFrames by axis = 0, thus here is an alternative way to append:"
      ]
    },
    {
      "cell_type": "code",
      "metadata": {
        "colab": {
          "base_uri": "https://localhost:8080/"
        },
        "id": "2EuSaFO9HW-D",
        "outputId": "248712ad-06f2-4836-e0a4-0a3efb555850"
      },
      "source": [
        "concat = pd.concat([fb_bar, df_2017], axis = 0)\n",
        "print(concat)"
      ],
      "execution_count": 436,
      "outputs": [
        {
          "output_type": "stream",
          "name": "stdout",
          "text": [
            "                  Open        High         Low       Close  rate_return\n",
            "Date                                                                   \n",
            "2018-01-31  188.369995  189.830002  185.220001  186.889999          NaN\n",
            "2018-02-28  182.300003  182.880005  178.139999  178.320007    -0.045856\n",
            "2018-03-31  155.149994  161.419998  154.139999  159.789993    -0.103914\n",
            "2018-04-30  173.789993  175.720001  171.710007  172.000000     0.076413\n",
            "2018-05-31  187.869995  192.720001  187.479996  191.779999     0.115000\n",
            "2018-06-30  197.320007  197.600006  193.960007  194.320007     0.013244\n",
            "2018-07-31  170.669998  174.240005  170.000000  172.580002    -0.111877\n",
            "2018-08-31  177.149994  177.619995  174.979996  175.729996     0.018252\n",
            "2018-09-30  168.330002  168.789993  162.559998  164.460007    -0.064132\n",
            "2018-10-31  155.000000  156.399994  148.960007  151.789993    -0.077040\n",
            "2018-11-30  138.259995  140.970001  137.360001  140.610001    -0.073654\n",
            "2018-12-31  134.449997  134.639999  129.949997  131.089996    -0.067705\n",
            "2018-10-31  155.000000  156.399994  148.960007  151.789993          NaN\n",
            "2018-11-30  138.259995  140.970001  137.360001  140.610001          NaN\n",
            "2018-12-31  134.449997  134.639999  129.949997  131.089996          NaN\n",
            "2019-01-31  165.600006  171.679993  165.000000  166.690002          NaN\n",
            "2019-02-28  162.369995  163.500000  160.860001  161.449997          NaN\n",
            "2019-03-31  166.389999  167.190002  164.809998  166.690002          NaN\n",
            "2019-04-30  194.190002  197.389999  192.279999  193.399994          NaN\n"
          ]
        }
      ]
    },
    {
      "cell_type": "markdown",
      "metadata": {
        "id": "-YXL7V9ASst9"
      },
      "source": [
        "Please note that if the two DataFrame have some columns with the same column names, these columns are considered to be the same and will be merged. It's very important to have the right column names. If we change a column names here:"
      ]
    },
    {
      "cell_type": "code",
      "metadata": {
        "colab": {
          "base_uri": "https://localhost:8080/"
        },
        "id": "aT1eoa8mHW-D",
        "outputId": "adbeb1e0-b310-4664-b3e0-4ca0c23de9f4"
      },
      "source": [
        "df_2017.columns = ['Change', 'High','Low','Close']\n",
        "concat = pd.concat([fb_bar, df_2017], axis = 0)\n",
        "print(concat)"
      ],
      "execution_count": 437,
      "outputs": [
        {
          "output_type": "stream",
          "name": "stdout",
          "text": [
            "                  Open        High  ...  rate_return      Change\n",
            "Date                                ...                         \n",
            "2018-01-31  188.369995  189.830002  ...          NaN         NaN\n",
            "2018-02-28  182.300003  182.880005  ...    -0.045856         NaN\n",
            "2018-03-31  155.149994  161.419998  ...    -0.103914         NaN\n",
            "2018-04-30  173.789993  175.720001  ...     0.076413         NaN\n",
            "2018-05-31  187.869995  192.720001  ...     0.115000         NaN\n",
            "2018-06-30  197.320007  197.600006  ...     0.013244         NaN\n",
            "2018-07-31  170.669998  174.240005  ...    -0.111877         NaN\n",
            "2018-08-31  177.149994  177.619995  ...     0.018252         NaN\n",
            "2018-09-30  168.330002  168.789993  ...    -0.064132         NaN\n",
            "2018-10-31  155.000000  156.399994  ...    -0.077040         NaN\n",
            "2018-11-30  138.259995  140.970001  ...    -0.073654         NaN\n",
            "2018-12-31  134.449997  134.639999  ...    -0.067705         NaN\n",
            "2018-10-31         NaN  156.399994  ...          NaN  155.000000\n",
            "2018-11-30         NaN  140.970001  ...          NaN  138.259995\n",
            "2018-12-31         NaN  134.639999  ...          NaN  134.449997\n",
            "2019-01-31         NaN  171.679993  ...          NaN  165.600006\n",
            "2019-02-28         NaN  163.500000  ...          NaN  162.369995\n",
            "2019-03-31         NaN  167.190002  ...          NaN  166.389999\n",
            "2019-04-30         NaN  197.389999  ...          NaN  194.190002\n",
            "\n",
            "[19 rows x 6 columns]\n"
          ]
        }
      ]
    },
    {
      "cell_type": "markdown",
      "metadata": {
        "id": "shbpOFyyS6uV"
      },
      "source": [
        "Since the column name of 'Open' has been changed, the new DataFrame has an new column named 'Change'.\n",
        "\n",
        "# Summary\n",
        "\n",
        "Hereby we introduced the most import part of python: resampling and DataFrame manipulation. We only introduced the most commonly used method in Financial data analysis. There are also many methods used in data mining, which are also beneficial. You can always check the [Pandas](https://pandas.pydata.org/pandas-docs/stable/index.html) official documentations for help."
      ]
    }
  ]
}