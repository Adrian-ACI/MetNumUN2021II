{
  "nbformat": 4,
  "nbformat_minor": 0,
  "metadata": {
    "colab": {
      "name": "PLUSympyGrupo6_PLU_Sympy.ipynb",
      "provenance": [],
      "collapsed_sections": [],
      "include_colab_link": true
    },
    "kernelspec": {
      "name": "python3",
      "display_name": "Python 3"
    },
    "language_info": {
      "name": "python"
    }
  },
  "cells": [
    {
      "cell_type": "markdown",
      "metadata": {
        "id": "view-in-github",
        "colab_type": "text"
      },
      "source": [
        "<a href=\"https://colab.research.google.com/github/Adrian-ACI/MetNumUN2021II/blob/master/Lab13/PLUSympyGrupo6_PLU_Sympy.ipynb\" target=\"_parent\"><img src=\"https://colab.research.google.com/assets/colab-badge.svg\" alt=\"Open In Colab\"/></a>"
      ]
    },
    {
      "cell_type": "markdown",
      "source": [
        "# PLU SymPy"
      ],
      "metadata": {
        "id": "2b0X1rlVghnD"
      }
    },
    {
      "cell_type": "code",
      "source": [
        "from sympy import Matrix,init_printing, eye, zeros\n",
        "init_printing()"
      ],
      "metadata": {
        "id": "5YpJlcuLtIBn"
      },
      "execution_count": 90,
      "outputs": []
    },
    {
      "cell_type": "code",
      "source": [
        "import sympy \n",
        "import numpy as np\n",
        "def PLU(A,k):\n",
        "\n",
        "  N = A.shape[0]\n",
        "  u = A.copy()\n",
        "  L = sympy.eye(N)\n",
        "  P = sympy.eye(N)\n",
        "  \n",
        "  for j in range(k):\n",
        "      lam = sympy.eye(N)\n",
        "      perm = sympy.eye(N)\n",
        "      row_ind = j\n",
        "      max_value = u[row_ind, j]\n",
        "      for i in range(j, N, 1):\n",
        "        if abs(u[i, j]) > abs(max_value): \n",
        "          max_value = u[i, j]\n",
        "          row_ind = i\n",
        "      swap_row = perm[row_ind,:].copy()\n",
        "      perm[row_ind,:] = perm[j,:]\n",
        "      perm[j,:] = swap_row\n",
        "\n",
        "      u = perm @ u\n",
        "      gamma = u[j+1:, j] / u[j, j]\n",
        "      lam[j+1:, j] = -gamma\n",
        "      u = lam @ u\n",
        "      P = perm @ P\n",
        "      L = L @ perm @ lam \n",
        "  return P,P@L,u"
      ],
      "metadata": {
        "id": "1u2PJf3otKcc"
      },
      "execution_count": 91,
      "outputs": []
    },
    {
      "cell_type": "code",
      "source": [
        "A = Matrix([[-2,2,-1], [6,-6,7], [3,-8,4]])\n",
        "A"
      ],
      "metadata": {
        "colab": {
          "base_uri": "https://localhost:8080/",
          "height": 78
        },
        "id": "7HLfQMyxz4h9",
        "outputId": "be941e73-8198-4346-e3f1-8052f1ff429f"
      },
      "execution_count": 92,
      "outputs": [
        {
          "output_type": "execute_result",
          "data": {
            "text/latex": "$\\displaystyle \\left[\\begin{matrix}-2 & 2 & -1\\\\6 & -6 & 7\\\\3 & -8 & 4\\end{matrix}\\right]$",
            "text/plain": [
              "⎡-2  2   -1⎤\n",
              "⎢          ⎥\n",
              "⎢6   -6  7 ⎥\n",
              "⎢          ⎥\n",
              "⎣3   -8  4 ⎦"
            ]
          },
          "metadata": {},
          "execution_count": 92
        }
      ]
    },
    {
      "cell_type": "code",
      "source": [
        "P,L,U = PLU(A,0)"
      ],
      "metadata": {
        "id": "6leWL6-jtRkF"
      },
      "execution_count": 93,
      "outputs": []
    },
    {
      "cell_type": "code",
      "source": [
        "P"
      ],
      "metadata": {
        "colab": {
          "base_uri": "https://localhost:8080/",
          "height": 78
        },
        "id": "v2_Euu2Dy6rt",
        "outputId": "f40a2ea8-3645-440f-9246-1c73e6401c97"
      },
      "execution_count": 94,
      "outputs": [
        {
          "output_type": "execute_result",
          "data": {
            "text/latex": "$\\displaystyle \\left[\\begin{matrix}1 & 0 & 0\\\\0 & 1 & 0\\\\0 & 0 & 1\\end{matrix}\\right]$",
            "text/plain": [
              "⎡1  0  0⎤\n",
              "⎢       ⎥\n",
              "⎢0  1  0⎥\n",
              "⎢       ⎥\n",
              "⎣0  0  1⎦"
            ]
          },
          "metadata": {},
          "execution_count": 94
        }
      ]
    },
    {
      "cell_type": "code",
      "source": [
        "L"
      ],
      "metadata": {
        "colab": {
          "base_uri": "https://localhost:8080/",
          "height": 78
        },
        "id": "wUIt2RTTy3qG",
        "outputId": "0f9dbe13-46fe-4a75-8971-bc8e8a0e7d88"
      },
      "execution_count": 95,
      "outputs": [
        {
          "output_type": "execute_result",
          "data": {
            "text/latex": "$\\displaystyle \\left[\\begin{matrix}1 & 0 & 0\\\\0 & 1 & 0\\\\0 & 0 & 1\\end{matrix}\\right]$",
            "text/plain": [
              "⎡1  0  0⎤\n",
              "⎢       ⎥\n",
              "⎢0  1  0⎥\n",
              "⎢       ⎥\n",
              "⎣0  0  1⎦"
            ]
          },
          "metadata": {},
          "execution_count": 95
        }
      ]
    },
    {
      "cell_type": "code",
      "source": [
        "U"
      ],
      "metadata": {
        "colab": {
          "base_uri": "https://localhost:8080/",
          "height": 78
        },
        "id": "WU6c9cVoy4md",
        "outputId": "e16063dd-2d58-4f45-83b6-67cf046e008d"
      },
      "execution_count": 96,
      "outputs": [
        {
          "output_type": "execute_result",
          "data": {
            "text/latex": "$\\displaystyle \\left[\\begin{matrix}-2 & 2 & -1\\\\6 & -6 & 7\\\\3 & -8 & 4\\end{matrix}\\right]$",
            "text/plain": [
              "⎡-2  2   -1⎤\n",
              "⎢          ⎥\n",
              "⎢6   -6  7 ⎥\n",
              "⎢          ⎥\n",
              "⎣3   -8  4 ⎦"
            ]
          },
          "metadata": {},
          "execution_count": 96
        }
      ]
    },
    {
      "cell_type": "code",
      "source": [
        "P,L,U = PLU(A,1)"
      ],
      "metadata": {
        "id": "VwkeklsnzXm9"
      },
      "execution_count": 97,
      "outputs": []
    },
    {
      "cell_type": "code",
      "source": [
        "P"
      ],
      "metadata": {
        "colab": {
          "base_uri": "https://localhost:8080/",
          "height": 78
        },
        "id": "mmhvYJg6zZGl",
        "outputId": "e5196532-61b4-42bb-8de4-6e10abed6d33"
      },
      "execution_count": 98,
      "outputs": [
        {
          "output_type": "execute_result",
          "data": {
            "text/latex": "$\\displaystyle \\left[\\begin{matrix}0 & 1 & 0\\\\1 & 0 & 0\\\\0 & 0 & 1\\end{matrix}\\right]$",
            "text/plain": [
              "⎡0  1  0⎤\n",
              "⎢       ⎥\n",
              "⎢1  0  0⎥\n",
              "⎢       ⎥\n",
              "⎣0  0  1⎦"
            ]
          },
          "metadata": {},
          "execution_count": 98
        }
      ]
    },
    {
      "cell_type": "code",
      "source": [
        "L"
      ],
      "metadata": {
        "colab": {
          "base_uri": "https://localhost:8080/",
          "height": 78
        },
        "id": "GYVPxQcfzZud",
        "outputId": "caddb346-b897-4228-da2d-288063af77ec"
      },
      "execution_count": 99,
      "outputs": [
        {
          "output_type": "execute_result",
          "data": {
            "text/latex": "$\\displaystyle \\left[\\begin{matrix}1 & 0 & 0\\\\\\frac{1}{3} & 1 & 0\\\\- \\frac{1}{2} & 0 & 1\\end{matrix}\\right]$",
            "text/plain": [
              "⎡ 1    0  0⎤\n",
              "⎢          ⎥\n",
              "⎢1/3   1  0⎥\n",
              "⎢          ⎥\n",
              "⎣-1/2  0  1⎦"
            ]
          },
          "metadata": {},
          "execution_count": 99
        }
      ]
    },
    {
      "cell_type": "code",
      "source": [
        "U"
      ],
      "metadata": {
        "colab": {
          "base_uri": "https://localhost:8080/",
          "height": 78
        },
        "id": "Ii_G1E-fzauc",
        "outputId": "30b4ab90-55a3-4d7f-8fda-7ab431600155"
      },
      "execution_count": 100,
      "outputs": [
        {
          "output_type": "execute_result",
          "data": {
            "text/latex": "$\\displaystyle \\left[\\begin{matrix}6 & -6 & 7\\\\0 & 0 & \\frac{4}{3}\\\\0 & -5 & \\frac{1}{2}\\end{matrix}\\right]$",
            "text/plain": [
              "⎡6  -6   7 ⎤\n",
              "⎢          ⎥\n",
              "⎢0  0   4/3⎥\n",
              "⎢          ⎥\n",
              "⎣0  -5  1/2⎦"
            ]
          },
          "metadata": {},
          "execution_count": 100
        }
      ]
    },
    {
      "cell_type": "code",
      "source": [
        "P,L,U = PLU(A,2)"
      ],
      "metadata": {
        "id": "yxpCf2HCzkL-"
      },
      "execution_count": 101,
      "outputs": []
    },
    {
      "cell_type": "code",
      "source": [
        "P"
      ],
      "metadata": {
        "colab": {
          "base_uri": "https://localhost:8080/",
          "height": 78
        },
        "id": "mP89CHIDznos",
        "outputId": "d1544a1a-54fb-4b83-c827-4150e5183ea2"
      },
      "execution_count": 102,
      "outputs": [
        {
          "output_type": "execute_result",
          "data": {
            "text/latex": "$\\displaystyle \\left[\\begin{matrix}0 & 1 & 0\\\\0 & 0 & 1\\\\1 & 0 & 0\\end{matrix}\\right]$",
            "text/plain": [
              "⎡0  1  0⎤\n",
              "⎢       ⎥\n",
              "⎢0  0  1⎥\n",
              "⎢       ⎥\n",
              "⎣1  0  0⎦"
            ]
          },
          "metadata": {},
          "execution_count": 102
        }
      ]
    },
    {
      "cell_type": "code",
      "source": [
        "L"
      ],
      "metadata": {
        "colab": {
          "base_uri": "https://localhost:8080/",
          "height": 78
        },
        "id": "bZvdCOMgzoh2",
        "outputId": "a12ac867-409a-4cf9-9971-cc98014e8444"
      },
      "execution_count": 103,
      "outputs": [
        {
          "output_type": "execute_result",
          "data": {
            "text/latex": "$\\displaystyle \\left[\\begin{matrix}1 & 0 & 0\\\\- \\frac{1}{2} & 1 & 0\\\\\\frac{1}{3} & 0 & 1\\end{matrix}\\right]$",
            "text/plain": [
              "⎡ 1    0  0⎤\n",
              "⎢          ⎥\n",
              "⎢-1/2  1  0⎥\n",
              "⎢          ⎥\n",
              "⎣1/3   0  1⎦"
            ]
          },
          "metadata": {},
          "execution_count": 103
        }
      ]
    },
    {
      "cell_type": "code",
      "source": [
        "U"
      ],
      "metadata": {
        "colab": {
          "base_uri": "https://localhost:8080/",
          "height": 78
        },
        "id": "O64hZyl7zqE8",
        "outputId": "ae2547ce-267d-495a-96cf-a248177c718f"
      },
      "execution_count": 104,
      "outputs": [
        {
          "output_type": "execute_result",
          "data": {
            "text/latex": "$\\displaystyle \\left[\\begin{matrix}6 & -6 & 7\\\\0 & -5 & \\frac{1}{2}\\\\0 & 0 & \\frac{4}{3}\\end{matrix}\\right]$",
            "text/plain": [
              "⎡6  -6   7 ⎤\n",
              "⎢          ⎥\n",
              "⎢0  -5  1/2⎥\n",
              "⎢          ⎥\n",
              "⎣0  0   4/3⎦"
            ]
          },
          "metadata": {},
          "execution_count": 104
        }
      ]
    },
    {
      "cell_type": "code",
      "source": [
        "from sympy import  N\n",
        "N(U)"
      ],
      "metadata": {
        "colab": {
          "base_uri": "https://localhost:8080/",
          "height": 78
        },
        "id": "lEWtqQq4z-_E",
        "outputId": "d647a82d-e78f-4e68-e47a-9a61594cf9cb"
      },
      "execution_count": 105,
      "outputs": [
        {
          "output_type": "execute_result",
          "data": {
            "text/latex": "$\\displaystyle \\left[\\begin{matrix}6.0 & -6.0 & 7.0\\\\0 & -5.0 & 0.5\\\\0 & 0 & 1.33333333333333\\end{matrix}\\right]$",
            "text/plain": [
              "⎡6.0  -6.0        7.0       ⎤\n",
              "⎢                           ⎥\n",
              "⎢ 0   -5.0        0.5       ⎥\n",
              "⎢                           ⎥\n",
              "⎣ 0    0    1.33333333333333⎦"
            ]
          },
          "metadata": {},
          "execution_count": 105
        }
      ]
    },
    {
      "cell_type": "code",
      "source": [
        "# Now, generate a full rank matrix and test the naive implementation\n",
        "\n",
        "import sympy \n",
        "import numpy as np\n",
        "\n",
        "N = 6\n",
        "A = sympy.zeros(N)\n",
        "for i in range(N):\n",
        "    for j in range(N):\n",
        "        A[i, j] = 2 + sympy.Rational(1,i*j+1)\n",
        "\n",
        "A"
      ],
      "metadata": {
        "colab": {
          "base_uri": "https://localhost:8080/",
          "height": 139
        },
        "id": "wqtMmRTM0q-l",
        "outputId": "4efde115-b0a3-4b9f-9093-85a19767282b"
      },
      "execution_count": 106,
      "outputs": [
        {
          "output_type": "execute_result",
          "data": {
            "text/latex": "$\\displaystyle \\left[\\begin{matrix}3 & 3 & 3 & 3 & 3 & 3\\\\3 & \\frac{5}{2} & \\frac{7}{3} & \\frac{9}{4} & \\frac{11}{5} & \\frac{13}{6}\\\\3 & \\frac{7}{3} & \\frac{11}{5} & \\frac{15}{7} & \\frac{19}{9} & \\frac{23}{11}\\\\3 & \\frac{9}{4} & \\frac{15}{7} & \\frac{21}{10} & \\frac{27}{13} & \\frac{33}{16}\\\\3 & \\frac{11}{5} & \\frac{19}{9} & \\frac{27}{13} & \\frac{35}{17} & \\frac{43}{21}\\\\3 & \\frac{13}{6} & \\frac{23}{11} & \\frac{33}{16} & \\frac{43}{21} & \\frac{53}{26}\\end{matrix}\\right]$",
            "text/plain": [
              "⎡3   3     3     3     3     3  ⎤\n",
              "⎢                               ⎥\n",
              "⎢3  5/2   7/3   9/4   11/5  13/6⎥\n",
              "⎢                               ⎥\n",
              "⎢                            23 ⎥\n",
              "⎢3  7/3   11/5  15/7  19/9   ── ⎥\n",
              "⎢                            11 ⎥\n",
              "⎢                               ⎥\n",
              "⎢                21    27    33 ⎥\n",
              "⎢3  9/4   15/7   ──    ──    ── ⎥\n",
              "⎢                10    13    16 ⎥\n",
              "⎢                               ⎥\n",
              "⎢                27    35    43 ⎥\n",
              "⎢3  11/5  19/9   ──    ──    ── ⎥\n",
              "⎢                13    17    21 ⎥\n",
              "⎢                               ⎥\n",
              "⎢          23    33    43    53 ⎥\n",
              "⎢3  13/6   ──    ──    ──    ── ⎥\n",
              "⎣          11    16    21    26 ⎦"
            ]
          },
          "metadata": {},
          "execution_count": 106
        }
      ]
    },
    {
      "cell_type": "code",
      "source": [
        "np.array(A).astype(np.float64)"
      ],
      "metadata": {
        "colab": {
          "base_uri": "https://localhost:8080/"
        },
        "id": "ZvYZLTuV0wC9",
        "outputId": "6f27d747-6a2d-47e2-ca16-45fc4db461d9"
      },
      "execution_count": 107,
      "outputs": [
        {
          "output_type": "execute_result",
          "data": {
            "text/plain": [
              "array([[3.        , 3.        , 3.        , 3.        , 3.        ,\n",
              "        3.        ],\n",
              "       [3.        , 2.5       , 2.33333333, 2.25      , 2.2       ,\n",
              "        2.16666667],\n",
              "       [3.        , 2.33333333, 2.2       , 2.14285714, 2.11111111,\n",
              "        2.09090909],\n",
              "       [3.        , 2.25      , 2.14285714, 2.1       , 2.07692308,\n",
              "        2.0625    ],\n",
              "       [3.        , 2.2       , 2.11111111, 2.07692308, 2.05882353,\n",
              "        2.04761905],\n",
              "       [3.        , 2.16666667, 2.09090909, 2.0625    , 2.04761905,\n",
              "        2.03846154]])"
            ]
          },
          "metadata": {},
          "execution_count": 107
        }
      ]
    },
    {
      "cell_type": "code",
      "source": [
        "np.linalg.matrix_rank(np.array(A).astype(np.float64))"
      ],
      "metadata": {
        "colab": {
          "base_uri": "https://localhost:8080/"
        },
        "id": "xz7BbxaS3KHG",
        "outputId": "bfea73d2-72f7-43d9-cb5e-be11fcb8a4e1"
      },
      "execution_count": 108,
      "outputs": [
        {
          "output_type": "execute_result",
          "data": {
            "text/plain": [
              "6"
            ]
          },
          "metadata": {},
          "execution_count": 108
        }
      ]
    },
    {
      "cell_type": "code",
      "source": [
        "A[1, 1] = 3"
      ],
      "metadata": {
        "id": "hXXhpoCQ3WwU"
      },
      "execution_count": 109,
      "outputs": []
    },
    {
      "cell_type": "code",
      "source": [
        "A"
      ],
      "metadata": {
        "colab": {
          "base_uri": "https://localhost:8080/",
          "height": 139
        },
        "id": "5TGp8_iB3dmd",
        "outputId": "f24170a8-30bb-442c-bd34-c3288cf180f8"
      },
      "execution_count": 110,
      "outputs": [
        {
          "output_type": "execute_result",
          "data": {
            "text/latex": "$\\displaystyle \\left[\\begin{matrix}3 & 3 & 3 & 3 & 3 & 3\\\\3 & 3 & \\frac{7}{3} & \\frac{9}{4} & \\frac{11}{5} & \\frac{13}{6}\\\\3 & \\frac{7}{3} & \\frac{11}{5} & \\frac{15}{7} & \\frac{19}{9} & \\frac{23}{11}\\\\3 & \\frac{9}{4} & \\frac{15}{7} & \\frac{21}{10} & \\frac{27}{13} & \\frac{33}{16}\\\\3 & \\frac{11}{5} & \\frac{19}{9} & \\frac{27}{13} & \\frac{35}{17} & \\frac{43}{21}\\\\3 & \\frac{13}{6} & \\frac{23}{11} & \\frac{33}{16} & \\frac{43}{21} & \\frac{53}{26}\\end{matrix}\\right]$",
            "text/plain": [
              "⎡3   3     3     3     3     3  ⎤\n",
              "⎢                               ⎥\n",
              "⎢3   3    7/3   9/4   11/5  13/6⎥\n",
              "⎢                               ⎥\n",
              "⎢                            23 ⎥\n",
              "⎢3  7/3   11/5  15/7  19/9   ── ⎥\n",
              "⎢                            11 ⎥\n",
              "⎢                               ⎥\n",
              "⎢                21    27    33 ⎥\n",
              "⎢3  9/4   15/7   ──    ──    ── ⎥\n",
              "⎢                10    13    16 ⎥\n",
              "⎢                               ⎥\n",
              "⎢                27    35    43 ⎥\n",
              "⎢3  11/5  19/9   ──    ──    ── ⎥\n",
              "⎢                13    17    21 ⎥\n",
              "⎢                               ⎥\n",
              "⎢          23    33    43    53 ⎥\n",
              "⎢3  13/6   ──    ──    ──    ── ⎥\n",
              "⎣          11    16    21    26 ⎦"
            ]
          },
          "metadata": {},
          "execution_count": 110
        }
      ]
    },
    {
      "cell_type": "code",
      "source": [
        "np.linalg.matrix_rank(np.array(A).astype(np.float64))"
      ],
      "metadata": {
        "colab": {
          "base_uri": "https://localhost:8080/"
        },
        "id": "5vZ1R6r83Zic",
        "outputId": "c2425c4c-0171-4ccf-aab4-93294d83c983"
      },
      "execution_count": 111,
      "outputs": [
        {
          "output_type": "execute_result",
          "data": {
            "text/plain": [
              "6"
            ]
          },
          "metadata": {},
          "execution_count": 111
        }
      ]
    },
    {
      "cell_type": "code",
      "source": [
        "P,L,U = PLU(A,0)"
      ],
      "metadata": {
        "id": "YxIq0tH03cJc"
      },
      "execution_count": 112,
      "outputs": []
    },
    {
      "cell_type": "code",
      "source": [
        "P"
      ],
      "metadata": {
        "colab": {
          "base_uri": "https://localhost:8080/",
          "height": 139
        },
        "outputId": "aed1371d-1c74-4752-83e1-b4bc7c406ab9",
        "id": "dC-BhXVF3y88"
      },
      "execution_count": 113,
      "outputs": [
        {
          "output_type": "execute_result",
          "data": {
            "text/latex": "$\\displaystyle \\left[\\begin{matrix}1 & 0 & 0 & 0 & 0 & 0\\\\0 & 1 & 0 & 0 & 0 & 0\\\\0 & 0 & 1 & 0 & 0 & 0\\\\0 & 0 & 0 & 1 & 0 & 0\\\\0 & 0 & 0 & 0 & 1 & 0\\\\0 & 0 & 0 & 0 & 0 & 1\\end{matrix}\\right]$",
            "text/plain": [
              "⎡1  0  0  0  0  0⎤\n",
              "⎢                ⎥\n",
              "⎢0  1  0  0  0  0⎥\n",
              "⎢                ⎥\n",
              "⎢0  0  1  0  0  0⎥\n",
              "⎢                ⎥\n",
              "⎢0  0  0  1  0  0⎥\n",
              "⎢                ⎥\n",
              "⎢0  0  0  0  1  0⎥\n",
              "⎢                ⎥\n",
              "⎣0  0  0  0  0  1⎦"
            ]
          },
          "metadata": {},
          "execution_count": 113
        }
      ]
    },
    {
      "cell_type": "code",
      "source": [
        "L"
      ],
      "metadata": {
        "colab": {
          "base_uri": "https://localhost:8080/",
          "height": 139
        },
        "id": "VoGS9ZR332tj",
        "outputId": "7c33efe4-3249-421f-b3f6-73d98f9ad991"
      },
      "execution_count": 114,
      "outputs": [
        {
          "output_type": "execute_result",
          "data": {
            "text/latex": "$\\displaystyle \\left[\\begin{matrix}1 & 0 & 0 & 0 & 0 & 0\\\\0 & 1 & 0 & 0 & 0 & 0\\\\0 & 0 & 1 & 0 & 0 & 0\\\\0 & 0 & 0 & 1 & 0 & 0\\\\0 & 0 & 0 & 0 & 1 & 0\\\\0 & 0 & 0 & 0 & 0 & 1\\end{matrix}\\right]$",
            "text/plain": [
              "⎡1  0  0  0  0  0⎤\n",
              "⎢                ⎥\n",
              "⎢0  1  0  0  0  0⎥\n",
              "⎢                ⎥\n",
              "⎢0  0  1  0  0  0⎥\n",
              "⎢                ⎥\n",
              "⎢0  0  0  1  0  0⎥\n",
              "⎢                ⎥\n",
              "⎢0  0  0  0  1  0⎥\n",
              "⎢                ⎥\n",
              "⎣0  0  0  0  0  1⎦"
            ]
          },
          "metadata": {},
          "execution_count": 114
        }
      ]
    },
    {
      "cell_type": "code",
      "source": [
        "U"
      ],
      "metadata": {
        "colab": {
          "base_uri": "https://localhost:8080/",
          "height": 139
        },
        "id": "D4cZ8Wjm33vj",
        "outputId": "8e1a70b7-6c8f-4bbd-c0e1-1d1b72703bbc"
      },
      "execution_count": 115,
      "outputs": [
        {
          "output_type": "execute_result",
          "data": {
            "text/latex": "$\\displaystyle \\left[\\begin{matrix}3 & 3 & 3 & 3 & 3 & 3\\\\3 & 3 & \\frac{7}{3} & \\frac{9}{4} & \\frac{11}{5} & \\frac{13}{6}\\\\3 & \\frac{7}{3} & \\frac{11}{5} & \\frac{15}{7} & \\frac{19}{9} & \\frac{23}{11}\\\\3 & \\frac{9}{4} & \\frac{15}{7} & \\frac{21}{10} & \\frac{27}{13} & \\frac{33}{16}\\\\3 & \\frac{11}{5} & \\frac{19}{9} & \\frac{27}{13} & \\frac{35}{17} & \\frac{43}{21}\\\\3 & \\frac{13}{6} & \\frac{23}{11} & \\frac{33}{16} & \\frac{43}{21} & \\frac{53}{26}\\end{matrix}\\right]$",
            "text/plain": [
              "⎡3   3     3     3     3     3  ⎤\n",
              "⎢                               ⎥\n",
              "⎢3   3    7/3   9/4   11/5  13/6⎥\n",
              "⎢                               ⎥\n",
              "⎢                            23 ⎥\n",
              "⎢3  7/3   11/5  15/7  19/9   ── ⎥\n",
              "⎢                            11 ⎥\n",
              "⎢                               ⎥\n",
              "⎢                21    27    33 ⎥\n",
              "⎢3  9/4   15/7   ──    ──    ── ⎥\n",
              "⎢                10    13    16 ⎥\n",
              "⎢                               ⎥\n",
              "⎢                27    35    43 ⎥\n",
              "⎢3  11/5  19/9   ──    ──    ── ⎥\n",
              "⎢                13    17    21 ⎥\n",
              "⎢                               ⎥\n",
              "⎢          23    33    43    53 ⎥\n",
              "⎢3  13/6   ──    ──    ──    ── ⎥\n",
              "⎣          11    16    21    26 ⎦"
            ]
          },
          "metadata": {},
          "execution_count": 115
        }
      ]
    },
    {
      "cell_type": "code",
      "source": [
        "P,L,U = PLU(A,1)"
      ],
      "metadata": {
        "id": "QpmBaVOf3mCq"
      },
      "execution_count": 116,
      "outputs": []
    },
    {
      "cell_type": "code",
      "source": [
        "P"
      ],
      "metadata": {
        "colab": {
          "base_uri": "https://localhost:8080/",
          "height": 139
        },
        "outputId": "40edba47-4b06-4f29-d581-fdeaf062951c",
        "id": "l-ZKz9cg3zKB"
      },
      "execution_count": 117,
      "outputs": [
        {
          "output_type": "execute_result",
          "data": {
            "text/latex": "$\\displaystyle \\left[\\begin{matrix}1 & 0 & 0 & 0 & 0 & 0\\\\0 & 1 & 0 & 0 & 0 & 0\\\\0 & 0 & 1 & 0 & 0 & 0\\\\0 & 0 & 0 & 1 & 0 & 0\\\\0 & 0 & 0 & 0 & 1 & 0\\\\0 & 0 & 0 & 0 & 0 & 1\\end{matrix}\\right]$",
            "text/plain": [
              "⎡1  0  0  0  0  0⎤\n",
              "⎢                ⎥\n",
              "⎢0  1  0  0  0  0⎥\n",
              "⎢                ⎥\n",
              "⎢0  0  1  0  0  0⎥\n",
              "⎢                ⎥\n",
              "⎢0  0  0  1  0  0⎥\n",
              "⎢                ⎥\n",
              "⎢0  0  0  0  1  0⎥\n",
              "⎢                ⎥\n",
              "⎣0  0  0  0  0  1⎦"
            ]
          },
          "metadata": {},
          "execution_count": 117
        }
      ]
    },
    {
      "cell_type": "code",
      "source": [
        "L"
      ],
      "metadata": {
        "colab": {
          "base_uri": "https://localhost:8080/",
          "height": 139
        },
        "id": "tEDalj5D3-bm",
        "outputId": "00c22687-dac6-44cc-c399-f81c1391c628"
      },
      "execution_count": 118,
      "outputs": [
        {
          "output_type": "execute_result",
          "data": {
            "text/latex": "$\\displaystyle \\left[\\begin{matrix}1 & 0 & 0 & 0 & 0 & 0\\\\-1 & 1 & 0 & 0 & 0 & 0\\\\-1 & 0 & 1 & 0 & 0 & 0\\\\-1 & 0 & 0 & 1 & 0 & 0\\\\-1 & 0 & 0 & 0 & 1 & 0\\\\-1 & 0 & 0 & 0 & 0 & 1\\end{matrix}\\right]$",
            "text/plain": [
              "⎡1   0  0  0  0  0⎤\n",
              "⎢                 ⎥\n",
              "⎢-1  1  0  0  0  0⎥\n",
              "⎢                 ⎥\n",
              "⎢-1  0  1  0  0  0⎥\n",
              "⎢                 ⎥\n",
              "⎢-1  0  0  1  0  0⎥\n",
              "⎢                 ⎥\n",
              "⎢-1  0  0  0  1  0⎥\n",
              "⎢                 ⎥\n",
              "⎣-1  0  0  0  0  1⎦"
            ]
          },
          "metadata": {},
          "execution_count": 118
        }
      ]
    },
    {
      "cell_type": "code",
      "source": [
        "U"
      ],
      "metadata": {
        "colab": {
          "base_uri": "https://localhost:8080/",
          "height": 139
        },
        "id": "5vcy8msi3_ir",
        "outputId": "5a12a235-e770-4641-847d-963947acd288"
      },
      "execution_count": 119,
      "outputs": [
        {
          "output_type": "execute_result",
          "data": {
            "text/latex": "$\\displaystyle \\left[\\begin{matrix}3 & 3 & 3 & 3 & 3 & 3\\\\0 & 0 & - \\frac{2}{3} & - \\frac{3}{4} & - \\frac{4}{5} & - \\frac{5}{6}\\\\0 & - \\frac{2}{3} & - \\frac{4}{5} & - \\frac{6}{7} & - \\frac{8}{9} & - \\frac{10}{11}\\\\0 & - \\frac{3}{4} & - \\frac{6}{7} & - \\frac{9}{10} & - \\frac{12}{13} & - \\frac{15}{16}\\\\0 & - \\frac{4}{5} & - \\frac{8}{9} & - \\frac{12}{13} & - \\frac{16}{17} & - \\frac{20}{21}\\\\0 & - \\frac{5}{6} & - \\frac{10}{11} & - \\frac{15}{16} & - \\frac{20}{21} & - \\frac{25}{26}\\end{matrix}\\right]$",
            "text/plain": [
              "⎡3   3     3      3     3     3  ⎤\n",
              "⎢                                ⎥\n",
              "⎢0   0    -2/3  -3/4   -4/5  -5/6⎥\n",
              "⎢                                ⎥\n",
              "⎢                            -10 ⎥\n",
              "⎢0  -2/3  -4/5  -6/7   -8/9  ────⎥\n",
              "⎢                             11 ⎥\n",
              "⎢                                ⎥\n",
              "⎢                      -12   -15 ⎥\n",
              "⎢0  -3/4  -6/7  -9/10  ────  ────⎥\n",
              "⎢                       13    16 ⎥\n",
              "⎢                                ⎥\n",
              "⎢               -12    -16   -20 ⎥\n",
              "⎢0  -4/5  -8/9  ────   ────  ────⎥\n",
              "⎢                13     17    21 ⎥\n",
              "⎢                                ⎥\n",
              "⎢         -10   -15    -20   -25 ⎥\n",
              "⎢0  -5/6  ────  ────   ────  ────⎥\n",
              "⎣          11    16     21    26 ⎦"
            ]
          },
          "metadata": {},
          "execution_count": 119
        }
      ]
    },
    {
      "cell_type": "code",
      "source": [
        "P,L,U = PLU(A,2)"
      ],
      "metadata": {
        "id": "MNQAe63E3oJo"
      },
      "execution_count": 120,
      "outputs": []
    },
    {
      "cell_type": "code",
      "source": [
        "P"
      ],
      "metadata": {
        "colab": {
          "base_uri": "https://localhost:8080/",
          "height": 139
        },
        "id": "jjDXHvHP4E2E",
        "outputId": "57e87d03-c797-4fe8-d003-a3894f9020ed"
      },
      "execution_count": 121,
      "outputs": [
        {
          "output_type": "execute_result",
          "data": {
            "text/latex": "$\\displaystyle \\left[\\begin{matrix}1 & 0 & 0 & 0 & 0 & 0\\\\0 & 0 & 0 & 0 & 0 & 1\\\\0 & 0 & 1 & 0 & 0 & 0\\\\0 & 0 & 0 & 1 & 0 & 0\\\\0 & 0 & 0 & 0 & 1 & 0\\\\0 & 1 & 0 & 0 & 0 & 0\\end{matrix}\\right]$",
            "text/plain": [
              "⎡1  0  0  0  0  0⎤\n",
              "⎢                ⎥\n",
              "⎢0  0  0  0  0  1⎥\n",
              "⎢                ⎥\n",
              "⎢0  0  1  0  0  0⎥\n",
              "⎢                ⎥\n",
              "⎢0  0  0  1  0  0⎥\n",
              "⎢                ⎥\n",
              "⎢0  0  0  0  1  0⎥\n",
              "⎢                ⎥\n",
              "⎣0  1  0  0  0  0⎦"
            ]
          },
          "metadata": {},
          "execution_count": 121
        }
      ]
    },
    {
      "cell_type": "code",
      "source": [
        "L"
      ],
      "metadata": {
        "colab": {
          "base_uri": "https://localhost:8080/",
          "height": 139
        },
        "id": "MjqUuewP4Gm0",
        "outputId": "59a35cb8-1a4f-44bc-d0fd-d1d43ed6ea45"
      },
      "execution_count": 122,
      "outputs": [
        {
          "output_type": "execute_result",
          "data": {
            "text/latex": "$\\displaystyle \\left[\\begin{matrix}1 & 0 & 0 & 0 & 0 & 0\\\\-1 & 1 & 0 & 0 & 0 & 0\\\\-1 & - \\frac{4}{5} & 1 & 0 & 0 & 0\\\\-1 & - \\frac{9}{10} & 0 & 1 & 0 & 0\\\\-1 & - \\frac{24}{25} & 0 & 0 & 1 & 0\\\\-1 & 0 & 0 & 0 & 0 & 1\\end{matrix}\\right]$",
            "text/plain": [
              "⎡1     0    0  0  0  0⎤\n",
              "⎢                     ⎥\n",
              "⎢-1    1    0  0  0  0⎥\n",
              "⎢                     ⎥\n",
              "⎢-1  -4/5   1  0  0  0⎥\n",
              "⎢                     ⎥\n",
              "⎢-1  -9/10  0  1  0  0⎥\n",
              "⎢                     ⎥\n",
              "⎢    -24              ⎥\n",
              "⎢-1  ────   0  0  1  0⎥\n",
              "⎢     25              ⎥\n",
              "⎢                     ⎥\n",
              "⎣-1    0    0  0  0  1⎦"
            ]
          },
          "metadata": {},
          "execution_count": 122
        }
      ]
    },
    {
      "cell_type": "code",
      "source": [
        "U"
      ],
      "metadata": {
        "colab": {
          "base_uri": "https://localhost:8080/",
          "height": 139
        },
        "id": "WSPyFWrl4Hz2",
        "outputId": "4a0175d3-adb0-447e-a5ac-c642bd5c8df4"
      },
      "execution_count": 123,
      "outputs": [
        {
          "output_type": "execute_result",
          "data": {
            "text/latex": "$\\displaystyle \\left[\\begin{matrix}3 & 3 & 3 & 3 & 3 & 3\\\\0 & - \\frac{5}{6} & - \\frac{10}{11} & - \\frac{15}{16} & - \\frac{20}{21} & - \\frac{25}{26}\\\\0 & 0 & - \\frac{4}{55} & - \\frac{3}{28} & - \\frac{8}{63} & - \\frac{20}{143}\\\\0 & 0 & - \\frac{3}{77} & - \\frac{9}{160} & - \\frac{6}{91} & - \\frac{15}{208}\\\\0 & 0 & - \\frac{8}{495} & - \\frac{3}{130} & - \\frac{16}{595} & - \\frac{8}{273}\\\\0 & 0 & - \\frac{2}{3} & - \\frac{3}{4} & - \\frac{4}{5} & - \\frac{5}{6}\\end{matrix}\\right]$",
            "text/plain": [
              "⎡3   3      3       3       3      3   ⎤\n",
              "⎢                                      ⎥\n",
              "⎢          -10     -15    -20     -25  ⎥\n",
              "⎢0  -5/6   ────    ────   ────    ──── ⎥\n",
              "⎢           11      16     21      26  ⎥\n",
              "⎢                                      ⎥\n",
              "⎢                                 -20  ⎥\n",
              "⎢0   0    -4/55   -3/28   -8/63   ──── ⎥\n",
              "⎢                                 143  ⎥\n",
              "⎢                                      ⎥\n",
              "⎢                                 -15  ⎥\n",
              "⎢0   0    -3/77   -9/160  -6/91   ──── ⎥\n",
              "⎢                                 208  ⎥\n",
              "⎢                                      ⎥\n",
              "⎢                         -16          ⎥\n",
              "⎢0   0    -8/495  -3/130  ────   -8/273⎥\n",
              "⎢                         595          ⎥\n",
              "⎢                                      ⎥\n",
              "⎣0   0     -2/3    -3/4   -4/5    -5/6 ⎦"
            ]
          },
          "metadata": {},
          "execution_count": 123
        }
      ]
    },
    {
      "cell_type": "code",
      "source": [
        "P,L,U = PLU(A,3)"
      ],
      "metadata": {
        "id": "DSzs0LN33mYU"
      },
      "execution_count": 124,
      "outputs": []
    },
    {
      "cell_type": "code",
      "source": [
        "P"
      ],
      "metadata": {
        "colab": {
          "base_uri": "https://localhost:8080/",
          "height": 139
        },
        "id": "0XpSv-M_4VSW",
        "outputId": "047e0b17-ec17-4262-ee95-72e741b2b59f"
      },
      "execution_count": 125,
      "outputs": [
        {
          "output_type": "execute_result",
          "data": {
            "text/latex": "$\\displaystyle \\left[\\begin{matrix}1 & 0 & 0 & 0 & 0 & 0\\\\0 & 0 & 0 & 0 & 0 & 1\\\\0 & 1 & 0 & 0 & 0 & 0\\\\0 & 0 & 0 & 1 & 0 & 0\\\\0 & 0 & 0 & 0 & 1 & 0\\\\0 & 0 & 1 & 0 & 0 & 0\\end{matrix}\\right]$",
            "text/plain": [
              "⎡1  0  0  0  0  0⎤\n",
              "⎢                ⎥\n",
              "⎢0  0  0  0  0  1⎥\n",
              "⎢                ⎥\n",
              "⎢0  1  0  0  0  0⎥\n",
              "⎢                ⎥\n",
              "⎢0  0  0  1  0  0⎥\n",
              "⎢                ⎥\n",
              "⎢0  0  0  0  1  0⎥\n",
              "⎢                ⎥\n",
              "⎣0  0  1  0  0  0⎦"
            ]
          },
          "metadata": {},
          "execution_count": 125
        }
      ]
    },
    {
      "cell_type": "code",
      "source": [
        "L"
      ],
      "metadata": {
        "colab": {
          "base_uri": "https://localhost:8080/",
          "height": 139
        },
        "id": "Qd8qheQQ4WAM",
        "outputId": "6cdf2305-cef8-47fe-8d06-653c4ffd9da0"
      },
      "execution_count": 126,
      "outputs": [
        {
          "output_type": "execute_result",
          "data": {
            "text/latex": "$\\displaystyle \\left[\\begin{matrix}1 & 0 & 0 & 0 & 0 & 0\\\\-1 & 1 & 0 & 0 & 0 & 0\\\\-1 & 0 & 1 & 0 & 0 & 0\\\\-1 & - \\frac{9}{10} & - \\frac{9}{154} & 1 & 0 & 0\\\\-1 & - \\frac{24}{25} & - \\frac{4}{165} & 0 & 1 & 0\\\\-1 & - \\frac{4}{5} & - \\frac{6}{55} & 0 & 0 & 1\\end{matrix}\\right]$",
            "text/plain": [
              "⎡1     0      0     0  0  0⎤\n",
              "⎢                          ⎥\n",
              "⎢-1    1      0     0  0  0⎥\n",
              "⎢                          ⎥\n",
              "⎢-1    0      1     0  0  0⎥\n",
              "⎢                          ⎥\n",
              "⎢-1  -9/10  -9/154  1  0  0⎥\n",
              "⎢                          ⎥\n",
              "⎢    -24                   ⎥\n",
              "⎢-1  ────   -4/165  0  1  0⎥\n",
              "⎢     25                   ⎥\n",
              "⎢                          ⎥\n",
              "⎣-1  -4/5   -6/55   0  0  1⎦"
            ]
          },
          "metadata": {},
          "execution_count": 126
        }
      ]
    },
    {
      "cell_type": "code",
      "source": [
        "U"
      ],
      "metadata": {
        "colab": {
          "base_uri": "https://localhost:8080/",
          "height": 139
        },
        "id": "m3ccUX6f4Yhz",
        "outputId": "2800c1f7-66dc-40b1-fbfa-385f7e9d56dd"
      },
      "execution_count": 127,
      "outputs": [
        {
          "output_type": "execute_result",
          "data": {
            "text/latex": "$\\displaystyle \\left[\\begin{matrix}3 & 3 & 3 & 3 & 3 & 3\\\\0 & - \\frac{5}{6} & - \\frac{10}{11} & - \\frac{15}{16} & - \\frac{20}{21} & - \\frac{25}{26}\\\\0 & 0 & - \\frac{2}{3} & - \\frac{3}{4} & - \\frac{4}{5} & - \\frac{5}{6}\\\\0 & 0 & 0 & - \\frac{153}{12320} & - \\frac{96}{5005} & - \\frac{375}{16016}\\\\0 & 0 & 0 & - \\frac{7}{1430} & - \\frac{736}{98175} & - \\frac{82}{9009}\\\\0 & 0 & 0 & - \\frac{39}{1540} & - \\frac{688}{17325} & - \\frac{7}{143}\\end{matrix}\\right]$",
            "text/plain": [
              "⎡3   3     3       3       3      3   ⎤\n",
              "⎢                                     ⎥\n",
              "⎢         -10    -15     -20     -25  ⎥\n",
              "⎢0  -5/6  ────   ────    ────    ──── ⎥\n",
              "⎢          11     16      21      26  ⎥\n",
              "⎢                                     ⎥\n",
              "⎢0   0    -2/3   -3/4    -4/5    -5/6 ⎥\n",
              "⎢                                     ⎥\n",
              "⎢                -153    -96    -375  ⎥\n",
              "⎢0   0     0     ─────   ────   ───── ⎥\n",
              "⎢                12320   5005   16016 ⎥\n",
              "⎢                                     ⎥\n",
              "⎢                        -736    -82  ⎥\n",
              "⎢0   0     0    -7/1430  ─────   ──── ⎥\n",
              "⎢                        98175   9009 ⎥\n",
              "⎢                                     ⎥\n",
              "⎢                -39     -688         ⎥\n",
              "⎢0   0     0     ────    ─────  -7/143⎥\n",
              "⎣                1540    17325        ⎦"
            ]
          },
          "metadata": {},
          "execution_count": 127
        }
      ]
    },
    {
      "cell_type": "code",
      "source": [
        "P,L,U = PLU(A,4)"
      ],
      "metadata": {
        "id": "jpBFLp-L3mfd"
      },
      "execution_count": 128,
      "outputs": []
    },
    {
      "cell_type": "code",
      "source": [
        "P"
      ],
      "metadata": {
        "colab": {
          "base_uri": "https://localhost:8080/",
          "height": 139
        },
        "outputId": "bb85c565-f84c-45ee-e1f4-7943ef6a25ee",
        "id": "ksFa4z0g3zYG"
      },
      "execution_count": 129,
      "outputs": [
        {
          "output_type": "execute_result",
          "data": {
            "text/latex": "$\\displaystyle \\left[\\begin{matrix}1 & 0 & 0 & 0 & 0 & 0\\\\0 & 0 & 0 & 0 & 0 & 1\\\\0 & 1 & 0 & 0 & 0 & 0\\\\0 & 0 & 1 & 0 & 0 & 0\\\\0 & 0 & 0 & 0 & 1 & 0\\\\0 & 0 & 0 & 1 & 0 & 0\\end{matrix}\\right]$",
            "text/plain": [
              "⎡1  0  0  0  0  0⎤\n",
              "⎢                ⎥\n",
              "⎢0  0  0  0  0  1⎥\n",
              "⎢                ⎥\n",
              "⎢0  1  0  0  0  0⎥\n",
              "⎢                ⎥\n",
              "⎢0  0  1  0  0  0⎥\n",
              "⎢                ⎥\n",
              "⎢0  0  0  0  1  0⎥\n",
              "⎢                ⎥\n",
              "⎣0  0  0  1  0  0⎦"
            ]
          },
          "metadata": {},
          "execution_count": 129
        }
      ]
    },
    {
      "cell_type": "code",
      "source": [
        "L"
      ],
      "metadata": {
        "colab": {
          "base_uri": "https://localhost:8080/",
          "height": 139
        },
        "outputId": "e48493b0-01da-4397-809a-3302d4dd25df",
        "id": "I3G1R_Yj3zf1"
      },
      "execution_count": 130,
      "outputs": [
        {
          "output_type": "execute_result",
          "data": {
            "text/latex": "$\\displaystyle \\left[\\begin{matrix}1 & 0 & 0 & 0 & 0 & 0\\\\-1 & 1 & 0 & 0 & 0 & 0\\\\-1 & 0 & 1 & 0 & 0 & 0\\\\-1 & - \\frac{4}{5} & - \\frac{6}{55} & 1 & 0 & 0\\\\-1 & - \\frac{24}{25} & - \\frac{4}{165} & - \\frac{98}{507} & 1 & 0\\\\-1 & - \\frac{9}{10} & - \\frac{9}{154} & - \\frac{51}{104} & 0 & 1\\end{matrix}\\right]$",
            "text/plain": [
              "⎡1     0      0      0    0  0⎤\n",
              "⎢                             ⎥\n",
              "⎢-1    1      0      0    0  0⎥\n",
              "⎢                             ⎥\n",
              "⎢-1    0      1      0    0  0⎥\n",
              "⎢                             ⎥\n",
              "⎢-1  -4/5   -6/55    1    0  0⎥\n",
              "⎢                             ⎥\n",
              "⎢    -24            -98       ⎥\n",
              "⎢-1  ────   -4/165  ────  1  0⎥\n",
              "⎢     25            507       ⎥\n",
              "⎢                             ⎥\n",
              "⎢                   -51       ⎥\n",
              "⎢-1  -9/10  -9/154  ────  0  1⎥\n",
              "⎣                   104       ⎦"
            ]
          },
          "metadata": {},
          "execution_count": 130
        }
      ]
    },
    {
      "cell_type": "code",
      "source": [
        "U"
      ],
      "metadata": {
        "colab": {
          "base_uri": "https://localhost:8080/",
          "height": 139
        },
        "outputId": "30c5872e-add8-4cbe-b043-549dc581df11",
        "id": "SXUKqT8Q3zo5"
      },
      "execution_count": 131,
      "outputs": [
        {
          "output_type": "execute_result",
          "data": {
            "text/latex": "$\\displaystyle \\left[\\begin{matrix}3 & 3 & 3 & 3 & 3 & 3\\\\0 & - \\frac{5}{6} & - \\frac{10}{11} & - \\frac{15}{16} & - \\frac{20}{21} & - \\frac{25}{26}\\\\0 & 0 & - \\frac{2}{3} & - \\frac{3}{4} & - \\frac{4}{5} & - \\frac{5}{6}\\\\0 & 0 & 0 & - \\frac{39}{1540} & - \\frac{688}{17325} & - \\frac{7}{143}\\\\0 & 0 & 0 & 0 & \\frac{2432}{13574925} & \\frac{548}{1522521}\\\\0 & 0 & 0 & 0 & \\frac{2}{6825} & \\frac{123}{208208}\\end{matrix}\\right]$",
            "text/plain": [
              "⎡3   3     3     3       3         3   ⎤\n",
              "⎢                                      ⎥\n",
              "⎢         -10   -15     -20      -25   ⎥\n",
              "⎢0  -5/6  ────  ────    ────     ────  ⎥\n",
              "⎢          11    16      21       26   ⎥\n",
              "⎢                                      ⎥\n",
              "⎢0   0    -2/3  -3/4    -4/5     -5/6  ⎥\n",
              "⎢                                      ⎥\n",
              "⎢               -39    -688            ⎥\n",
              "⎢0   0     0    ────   ─────    -7/143 ⎥\n",
              "⎢               1540   17325           ⎥\n",
              "⎢                                      ⎥\n",
              "⎢                       2432      548  ⎥\n",
              "⎢0   0     0     0    ────────  ───────⎥\n",
              "⎢                     13574925  1522521⎥\n",
              "⎢                                      ⎥\n",
              "⎢                                123   ⎥\n",
              "⎢0   0     0     0     2/6825   ────── ⎥\n",
              "⎣                               208208 ⎦"
            ]
          },
          "metadata": {},
          "execution_count": 131
        }
      ]
    },
    {
      "cell_type": "code",
      "source": [
        "P,L,U = PLU(A,5)"
      ],
      "metadata": {
        "id": "HcG_6dUr4jzs"
      },
      "execution_count": 132,
      "outputs": []
    },
    {
      "cell_type": "code",
      "source": [
        "P"
      ],
      "metadata": {
        "colab": {
          "base_uri": "https://localhost:8080/",
          "height": 139
        },
        "id": "qnH2JLRu4mM1",
        "outputId": "15394bd9-e6cd-4894-aae1-3012f89dd6ab"
      },
      "execution_count": 133,
      "outputs": [
        {
          "output_type": "execute_result",
          "data": {
            "text/latex": "$\\displaystyle \\left[\\begin{matrix}1 & 0 & 0 & 0 & 0 & 0\\\\0 & 0 & 0 & 0 & 0 & 1\\\\0 & 1 & 0 & 0 & 0 & 0\\\\0 & 0 & 1 & 0 & 0 & 0\\\\0 & 0 & 0 & 1 & 0 & 0\\\\0 & 0 & 0 & 0 & 1 & 0\\end{matrix}\\right]$",
            "text/plain": [
              "⎡1  0  0  0  0  0⎤\n",
              "⎢                ⎥\n",
              "⎢0  0  0  0  0  1⎥\n",
              "⎢                ⎥\n",
              "⎢0  1  0  0  0  0⎥\n",
              "⎢                ⎥\n",
              "⎢0  0  1  0  0  0⎥\n",
              "⎢                ⎥\n",
              "⎢0  0  0  1  0  0⎥\n",
              "⎢                ⎥\n",
              "⎣0  0  0  0  1  0⎦"
            ]
          },
          "metadata": {},
          "execution_count": 133
        }
      ]
    },
    {
      "cell_type": "code",
      "source": [
        "L"
      ],
      "metadata": {
        "colab": {
          "base_uri": "https://localhost:8080/",
          "height": 139
        },
        "id": "5mBFJUhZ4mu9",
        "outputId": "3c92fb42-2839-400c-f6ee-6ae5a0089646"
      },
      "execution_count": 134,
      "outputs": [
        {
          "output_type": "execute_result",
          "data": {
            "text/latex": "$\\displaystyle \\left[\\begin{matrix}1 & 0 & 0 & 0 & 0 & 0\\\\-1 & 1 & 0 & 0 & 0 & 0\\\\-1 & 0 & 1 & 0 & 0 & 0\\\\-1 & - \\frac{4}{5} & - \\frac{6}{55} & 1 & 0 & 0\\\\-1 & - \\frac{9}{10} & - \\frac{9}{154} & - \\frac{51}{104} & 1 & 0\\\\-1 & - \\frac{24}{25} & - \\frac{4}{165} & - \\frac{98}{507} & - \\frac{1216}{1989} & 1\\end{matrix}\\right]$",
            "text/plain": [
              "⎡1     0      0      0      0     0⎤\n",
              "⎢                                  ⎥\n",
              "⎢-1    1      0      0      0     0⎥\n",
              "⎢                                  ⎥\n",
              "⎢-1    0      1      0      0     0⎥\n",
              "⎢                                  ⎥\n",
              "⎢-1  -4/5   -6/55    1      0     0⎥\n",
              "⎢                                  ⎥\n",
              "⎢                   -51            ⎥\n",
              "⎢-1  -9/10  -9/154  ────    1     0⎥\n",
              "⎢                   104            ⎥\n",
              "⎢                                  ⎥\n",
              "⎢    -24            -98   -1216    ⎥\n",
              "⎢-1  ────   -4/165  ────  ──────  1⎥\n",
              "⎣     25            507    1989    ⎦"
            ]
          },
          "metadata": {},
          "execution_count": 134
        }
      ]
    },
    {
      "cell_type": "code",
      "source": [
        "U"
      ],
      "metadata": {
        "colab": {
          "base_uri": "https://localhost:8080/",
          "height": 139
        },
        "id": "gnrlu8H_4nhE",
        "outputId": "172b6cc6-cd2d-47a0-b2c3-4a9eb928f10c"
      },
      "execution_count": 135,
      "outputs": [
        {
          "output_type": "execute_result",
          "data": {
            "text/latex": "$\\displaystyle \\left[\\begin{matrix}3 & 3 & 3 & 3 & 3 & 3\\\\0 & - \\frac{5}{6} & - \\frac{10}{11} & - \\frac{15}{16} & - \\frac{20}{21} & - \\frac{25}{26}\\\\0 & 0 & - \\frac{2}{3} & - \\frac{3}{4} & - \\frac{4}{5} & - \\frac{5}{6}\\\\0 & 0 & 0 & - \\frac{39}{1540} & - \\frac{688}{17325} & - \\frac{7}{143}\\\\0 & 0 & 0 & 0 & \\frac{2}{6825} & \\frac{123}{208208}\\\\0 & 0 & 0 & 0 & 0 & - \\frac{32}{25882857}\\end{matrix}\\right]$",
            "text/plain": [
              "⎡3   3     3     3      3        3    ⎤\n",
              "⎢                                     ⎥\n",
              "⎢         -10   -15    -20      -25   ⎥\n",
              "⎢0  -5/6  ────  ────   ────     ────  ⎥\n",
              "⎢          11    16     21       26   ⎥\n",
              "⎢                                     ⎥\n",
              "⎢0   0    -2/3  -3/4   -4/5     -5/6  ⎥\n",
              "⎢                                     ⎥\n",
              "⎢               -39   -688            ⎥\n",
              "⎢0   0     0    ────  ─────    -7/143 ⎥\n",
              "⎢               1540  17325           ⎥\n",
              "⎢                                     ⎥\n",
              "⎢                               123   ⎥\n",
              "⎢0   0     0     0    2/6825   ────── ⎥\n",
              "⎢                              208208 ⎥\n",
              "⎢                                     ⎥\n",
              "⎢                               -32   ⎥\n",
              "⎢0   0     0     0      0     ────────⎥\n",
              "⎣                             25882857⎦"
            ]
          },
          "metadata": {},
          "execution_count": 135
        }
      ]
    },
    {
      "cell_type": "code",
      "source": [
        "from sympy import  N\n",
        "N(U)\n"
      ],
      "metadata": {
        "colab": {
          "base_uri": "https://localhost:8080/",
          "height": 139
        },
        "id": "oy9KqpN85ecV",
        "outputId": "4d25728e-b23c-41fd-b8e6-f05562076348"
      },
      "execution_count": 136,
      "outputs": [
        {
          "output_type": "execute_result",
          "data": {
            "text/latex": "$\\displaystyle \\left[\\begin{matrix}3.0 & 3.0 & 3.0 & 3.0 & 3.0 & 3.0\\\\0 & -0.833333333333333 & -0.909090909090909 & -0.9375 & -0.952380952380952 & -0.961538461538462\\\\0 & 0 & -0.666666666666667 & -0.75 & -0.8 & -0.833333333333333\\\\0 & 0 & 0 & -0.0253246753246753 & -0.0397113997113997 & -0.048951048951049\\\\0 & 0 & 0 & 0 & 0.000293040293040293 & 0.000590755398447706\\\\0 & 0 & 0 & 0 & 0 & -1.23633955865073 \\cdot 10^{-6}\\end{matrix}\\right]$",
            "text/plain": [
              "⎡3.0         3.0                 3.0                  3.0                  3.0\n",
              "⎢                                                                             \n",
              "⎢ 0   -0.833333333333333  -0.909090909090909        -0.9375         -0.9523809\n",
              "⎢                                                                             \n",
              "⎢ 0           0           -0.666666666666667         -0.75                 -0.\n",
              "⎢                                                                             \n",
              "⎢ 0           0                   0           -0.0253246753246753  -0.03971139\n",
              "⎢                                                                             \n",
              "⎢ 0           0                   0                    0           0.000293040\n",
              "⎢                                                                             \n",
              "⎣ 0           0                   0                    0                    0 \n",
              "\n",
              "                   3.0         ⎤\n",
              "                               ⎥\n",
              "52380952    -0.961538461538462 ⎥\n",
              "                               ⎥\n",
              "8           -0.833333333333333 ⎥\n",
              "                               ⎥\n",
              "97113997    -0.048951048951049 ⎥\n",
              "                               ⎥\n",
              "293040293  0.000590755398447706⎥\n",
              "                               ⎥\n",
              "           -1.23633955865073e-6⎦"
            ]
          },
          "metadata": {},
          "execution_count": 136
        }
      ]
    }
  ]
}